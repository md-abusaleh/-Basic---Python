{
  "cells": [
    {
      "cell_type": "markdown",
      "metadata": {
        "id": "gLST5DnmBc_o"
      },
      "source": [
        "                                             ▶ LIST IN PYTHON:\n",
        "                     \n"
      ]
    },
    {
      "cell_type": "code",
      "execution_count": null,
      "metadata": {
        "colab": {
          "base_uri": "https://localhost:8080/"
        },
        "id": "rq-Bbt1EByVT",
        "outputId": "4986d7d0-e652-4cb8-9968-b1f32b2a2db8"
      },
      "outputs": [
        {
          "name": "stdout",
          "output_type": "stream",
          "text": [
            "['apple', 'python', 'mango', 'banana']\n"
          ]
        }
      ],
      "source": [
        "#creat a list \n",
        "thisclass=[\"apple\",\"python\",\"mango\",\"banana\"]\n",
        "print(thisclass)"
      ]
    },
    {
      "cell_type": "markdown",
      "metadata": {
        "id": "ASH4eS2JDXFJ"
      },
      "source": [
        "List:\n",
        "\n",
        "\n",
        "1.Lists are used to store multiple items in a single variable.\n",
        "\n",
        "2.Lists are one of 4 built-in data types in Python used to store collections of data, the other 3 are Tuple, Set, and Dictionary, all with different qualities and usage."
      ]
    },
    {
      "cell_type": "code",
      "execution_count": null,
      "metadata": {
        "colab": {
          "base_uri": "https://localhost:8080/"
        },
        "id": "aiETMG-TDgvs",
        "outputId": "dc09dd8e-6227-4287-ab18-da5560be5ec4"
      },
      "outputs": [
        {
          "name": "stdout",
          "output_type": "stream",
          "text": [
            "['apple', 'mango', 'tree', 'apple']\n"
          ]
        }
      ],
      "source": [
        "#list allow diplicate value\n",
        "thisclass=[\"apple\",\"mango\",\"tree\",\"apple\"]\n",
        "print(thisclass)"
      ]
    },
    {
      "cell_type": "code",
      "execution_count": null,
      "metadata": {
        "colab": {
          "base_uri": "https://localhost:8080/"
        },
        "id": "RwhStF6vD4SC",
        "outputId": "7044f140-8b09-4d08-e6b7-cb571b66653e"
      },
      "outputs": [
        {
          "name": "stdout",
          "output_type": "stream",
          "text": [
            "4\n"
          ]
        }
      ],
      "source": [
        "#print the number of the list item number \n",
        "thisclass=[\"apple\",\"mango\",\"tree\",\"apple\"]\n",
        "print(len(thisclass))"
      ]
    },
    {
      "cell_type": "markdown",
      "metadata": {
        "id": "E1wVX-HlEgz3"
      },
      "source": [
        "                    List Items - Data Types"
      ]
    },
    {
      "cell_type": "code",
      "execution_count": null,
      "metadata": {
        "colab": {
          "base_uri": "https://localhost:8080/"
        },
        "id": "9ooGeOChEYCb",
        "outputId": "29fc12af-b679-4cbf-d80c-0750d3521463"
      },
      "outputs": [
        {
          "name": "stdout",
          "output_type": "stream",
          "text": [
            "['apple', 'banana', 'cherry']\n",
            "[1, 5, 7, 9, 3]\n",
            "[True, False, False]\n"
          ]
        }
      ],
      "source": [
        "#String, int and boolean data types\n",
        "list1 = [\"apple\", \"banana\", \"cherry\"] #string\n",
        "list2 = [1, 5, 7, 9, 3]               #int\n",
        "list3 = [True, False, False] # boolean\n",
        "\n",
        "print(list1)\n",
        "print(list2)\n",
        "print(list3)\n"
      ]
    },
    {
      "cell_type": "code",
      "execution_count": null,
      "metadata": {
        "colab": {
          "base_uri": "https://localhost:8080/"
        },
        "id": "hCo_h7fMFCFO",
        "outputId": "0045a273-1505-4034-f06b-38c09dfed8c0"
      },
      "outputs": [
        {
          "name": "stdout",
          "output_type": "stream",
          "text": [
            "['apple', 10, True, 'fruits']\n"
          ]
        }
      ],
      "source": [
        "# a lsit with str,int,boolean value print\n",
        "thislist=[\"apple\",10,True,\"fruits\"]\n",
        "print(thislist)"
      ]
    },
    {
      "cell_type": "code",
      "execution_count": null,
      "metadata": {
        "colab": {
          "base_uri": "https://localhost:8080/"
        },
        "id": "wTiJV4S7Fx_l",
        "outputId": "fef7a126-b196-4246-d878-a956fe64914b"
      },
      "outputs": [
        {
          "name": "stdout",
          "output_type": "stream",
          "text": [
            "<class 'list'>\n"
          ]
        }
      ],
      "source": [
        "#Type\n",
        "thislist=[\"appple\",\"mango\",\"egg\"]\n",
        "print(type(thislist))"
      ]
    },
    {
      "cell_type": "code",
      "execution_count": null,
      "metadata": {
        "colab": {
          "base_uri": "https://localhost:8080/"
        },
        "id": "M0NIUhStGjjl",
        "outputId": "87a9917f-86cd-4dc6-f5ca-d3f2a0f0615a"
      },
      "outputs": [
        {
          "name": "stdout",
          "output_type": "stream",
          "text": [
            "['apple', 'banana', 'cherry']\n"
          ]
        }
      ],
      "source": [
        "#using list() to make a constructor \n",
        "thislist = list((\"apple\", \"banana\", \"cherry\")) # note the double round-brackets\n",
        "print(thislist)"
      ]
    },
    {
      "cell_type": "markdown",
      "metadata": {
        "id": "is7lgRkXHX2M"
      },
      "source": [
        "\n",
        "Python - Access List Items\n"
      ]
    },
    {
      "cell_type": "code",
      "execution_count": null,
      "metadata": {
        "colab": {
          "base_uri": "https://localhost:8080/"
        },
        "id": "AmrzMnO3Hbn4",
        "outputId": "79448010-9173-410b-f4b3-bf685dd1e14b"
      },
      "outputs": [
        {
          "name": "stdout",
          "output_type": "stream",
          "text": [
            "banana\n"
          ]
        }
      ],
      "source": [
        "#Print the second item of the list:\n",
        "\n",
        "thislist = [\"apple\", \"banana\", \"cherry\"]\n",
        "print(thislist[1])"
      ]
    },
    {
      "cell_type": "code",
      "execution_count": null,
      "metadata": {
        "colab": {
          "base_uri": "https://localhost:8080/"
        },
        "id": "IOI2jSLwHkJW",
        "outputId": "56a21298-56f8-41b1-8d7e-96db524c5d57"
      },
      "outputs": [
        {
          "name": "stdout",
          "output_type": "stream",
          "text": [
            "cherry\n"
          ]
        }
      ],
      "source": [
        "#Print the last item of the list:\n",
        "\n",
        "thislist = [\"apple\", \"banana\", \"cherry\"]\n",
        "print(thislist[-1])"
      ]
    },
    {
      "cell_type": "code",
      "execution_count": null,
      "metadata": {
        "colab": {
          "base_uri": "https://localhost:8080/"
        },
        "id": "NCb9DvE7HxIs",
        "outputId": "bf3a5b92-d574-4f9e-a87d-82a6ac57ee14"
      },
      "outputs": [
        {
          "name": "stdout",
          "output_type": "stream",
          "text": [
            "['cherry', 'orange', 'kiwi']\n"
          ]
        }
      ],
      "source": [
        "#Return the third, fourth, and fifth item:\n",
        "\n",
        "thislist = [\"apple\", \"banana\", \"cherry\", \"orange\", \"kiwi\", \"melon\", \"mango\"]\n",
        "print(thislist[2:5])"
      ]
    },
    {
      "cell_type": "code",
      "execution_count": null,
      "metadata": {
        "colab": {
          "base_uri": "https://localhost:8080/"
        },
        "id": "Pa8JmUq3H43G",
        "outputId": "6a09960f-24e6-4644-8c65-08cb76768589"
      },
      "outputs": [
        {
          "name": "stdout",
          "output_type": "stream",
          "text": [
            "['apple', 'banana', 'cherry', 'orange']\n"
          ]
        }
      ],
      "source": [
        "#This example returns the items from the beginning to, but NOT including, \"kiwi\"\n",
        "\n",
        "thislist = [\"apple\", \"banana\", \"cherry\", \"orange\", \"kiwi\", \"melon\", \"mango\"]\n",
        "print(thislist[:4])"
      ]
    },
    {
      "cell_type": "code",
      "execution_count": null,
      "metadata": {
        "colab": {
          "base_uri": "https://localhost:8080/"
        },
        "id": "vuc0hmq4IBl_",
        "outputId": "7788a23e-0ee8-4ba7-f1f8-9428613e4891"
      },
      "outputs": [
        {
          "name": "stdout",
          "output_type": "stream",
          "text": [
            "['cherry', 'orange', 'kiwi', 'melon', 'mango']\n"
          ]
        }
      ],
      "source": [
        "#This example returns the items from \"cherry\" to the end\n",
        "\n",
        "thislist = [\"apple\", \"banana\", \"cherry\", \"orange\", \"kiwi\", \"melon\", \"mango\"]\n",
        "print(thislist[2:])"
      ]
    },
    {
      "cell_type": "code",
      "execution_count": null,
      "metadata": {
        "colab": {
          "base_uri": "https://localhost:8080/"
        },
        "id": "W1AfmZDgIMbF",
        "outputId": "5a67b9c1-096e-4fe9-b255-4a80d3942542"
      },
      "outputs": [
        {
          "name": "stdout",
          "output_type": "stream",
          "text": [
            "['orange', 'kiwi', 'melon']\n"
          ]
        }
      ],
      "source": [
        "#This example returns the items from \"orange\" (-4) to, but NOT including \"mango\" (-1)\n",
        "\n",
        "thislist = [\"apple\", \"banana\", \"cherry\", \"orange\", \"kiwi\", \"melon\", \"mango\"]\n",
        "print(thislist[-4:-1])"
      ]
    },
    {
      "cell_type": "code",
      "execution_count": null,
      "metadata": {
        "colab": {
          "base_uri": "https://localhost:8080/"
        },
        "id": "A6_TKfGSJQ79",
        "outputId": "1cb94144-b317-4ffb-c8c8-df573aae10d6"
      },
      "outputs": [
        {
          "name": "stdout",
          "output_type": "stream",
          "text": [
            "Yes, 'apple' is in the fruits list\n"
          ]
        }
      ],
      "source": [
        "#Check if \"apple\" is present in the list\n",
        "\n",
        "thislist = [\"apple\", \"banana\", \"cherry\"]\n",
        "if \"apple\" in thislist:\n",
        "  print(\"Yes, 'apple' is in the fruits list\")\n"
      ]
    },
    {
      "cell_type": "markdown",
      "metadata": {
        "id": "h2r0pwxlJeu9"
      },
      "source": [
        "                             Python - Change List Items\n"
      ]
    },
    {
      "cell_type": "code",
      "execution_count": null,
      "metadata": {
        "colab": {
          "base_uri": "https://localhost:8080/"
        },
        "id": "7opf3KdaJf-S",
        "outputId": "86654fe7-0a52-41e2-b729-df1a4f8a3061"
      },
      "outputs": [
        {
          "name": "stdout",
          "output_type": "stream",
          "text": [
            "['apple', 'blackcurrant', 'cherry']\n"
          ]
        }
      ],
      "source": [
        "#Change the second item:\n",
        "\n",
        "thislist = [\"apple\", \"banana\", \"cherry\"]\n",
        "thislist[1] = \"blackcurrant\"\n",
        "print(thislist)"
      ]
    },
    {
      "cell_type": "code",
      "execution_count": null,
      "metadata": {
        "colab": {
          "base_uri": "https://localhost:8080/"
        },
        "id": "klgobvD0Jpd1",
        "outputId": "d52a6676-a4d3-4e65-d06c-9f28afdfb0c4"
      },
      "outputs": [
        {
          "name": "stdout",
          "output_type": "stream",
          "text": [
            "['apple', 'blackcurrant', 'watermelon', 'orange', 'kiwi', 'mango']\n"
          ]
        }
      ],
      "source": [
        "#Change the values \"banana\" and \"cherry\" with the values \"blackcurrant\" and \"watermelon\"\n",
        "\n",
        "thislist = [\"apple\", \"banana\", \"cherry\", \"orange\", \"kiwi\", \"mango\"]\n",
        "thislist[1:3] = [\"blackcurrant\", \"watermelon\"]\n",
        "print(thislist)"
      ]
    },
    {
      "cell_type": "code",
      "execution_count": null,
      "metadata": {
        "colab": {
          "base_uri": "https://localhost:8080/"
        },
        "id": "w2VuTpRUKFKt",
        "outputId": "1ee44d47-aa11-41aa-8bee-d5b02942e919"
      },
      "outputs": [
        {
          "name": "stdout",
          "output_type": "stream",
          "text": [
            "['apple', 'watermelon']\n"
          ]
        }
      ],
      "source": [
        "#Change the second and third value by replacing it with one value\n",
        "\n",
        "thislist = [\"apple\", \"banana\", \"cherry\"]\n",
        "thislist[1:3] = [\"watermelon\"]\n",
        "print(thislist)"
      ]
    },
    {
      "cell_type": "code",
      "execution_count": null,
      "metadata": {
        "colab": {
          "base_uri": "https://localhost:8080/"
        },
        "id": "CORD_9xVKIOM",
        "outputId": "3c771d05-05b5-47e3-b8c1-16beda0250c7"
      },
      "outputs": [
        {
          "name": "stdout",
          "output_type": "stream",
          "text": [
            "['apple', 'banana', 'watermelon', 'cherry']\n"
          ]
        }
      ],
      "source": [
        "#Insert \"watermelon\" as the third item:\n",
        "\n",
        "thislist = [\"apple\", \"banana\", \"cherry\"]\n",
        "thislist.insert(2, \"watermelon\")\n",
        "print(thislist)"
      ]
    },
    {
      "cell_type": "markdown",
      "metadata": {
        "id": "U7g10_AtKZAY"
      },
      "source": [
        "                                       Python - Add List Items\n"
      ]
    },
    {
      "cell_type": "code",
      "execution_count": null,
      "metadata": {
        "colab": {
          "base_uri": "https://localhost:8080/"
        },
        "id": "Shd37neXKaGw",
        "outputId": "2143a8a6-32e1-40c3-97b4-09373f94f527"
      },
      "outputs": [
        {
          "name": "stdout",
          "output_type": "stream",
          "text": [
            "['apple', 'banana', 'cherry', 'orange']\n"
          ]
        }
      ],
      "source": [
        "#Using the append() method to append an item\n",
        "\n",
        "thislist = [\"apple\", \"banana\", \"cherry\"]\n",
        "thislist.append(\"orange\")\n",
        "print(thislist)"
      ]
    },
    {
      "cell_type": "code",
      "execution_count": null,
      "metadata": {
        "colab": {
          "base_uri": "https://localhost:8080/"
        },
        "id": "0iAyVbChKf1b",
        "outputId": "cc4c4599-22a7-427d-8422-be84057b9c90"
      },
      "outputs": [
        {
          "name": "stdout",
          "output_type": "stream",
          "text": [
            "['apple', 'orange', 'banana', 'cherry']\n"
          ]
        }
      ],
      "source": [
        "#Insert an item as the second position\n",
        "\n",
        "thislist = [\"apple\", \"banana\", \"cherry\"]\n",
        "thislist.insert(1, \"orange\")\n",
        "print(thislist)"
      ]
    },
    {
      "cell_type": "code",
      "execution_count": null,
      "metadata": {
        "colab": {
          "base_uri": "https://localhost:8080/"
        },
        "id": "lcLVDrKuKoYi",
        "outputId": "9c8182ac-3d79-4a30-d64c-90b5299cbe88"
      },
      "outputs": [
        {
          "name": "stdout",
          "output_type": "stream",
          "text": [
            "['apple', 'banana', 'cherry', 'mango', 'pineapple', 'papaya']\n"
          ]
        }
      ],
      "source": [
        "#Add the elements of tropical to thislist\n",
        "\n",
        "thislist = [\"apple\", \"banana\", \"cherry\"]\n",
        "tropical = [\"mango\", \"pineapple\", \"papaya\"]\n",
        "thislist.extend(tropical)\n",
        "print(thislist)"
      ]
    },
    {
      "cell_type": "code",
      "execution_count": null,
      "metadata": {
        "colab": {
          "base_uri": "https://localhost:8080/"
        },
        "id": "O-m7kdFmKwyh",
        "outputId": "8aceb97a-01da-4ab9-96c4-ba67606c7140"
      },
      "outputs": [
        {
          "name": "stdout",
          "output_type": "stream",
          "text": [
            "['apple', 'banana', 'cherry', 'kiwi', 'orange']\n"
          ]
        }
      ],
      "source": [
        "#Add elements of a tuple to a list:\n",
        "\n",
        "thislist = [\"apple\", \"banana\", \"cherry\"]\n",
        "thistuple = (\"kiwi\", \"orange\")\n",
        "thislist.extend(thistuple)\n",
        "print(thislist)"
      ]
    },
    {
      "cell_type": "markdown",
      "metadata": {
        "id": "niOvNQCOLNhY"
      },
      "source": [
        "Python - Remove List Items\n"
      ]
    },
    {
      "cell_type": "code",
      "execution_count": null,
      "metadata": {
        "colab": {
          "base_uri": "https://localhost:8080/"
        },
        "id": "8WCRSqxNLOfZ",
        "outputId": "9d8477b7-aa8e-42a8-9025-8c11a646507a"
      },
      "outputs": [
        {
          "name": "stdout",
          "output_type": "stream",
          "text": [
            "['apple', 'cherry']\n"
          ]
        }
      ],
      "source": [
        "#Remove \"banana\":\n",
        "\n",
        "thislist = [\"apple\", \"banana\", \"cherry\"]\n",
        "thislist.remove(\"banana\")\n",
        "print(thislist)"
      ]
    },
    {
      "cell_type": "code",
      "execution_count": null,
      "metadata": {
        "colab": {
          "base_uri": "https://localhost:8080/"
        },
        "id": "ECtKr8dmLU1d",
        "outputId": "b34fd71c-b2f8-4608-c737-3385c06d1c11"
      },
      "outputs": [
        {
          "name": "stdout",
          "output_type": "stream",
          "text": [
            "['apple', 'cherry']\n"
          ]
        }
      ],
      "source": [
        "#Remove the second item:\n",
        "\n",
        "thislist = [\"apple\", \"banana\", \"cherry\"]\n",
        "thislist.pop(1)\n",
        "print(thislist)"
      ]
    },
    {
      "cell_type": "code",
      "execution_count": null,
      "metadata": {
        "colab": {
          "base_uri": "https://localhost:8080/"
        },
        "id": "tnvmdfm-LdL2",
        "outputId": "35d7e65c-5df8-4462-d94c-e47ad8b393e3"
      },
      "outputs": [
        {
          "name": "stdout",
          "output_type": "stream",
          "text": [
            "['banana', 'cherry']\n"
          ]
        }
      ],
      "source": [
        "#Remove the first item:\n",
        "\n",
        "thislist = [\"apple\", \"banana\", \"cherry\"]\n",
        "del thislist[0]    #the del keyword also removes the specified index\n",
        "print(thislist)"
      ]
    },
    {
      "cell_type": "code",
      "execution_count": null,
      "metadata": {
        "id": "TF0FtgWmL5iJ"
      },
      "outputs": [],
      "source": [
        "#Delete the entire list:\n",
        "\n",
        "thislist = [\"apple\", \"banana\", \"cherry\"]\n",
        "del thislist  #The del keyword can also delete the list completely."
      ]
    },
    {
      "cell_type": "code",
      "execution_count": null,
      "metadata": {
        "colab": {
          "base_uri": "https://localhost:8080/"
        },
        "id": "VjDhE6IUMV7f",
        "outputId": "77c046eb-9b26-48f1-f916-729f8f552608"
      },
      "outputs": [
        {
          "name": "stdout",
          "output_type": "stream",
          "text": [
            "[]\n"
          ]
        }
      ],
      "source": [
        "#Clear the list content:\n",
        "\n",
        "thislist = [\"apple\", \"banana\", \"cherry\"]\n",
        "'''The clear() method empties the list.\n",
        "   The list still remains, but it has no content'''\n",
        "thislist.clear()\n",
        "print(thislist)"
      ]
    },
    {
      "cell_type": "markdown",
      "metadata": {
        "id": "DDxBTEDsNW84"
      },
      "source": [
        "Copy a List\n",
        "\n",
        "\n",
        "You cannot copy a list simply by typing list2 = list1, because: list2 will only be a reference to list1, and changes made in list1 will automatically also be made in list2.\n",
        "\n",
        "There are ways to make a copy, one way is to use the built-in List method copy().\n",
        "\n"
      ]
    },
    {
      "cell_type": "code",
      "execution_count": null,
      "metadata": {
        "colab": {
          "base_uri": "https://localhost:8080/"
        },
        "id": "UeStNMSINXuc",
        "outputId": "83116a34-40c0-4d6a-c27e-56ba40edb92a"
      },
      "outputs": [
        {
          "name": "stdout",
          "output_type": "stream",
          "text": [
            "['apple', 'banana', 'cherry']\n"
          ]
        }
      ],
      "source": [
        "#Make a copy of a list with the copy() method:\n",
        "\n",
        "thislist = [\"apple\", \"banana\", \"cherry\"]\n",
        "mylist = thislist.copy()\n",
        "print(mylist)"
      ]
    },
    {
      "cell_type": "code",
      "execution_count": null,
      "metadata": {
        "colab": {
          "base_uri": "https://localhost:8080/"
        },
        "id": "m9VBLq-6NgR5",
        "outputId": "d01de431-8946-4136-ff8c-fa6c6e7f667d"
      },
      "outputs": [
        {
          "name": "stdout",
          "output_type": "stream",
          "text": [
            "['apple', 'banana', 'cherry']\n"
          ]
        }
      ],
      "source": [
        "#Make a copy of a list with the list() method:\n",
        "\n",
        "thislist = [\"apple\", \"banana\", \"cherry\"]\n",
        "mylist = list(thislist)\n",
        "print(mylist)"
      ]
    },
    {
      "cell_type": "markdown",
      "metadata": {
        "id": "YItpzqMTN-Eb"
      },
      "source": [
        "                              Python - Join Lists\n",
        "\n",
        "\n",
        "Join Two Lists\n",
        "\n",
        "There are several ways to join, or concatenate, two or more lists in Python.\n",
        "\n",
        "One of the easiest ways are by using the + operator."
      ]
    },
    {
      "cell_type": "code",
      "execution_count": null,
      "metadata": {
        "colab": {
          "base_uri": "https://localhost:8080/"
        },
        "id": "pCK7K5ZTOKeZ",
        "outputId": "94f1da55-f951-4090-cd4b-cc23f1a4ef90"
      },
      "outputs": [
        {
          "name": "stdout",
          "output_type": "stream",
          "text": [
            "['a', 'b', 'c', 1, 2, 3]\n"
          ]
        }
      ],
      "source": [
        "#Join two list:\n",
        "\n",
        "list1 = [\"a\", \"b\", \"c\"]\n",
        "list2 = [1, 2, 3]\n",
        "\n",
        "list3 = list1 + list2\n",
        "print(list3)\n"
      ]
    },
    {
      "cell_type": "code",
      "execution_count": null,
      "metadata": {
        "colab": {
          "base_uri": "https://localhost:8080/"
        },
        "id": "bTJc5yrQOVFm",
        "outputId": "554759df-57b9-4159-b101-0d43ed5d8b68"
      },
      "outputs": [
        {
          "name": "stdout",
          "output_type": "stream",
          "text": [
            "['a', 'b', 'c', 1, 2, 3]\n"
          ]
        }
      ],
      "source": [
        "#Append list2 into list1:\n",
        "\n",
        "list1 = [\"a\", \"b\" , \"c\"]\n",
        "list2 = [1, 2, 3]\n",
        "\n",
        "for x in list2:\n",
        "  list1.append(x)\n",
        "\n",
        "print(list1)"
      ]
    },
    {
      "cell_type": "code",
      "execution_count": null,
      "metadata": {
        "colab": {
          "base_uri": "https://localhost:8080/"
        },
        "id": "RTpAKdFwOdrQ",
        "outputId": "0361102d-ad54-4a3d-afe2-49ff5de9c6be"
      },
      "outputs": [
        {
          "name": "stdout",
          "output_type": "stream",
          "text": [
            "['a', 'b', 'c', 1, 2, 3]\n"
          ]
        }
      ],
      "source": [
        "#Use the extend() method to add list2 at the end of list1:\n",
        "\n",
        "list1 = [\"a\", \"b\" , \"c\"]\n",
        "list2 = [1, 2, 3]\n",
        "\n",
        "list1.extend(list2)\n",
        "print(list1)"
      ]
    },
    {
      "cell_type": "markdown",
      "metadata": {
        "id": "1s5EdHK9OvsJ"
      },
      "source": [
        "                         Python - List Methods\n",
        "\n",
        "\n",
        "List Methods\n",
        "\n",
        "\n",
        "Python has a set of built-in methods that you can use on lists.\n",
        "\n",
        "Method\tDescription:\n",
        "\n",
        "append()\tAdds an element at the end of the list\n",
        "\n",
        "\n",
        "clear()\tRemoves all the elements from the list\n",
        "\n",
        "\n",
        "copy()\tReturns a copy of the list\n",
        "\n",
        "\n",
        "count()\tReturns the number of elements with the specified value\n",
        "\n",
        "\n",
        "extend()\tAdd the elements of a list (or any iterable), to the end of this current list\n",
        "\n",
        "\n",
        "index()\tReturns the index of the first element with the specified value\n",
        "\n",
        "\n",
        "insert()\tAdds an element at the specified position\n",
        "\n",
        "\n",
        "\n",
        "pop()\tRemoves the element at the specified position\n",
        "\n",
        "\n",
        "remove()\tRemoves the item with the specified value\n",
        "\n",
        "\n",
        "reverse()\tReverses the order of the list\n",
        "\n",
        "\n",
        "\n",
        "sort()\tSorts the list\n"
      ]
    },
    {
      "cell_type": "code",
      "source": [
        "#Add an element to the fruits list:\n",
        "\n",
        "fruits = ['apple', 'banana', 'cherry']\n",
        "fruits.append(\"orange\")"
      ],
      "metadata": {
        "id": "K1-mhWTEWLej"
      },
      "execution_count": null,
      "outputs": []
    },
    {
      "cell_type": "code",
      "source": [
        "#Remove all elements from the fruits list:\n",
        "\n",
        "fruits = ['apple', 'banana', 'cherry', 'orange']\n",
        "\n",
        "fruits.clear()\n",
        "print(fruits)"
      ],
      "metadata": {
        "colab": {
          "base_uri": "https://localhost:8080/"
        },
        "id": "s8aFOx4wWTOB",
        "outputId": "bf0ef013-b54e-4b13-999d-b91056e2b1ac"
      },
      "execution_count": null,
      "outputs": [
        {
          "output_type": "stream",
          "name": "stdout",
          "text": [
            "[]\n"
          ]
        }
      ]
    },
    {
      "cell_type": "code",
      "source": [
        "#Copy the fruits list:\n",
        "\n",
        "fruits = ['apple', 'banana', 'cherry', 'orange']\n",
        "\n",
        "x = fruits.copy()\n",
        "print(x)"
      ],
      "metadata": {
        "colab": {
          "base_uri": "https://localhost:8080/"
        },
        "id": "XCyGIKNNWY7i",
        "outputId": "98947c3c-816f-4982-e628-98aa1114d042"
      },
      "execution_count": null,
      "outputs": [
        {
          "output_type": "stream",
          "name": "stdout",
          "text": [
            "['apple', 'banana', 'cherry', 'orange']\n"
          ]
        }
      ]
    },
    {
      "cell_type": "code",
      "source": [
        "#Return the number of times the value \"cherry\" appears in the fruits list:\n",
        "\n",
        "fruits = ['apple', 'banana', 'cherry']\n",
        "\n",
        "x = fruits.count(\"cherry\")\n",
        "print(x)"
      ],
      "metadata": {
        "colab": {
          "base_uri": "https://localhost:8080/"
        },
        "id": "XJW-bzG2Wi-C",
        "outputId": "6512fe54-d7e0-4a5d-91d1-0e6834e17eb2"
      },
      "execution_count": null,
      "outputs": [
        {
          "output_type": "stream",
          "name": "stdout",
          "text": [
            "1\n"
          ]
        }
      ]
    },
    {
      "cell_type": "code",
      "source": [
        "#Add the elements of cars to the fruits list:\n",
        "\n",
        "fruits = ['apple', 'banana', 'cherry']\n",
        "\n",
        "cars = ['Ford', 'BMW', 'Volvo']\n",
        "\n",
        "fruits.extend(cars)\n",
        "print(fruits)"
      ],
      "metadata": {
        "colab": {
          "base_uri": "https://localhost:8080/"
        },
        "id": "zbuj2CRMW87t",
        "outputId": "fa75e7b1-c823-40eb-9e6d-62f288c851f4"
      },
      "execution_count": null,
      "outputs": [
        {
          "output_type": "stream",
          "name": "stdout",
          "text": [
            "['apple', 'banana', 'cherry', 'Ford', 'BMW', 'Volvo']\n"
          ]
        }
      ]
    },
    {
      "cell_type": "code",
      "source": [
        "#What is the position of the value \"cherry\":\n",
        "\n",
        "fruits = ['apple', 'banana', 'cherry']\n",
        "\n",
        "x = fruits.index(\"cherry\")\n",
        "print(x)"
      ],
      "metadata": {
        "colab": {
          "base_uri": "https://localhost:8080/"
        },
        "id": "Xwo8FaPOXJhj",
        "outputId": "6d3077ce-b0a7-4cb4-acdc-1792e8d459a2"
      },
      "execution_count": null,
      "outputs": [
        {
          "output_type": "stream",
          "name": "stdout",
          "text": [
            "2\n"
          ]
        }
      ]
    },
    {
      "cell_type": "code",
      "source": [
        "#Insert the value \"orange\" as the second element of the fruit list:\n",
        "\n",
        "fruits = ['apple', 'banana', 'cherry']\n",
        "\n",
        "fruits.insert(1, \"orange\")\n",
        "print(fruits)\n"
      ],
      "metadata": {
        "colab": {
          "base_uri": "https://localhost:8080/"
        },
        "id": "KWZoy9wkXRJ8",
        "outputId": "903686c8-9e11-465d-847e-8b95b5830d45"
      },
      "execution_count": null,
      "outputs": [
        {
          "output_type": "stream",
          "name": "stdout",
          "text": [
            "['apple', 'orange', 'banana', 'cherry']\n"
          ]
        }
      ]
    },
    {
      "cell_type": "code",
      "source": [
        "#Remove the second element of the fruit list:\n",
        "\n",
        "fruits = ['apple', 'banana', 'cherry']\n",
        "\n",
        "fruits.pop(1)"
      ],
      "metadata": {
        "colab": {
          "base_uri": "https://localhost:8080/",
          "height": 36
        },
        "id": "bZKrqdb3Xdo7",
        "outputId": "d15c3acc-6ea5-468e-c357-96b1fa84818c"
      },
      "execution_count": null,
      "outputs": [
        {
          "output_type": "execute_result",
          "data": {
            "text/plain": [
              "'banana'"
            ],
            "application/vnd.google.colaboratory.intrinsic+json": {
              "type": "string"
            }
          },
          "metadata": {},
          "execution_count": 111
        }
      ]
    },
    {
      "cell_type": "code",
      "source": [
        "#Remove the \"banana\" element of the fruit list:\n",
        "\n",
        "fruits = ['apple', 'banana', 'cherry']\n",
        "\n",
        "fruits.remove(\"banana\")\n",
        "print(fruits)"
      ],
      "metadata": {
        "colab": {
          "base_uri": "https://localhost:8080/"
        },
        "id": "Lp2_eO8-Xmo8",
        "outputId": "28bca24d-c84f-47d9-8418-2eeff861db1d"
      },
      "execution_count": null,
      "outputs": [
        {
          "output_type": "stream",
          "name": "stdout",
          "text": [
            "['apple', 'cherry']\n"
          ]
        }
      ]
    },
    {
      "cell_type": "code",
      "source": [
        "#Reverse the order of the fruit list:\n",
        "\n",
        "fruits = ['apple', 'banana', 'cherry']\n",
        "\n",
        "fruits.reverse()\n",
        "print(fruits)"
      ],
      "metadata": {
        "colab": {
          "base_uri": "https://localhost:8080/"
        },
        "id": "JyOpd3IFX0mL",
        "outputId": "936031e7-bc1f-49d1-cd23-2388c47b9147"
      },
      "execution_count": null,
      "outputs": [
        {
          "output_type": "stream",
          "name": "stdout",
          "text": [
            "['cherry', 'banana', 'apple']\n"
          ]
        }
      ]
    },
    {
      "cell_type": "code",
      "source": [
        "#Sort the list alphabetically:\n",
        "\n",
        "cars = ['Ford', 'BMW', 'Volvo']\n",
        "\n",
        "cars.sort()\n",
        "print(cars)"
      ],
      "metadata": {
        "colab": {
          "base_uri": "https://localhost:8080/"
        },
        "id": "W26o5rkHX8Kf",
        "outputId": "f6fa7619-3fd7-433d-c5cc-58f68326eb5c"
      },
      "execution_count": null,
      "outputs": [
        {
          "output_type": "stream",
          "name": "stdout",
          "text": [
            "['BMW', 'Ford', 'Volvo']\n"
          ]
        }
      ]
    },
    {
      "cell_type": "markdown",
      "metadata": {
        "id": "Om2Ed5CYQnKs"
      },
      "source": [
        "                                                      PYTHON TUPLE\n"
      ]
    },
    {
      "cell_type": "markdown",
      "metadata": {
        "id": "QpdBv4vrRq3E"
      },
      "source": [
        "Tuple\n",
        "\n",
        "\n",
        "Tuples are used to store multiple items in a single variable.\n",
        "\n",
        "Tuple is one of 4 built-in data types in Python used to store collections of data, the other 3 are List, Set, and Dictionary, all with different qualities and usage.\n",
        "\n",
        "A tuple is a collection which is ordered and unchangeable.\n",
        "\n",
        "Tuples are written with round brackets."
      ]
    },
    {
      "cell_type": "code",
      "execution_count": null,
      "metadata": {
        "colab": {
          "base_uri": "https://localhost:8080/"
        },
        "id": "flWjSfWARtQu",
        "outputId": "f8cbf4ab-05f3-47d3-9d21-08230ab172c8"
      },
      "outputs": [
        {
          "name": "stdout",
          "output_type": "stream",
          "text": [
            "('apple', 'mango', 'egg')\n"
          ]
        }
      ],
      "source": [
        "#creat a tuple\n",
        "mytuple=(\"apple\",\"mango\",\"egg\")\n",
        "print(mytuple)"
      ]
    },
    {
      "cell_type": "markdown",
      "metadata": {
        "id": "VOH1X1CY7oIL"
      },
      "source": [
        "Tuple Items\n",
        "\n",
        "\n",
        "Tuple items are ordered, unchangeable, and allow duplicate values.\n",
        "\n",
        "Tuple items are indexed, the first item has index [0], the second item has index [1] etc.\n",
        "\n",
        "Ordered:\n",
        "\n",
        "\n",
        "When we say that tuples are ordered, it means that the items have a defined order, and that order will not change.\n",
        "\n",
        "Unchangeable:\n",
        "\n",
        "\n",
        "Tuples are unchangeable, meaning that we cannot change, add or remove items after the tuple has been created.\n",
        "\n",
        "Allow Duplicates:\n",
        "\n",
        "\n",
        "Since tuples are indexed, they can have items with the same value"
      ]
    },
    {
      "cell_type": "code",
      "execution_count": null,
      "metadata": {
        "colab": {
          "base_uri": "https://localhost:8080/"
        },
        "id": "Mg5_PHm170RM",
        "outputId": "ebca0a11-1059-4714-dabb-b58dea73107b"
      },
      "outputs": [
        {
          "name": "stdout",
          "output_type": "stream",
          "text": [
            "('apple', 'banana', 'cherry', 'apple', 'cherry')\n"
          ]
        }
      ],
      "source": [
        "#Tuples allow duplicate values\n",
        "\n",
        "thistuple = (\"apple\", \"banana\", \"cherry\", \"apple\", \"cherry\")\n",
        "print(thistuple)"
      ]
    },
    {
      "cell_type": "code",
      "execution_count": null,
      "metadata": {
        "colab": {
          "base_uri": "https://localhost:8080/"
        },
        "id": "z1TbJyw_8FI-",
        "outputId": "ca9e6de7-6b77-4376-cf02-71290ef96b17"
      },
      "outputs": [
        {
          "name": "stdout",
          "output_type": "stream",
          "text": [
            "3\n"
          ]
        }
      ],
      "source": [
        "#Print the number of items in the tuple:\n",
        "\n",
        "thistuple = (\"apple\", \"banana\", \"cherry\")\n",
        "print(len(thistuple))    #To determine how many items a tuple has, use the len() function:\n",
        "\n"
      ]
    },
    {
      "cell_type": "code",
      "execution_count": null,
      "metadata": {
        "colab": {
          "base_uri": "https://localhost:8080/"
        },
        "id": "KLiRI-pG8VA0",
        "outputId": "17ec142f-6a6e-47e2-b59b-56bceafb6e65"
      },
      "outputs": [
        {
          "name": "stdout",
          "output_type": "stream",
          "text": [
            "<class 'tuple'>\n",
            "<class 'str'>\n"
          ]
        }
      ],
      "source": [
        "#One item tuple, remember the comma:\n",
        "\n",
        "thistuple = (\"apple\",)\n",
        "print(type(thistuple))\n",
        "\n",
        "#NOT a tuple\n",
        "thistuple = (\"apple\")\n",
        "print(type(thistuple))"
      ]
    },
    {
      "cell_type": "code",
      "execution_count": null,
      "metadata": {
        "colab": {
          "base_uri": "https://localhost:8080/"
        },
        "id": "ZB3o2caI8fqk",
        "outputId": "edb2c142-e2d3-4110-e605-0fe85b785d82"
      },
      "outputs": [
        {
          "name": "stdout",
          "output_type": "stream",
          "text": [
            "('apple', 'banana', 'cherry')\n",
            "(1, 5, 7, 9, 3)\n",
            "(True, False, False)\n"
          ]
        }
      ],
      "source": [
        "#String, int and boolean data types:\n",
        "\n",
        "tuple1 = (\"apple\", \"banana\", \"cherry\")\n",
        "tuple2 = (1, 5, 7, 9, 3)\n",
        "tuple3 = (True, False, False)\n",
        "print(tuple1)\n",
        "print(tuple2)\n",
        "print(tuple3)\n"
      ]
    },
    {
      "cell_type": "code",
      "execution_count": null,
      "metadata": {
        "colab": {
          "base_uri": "https://localhost:8080/"
        },
        "id": "dcbJ3dnb8oYp",
        "outputId": "20cbaec4-34f7-4666-ca53-64ad2c892dc6"
      },
      "outputs": [
        {
          "name": "stdout",
          "output_type": "stream",
          "text": [
            "('abc', 34, True, 40, 'male')\n"
          ]
        }
      ],
      "source": [
        "#A tuple with strings, integers and boolean values:\n",
        "\n",
        "tuple1 = (\"abc\", 34, True, 40, \"male\")\n",
        "print (tuple1)"
      ]
    },
    {
      "cell_type": "code",
      "execution_count": null,
      "metadata": {
        "colab": {
          "base_uri": "https://localhost:8080/"
        },
        "id": "WxaUgkNf81z3",
        "outputId": "04845f30-a70f-4387-c11a-cf4983d95a23"
      },
      "outputs": [
        {
          "name": "stdout",
          "output_type": "stream",
          "text": [
            "<class 'tuple'>\n"
          ]
        }
      ],
      "source": [
        "#What is the data type of a tuple?\n",
        "\n",
        "mytuple = (\"apple\", \"banana\", \"cherry\")\n",
        "print(type(mytuple))"
      ]
    },
    {
      "cell_type": "code",
      "execution_count": null,
      "metadata": {
        "colab": {
          "base_uri": "https://localhost:8080/"
        },
        "id": "3GpeSV278-t0",
        "outputId": "abcf36a6-b4ea-482d-a8e3-d23a99a5e73d"
      },
      "outputs": [
        {
          "name": "stdout",
          "output_type": "stream",
          "text": [
            "('apple', 'banana', 'cherry')\n"
          ]
        }
      ],
      "source": [
        "#Using the tuple() method to make a tuple\n",
        "\n",
        "thistuple = tuple((\"apple\", \"banana\", \"cherry\")) # note the double round-brackets\n",
        "print(thistuple) #It is also possible to use the tuple() constructor to make a tuple.\n",
        "\n"
      ]
    },
    {
      "cell_type": "markdown",
      "metadata": {
        "id": "_89SrMc99QVE"
      },
      "source": [
        "Python - Access Tuple Items\n"
      ]
    },
    {
      "cell_type": "code",
      "execution_count": null,
      "metadata": {
        "colab": {
          "base_uri": "https://localhost:8080/"
        },
        "id": "22YwmbBw9ScM",
        "outputId": "bb7215a0-7865-412d-935b-5af008489092"
      },
      "outputs": [
        {
          "name": "stdout",
          "output_type": "stream",
          "text": [
            "banana\n"
          ]
        }
      ],
      "source": [
        "#Print the second item in the tuple:\n",
        "\n",
        "thistuple = (\"apple\", \"banana\", \"cherry\")\n",
        "print(thistuple[1])"
      ]
    },
    {
      "cell_type": "code",
      "execution_count": null,
      "metadata": {
        "colab": {
          "base_uri": "https://localhost:8080/"
        },
        "id": "XEpyzoaP9Xfx",
        "outputId": "3d035e73-eaff-448e-eb91-c148af6deea8"
      },
      "outputs": [
        {
          "name": "stdout",
          "output_type": "stream",
          "text": [
            "cherry\n"
          ]
        }
      ],
      "source": [
        "#Print the last item of the tuple:\n",
        "\n",
        "thistuple = (\"apple\", \"banana\", \"cherry\")\n",
        "print(thistuple[-1]) "
      ]
    },
    {
      "cell_type": "code",
      "execution_count": null,
      "metadata": {
        "colab": {
          "base_uri": "https://localhost:8080/"
        },
        "id": "H1Q1hPgO9rlw",
        "outputId": "148166dd-fa00-4829-e04c-459c2ad264c2"
      },
      "outputs": [
        {
          "name": "stdout",
          "output_type": "stream",
          "text": [
            "('cherry', 'orange', 'kiwi')\n"
          ]
        }
      ],
      "source": [
        "#Return the third, fourth, and fifth item\n",
        "\n",
        "thistuple = (\"apple\", \"banana\", \"cherry\", \"orange\", \"kiwi\", \"melon\", \"mango\")\n",
        "print(thistuple[2:5])"
      ]
    },
    {
      "cell_type": "code",
      "execution_count": null,
      "metadata": {
        "colab": {
          "base_uri": "https://localhost:8080/"
        },
        "id": "v_RXmt2Z9wq-",
        "outputId": "08b0c07c-f331-421b-bba5-639feeb60a88"
      },
      "outputs": [
        {
          "name": "stdout",
          "output_type": "stream",
          "text": [
            "('apple', 'banana', 'cherry', 'orange')\n"
          ]
        }
      ],
      "source": [
        "#This example returns the items from the beginning to, but NOT included, \"kiwi\"\n",
        "\n",
        "thistuple = (\"apple\", \"banana\", \"cherry\", \"orange\", \"kiwi\", \"melon\", \"mango\")\n",
        "print(thistuple[:4])"
      ]
    },
    {
      "cell_type": "code",
      "execution_count": null,
      "metadata": {
        "colab": {
          "base_uri": "https://localhost:8080/"
        },
        "id": "RcHkgnUQ9yBB",
        "outputId": "30303240-4a92-4c93-f323-0d5869b45bc5"
      },
      "outputs": [
        {
          "name": "stdout",
          "output_type": "stream",
          "text": [
            "('cherry', 'orange', 'kiwi', 'melon', 'mango')\n"
          ]
        }
      ],
      "source": [
        "#This example returns the items from \"cherry\" and to the end\n",
        "\n",
        "thistuple = (\"apple\", \"banana\", \"cherry\", \"orange\", \"kiwi\", \"melon\", \"mango\")\n",
        "print(thistuple[2:])"
      ]
    },
    {
      "cell_type": "code",
      "execution_count": null,
      "metadata": {
        "colab": {
          "base_uri": "https://localhost:8080/"
        },
        "id": "3FpdnbGZ960y",
        "outputId": "8bf63b4a-f544-46f0-ce82-58c611a70eb3"
      },
      "outputs": [
        {
          "name": "stdout",
          "output_type": "stream",
          "text": [
            "('orange', 'kiwi', 'melon')\n"
          ]
        }
      ],
      "source": [
        "#This example returns the items from index -4 (included) to index -1 (excluded)\n",
        "\n",
        "thistuple = (\"apple\", \"banana\", \"cherry\", \"orange\", \"kiwi\", \"melon\", \"mango\")\n",
        "print(thistuple[-4:-1])"
      ]
    },
    {
      "cell_type": "code",
      "execution_count": null,
      "metadata": {
        "colab": {
          "base_uri": "https://localhost:8080/"
        },
        "id": "LY6GcgbU-EkH",
        "outputId": "b9785b18-bfc8-4c98-84d5-061274e4fcbe"
      },
      "outputs": [
        {
          "name": "stdout",
          "output_type": "stream",
          "text": [
            "Yes, 'apple' is in the fruits tuple\n"
          ]
        }
      ],
      "source": [
        "#Check if \"apple\" is present in the tuple:\n",
        "\n",
        "thistuple = (\"apple\", \"banana\", \"cherry\")\n",
        "if \"apple\" in thistuple:\n",
        "  print(\"Yes, 'apple' is in the fruits tuple\")"
      ]
    },
    {
      "cell_type": "markdown",
      "metadata": {
        "id": "O2WYU_5W-K-n"
      },
      "source": [
        "Change Tuple Values\n"
      ]
    },
    {
      "cell_type": "code",
      "execution_count": null,
      "metadata": {
        "colab": {
          "base_uri": "https://localhost:8080/"
        },
        "id": "3XBiRKtZ-Ls9",
        "outputId": "df6434d4-d287-4d0f-ac1d-b824b29f3c84"
      },
      "outputs": [
        {
          "name": "stdout",
          "output_type": "stream",
          "text": [
            "('apple', 'kiwi', 'cherry')\n"
          ]
        }
      ],
      "source": [
        "#Convert the tuple into a list to be able to change it:\n",
        "\n",
        "x = (\"apple\", \"banana\", \"cherry\")\n",
        "y = list(x)\n",
        "y[1] = \"kiwi\"\n",
        "x = tuple(y)\n",
        "\n",
        "print(x)"
      ]
    },
    {
      "cell_type": "markdown",
      "metadata": {
        "id": "1z96gK8B-USn"
      },
      "source": [
        "Add Items\n",
        "\n",
        "Since tuples are immutable, they do not have a built-in append\n",
        "\n",
        "\n",
        "() method, but there are other ways to add items to a tuple.\n",
        "\n",
        "1. Convert into a list: Just like the workaround for changing \n",
        "\n",
        "\n",
        "a tuple, you can convert it into a list, add your item(s), and\n",
        "\n",
        " convert it back into a tuple."
      ]
    },
    {
      "cell_type": "code",
      "execution_count": null,
      "metadata": {
        "colab": {
          "base_uri": "https://localhost:8080/"
        },
        "id": "dHNi32aw-V91",
        "outputId": "af0694f1-e67d-41f2-91ba-59139e0f1383"
      },
      "outputs": [
        {
          "name": "stdout",
          "output_type": "stream",
          "text": [
            "('apple', 'banana', 'cherry', 'orange')\n"
          ]
        }
      ],
      "source": [
        "#Convert the tuple into a list, add \"orange\", and convert it back into a tuple:\n",
        "\n",
        "thistuple = (\"apple\", \"banana\", \"cherry\")\n",
        "y = list(thistuple)\n",
        "y.append(\"orange\")\n",
        "thistuple = tuple(y)\n",
        "print(thistuple)"
      ]
    },
    {
      "cell_type": "markdown",
      "metadata": {
        "id": "ERh9St2q-x5_"
      },
      "source": [
        "Add tuple to a tuple:\n",
        "\n",
        "You are allowed to add tuples to tuples, so if you want to add \n",
        "\n",
        "one item, (or many), create a new tuple with the item(s), and \n",
        "\n",
        "add it to the existing tuple"
      ]
    },
    {
      "cell_type": "code",
      "execution_count": null,
      "metadata": {
        "colab": {
          "base_uri": "https://localhost:8080/"
        },
        "id": "j_iM6NTB-45f",
        "outputId": "9124b471-0035-449b-fddb-87eeafc8addf"
      },
      "outputs": [
        {
          "name": "stdout",
          "output_type": "stream",
          "text": [
            "('apple', 'banana', 'cherry', 'orange')\n"
          ]
        }
      ],
      "source": [
        "#Create a new tuple with the value \"orange\", and add that tuple:\n",
        "\n",
        "thistuple = (\"apple\", \"banana\", \"cherry\")\n",
        "y = (\"orange\",)\n",
        "thistuple += y\n",
        "\n",
        "print(thistuple)"
      ]
    },
    {
      "cell_type": "markdown",
      "metadata": {
        "id": "rX-nMUjs_FzI"
      },
      "source": [
        "Remove Items\n"
      ]
    },
    {
      "cell_type": "markdown",
      "metadata": {
        "id": "JdukPJyU_LG_"
      },
      "source": [
        "Note: You cannot remove items in a tuple.\n",
        "\n",
        "\n",
        "Tuples are unchangeable, so you cannot remove items from it, \n",
        "\n",
        "but you can use the same workaround as we used for changing \n",
        "\n",
        "and adding tuple items"
      ]
    },
    {
      "cell_type": "code",
      "execution_count": null,
      "metadata": {
        "colab": {
          "base_uri": "https://localhost:8080/"
        },
        "id": "ftYVu-rC_RIc",
        "outputId": "d49e0213-3830-40fe-d3f0-456fc094e230"
      },
      "outputs": [
        {
          "name": "stdout",
          "output_type": "stream",
          "text": [
            "('banana', 'cherry')\n"
          ]
        }
      ],
      "source": [
        "#Convert the tuple into a list, remove \"apple\", and convert it back into a tuple:\n",
        "\n",
        "thistuple = (\"apple\", \"banana\", \"cherry\")\n",
        "y = list(thistuple)\n",
        "y.remove(\"apple\")\n",
        "thistuple = tuple(y)\n",
        "print(thistuple)"
      ]
    },
    {
      "cell_type": "code",
      "execution_count": null,
      "metadata": {
        "colab": {
          "base_uri": "https://localhost:8080/",
          "height": 208
        },
        "id": "IP0c4DhN_VhR",
        "outputId": "ed37dab2-05ce-4c0b-c21c-b713275d533a"
      },
      "outputs": [
        {
          "ename": "NameError",
          "evalue": "ignored",
          "output_type": "error",
          "traceback": [
            "\u001b[0;31m---------------------------------------------------------------------------\u001b[0m",
            "\u001b[0;31mNameError\u001b[0m                                 Traceback (most recent call last)",
            "\u001b[0;32m<ipython-input-29-4a76f52a784f>\u001b[0m in \u001b[0;36m<cell line: 5>\u001b[0;34m()\u001b[0m\n\u001b[1;32m      3\u001b[0m \u001b[0mthistuple\u001b[0m \u001b[0;34m=\u001b[0m \u001b[0;34m(\u001b[0m\u001b[0;34m\"apple\"\u001b[0m\u001b[0;34m,\u001b[0m \u001b[0;34m\"banana\"\u001b[0m\u001b[0;34m,\u001b[0m \u001b[0;34m\"cherry\"\u001b[0m\u001b[0;34m)\u001b[0m\u001b[0;34m\u001b[0m\u001b[0;34m\u001b[0m\u001b[0m\n\u001b[1;32m      4\u001b[0m \u001b[0;32mdel\u001b[0m \u001b[0mthistuple\u001b[0m\u001b[0;34m\u001b[0m\u001b[0;34m\u001b[0m\u001b[0m\n\u001b[0;32m----> 5\u001b[0;31m \u001b[0mprint\u001b[0m\u001b[0;34m(\u001b[0m\u001b[0mthistuple\u001b[0m\u001b[0;34m)\u001b[0m \u001b[0;31m#this will raise an error because the tuple no longer exists\u001b[0m\u001b[0;34m\u001b[0m\u001b[0;34m\u001b[0m\u001b[0m\n\u001b[0m",
            "\u001b[0;31mNameError\u001b[0m: name 'thistuple' is not defined"
          ]
        }
      ],
      "source": [
        "#The del keyword can delete the tuple completely:\n",
        "\n",
        "thistuple = (\"apple\", \"banana\", \"cherry\")\n",
        "del thistuple\n",
        "print(thistuple) #this will raise an error because the tuple no longer exists"
      ]
    },
    {
      "cell_type": "markdown",
      "metadata": {
        "id": "WBuRi327_tAx"
      },
      "source": [
        "Python - Unpack Tuples\n"
      ]
    },
    {
      "cell_type": "code",
      "execution_count": null,
      "metadata": {
        "colab": {
          "base_uri": "https://localhost:8080/"
        },
        "id": "thk3_14l_t_P",
        "outputId": "45e1431c-45dc-42dc-8627-5343c79b8d16"
      },
      "outputs": [
        {
          "name": "stdout",
          "output_type": "stream",
          "text": [
            "('apple', 'banana', 'cherry')\n"
          ]
        }
      ],
      "source": [
        "#Packing a tuple:\n",
        "\n",
        "fruits = (\"apple\", \"banana\", \"cherry\")\n",
        "print(fruits)"
      ]
    },
    {
      "cell_type": "code",
      "execution_count": null,
      "metadata": {
        "colab": {
          "base_uri": "https://localhost:8080/"
        },
        "id": "g4jQ1iYX_zFR",
        "outputId": "6a715ac4-6028-4a46-d2dc-63adb6bb71e3"
      },
      "outputs": [
        {
          "name": "stdout",
          "output_type": "stream",
          "text": [
            "apple\n",
            "banana\n",
            "cherry\n"
          ]
        }
      ],
      "source": [
        "#Unpacking a tuple:\n",
        "\n",
        "fruits = (\"apple\", \"banana\", \"cherry\")\n",
        "\n",
        "(green, yellow, red) = fruits\n",
        "\n",
        "print(green)\n",
        "print(yellow)\n",
        "print(red)"
      ]
    },
    {
      "cell_type": "markdown",
      "metadata": {
        "id": "Y21diO4L_-4i"
      },
      "source": [
        "Using Asterisk*"
      ]
    },
    {
      "cell_type": "markdown",
      "metadata": {
        "id": "2jI7Q9zNAEgn"
      },
      "source": [
        "If the number of variables is less than the number of values, \n",
        "\n",
        "you can add an * to the variable name and the values will be \n",
        "\n",
        "assigned to the variable as a list"
      ]
    },
    {
      "cell_type": "code",
      "execution_count": null,
      "metadata": {
        "colab": {
          "base_uri": "https://localhost:8080/"
        },
        "id": "b-l6QnT3AHG8",
        "outputId": "af95000a-bd45-43de-afb5-2fcda2360331"
      },
      "outputs": [
        {
          "name": "stdout",
          "output_type": "stream",
          "text": [
            "apple\n",
            "banana\n",
            "['cherry', 'strawberry', 'raspberry']\n"
          ]
        }
      ],
      "source": [
        "#Assign the rest of the values as a list called \"red\":\n",
        "\n",
        "fruits = (\"apple\", \"banana\", \"cherry\", \"strawberry\", \"raspberry\")\n",
        "\n",
        "(green, yellow, *red) = fruits\n",
        "\n",
        "print(green)\n",
        "print(yellow)\n",
        "print(red)"
      ]
    },
    {
      "cell_type": "markdown",
      "metadata": {
        "id": "3Lle69iNAWvq"
      },
      "source": [
        "If the asterisk is added to another variable name than the \n",
        "\n",
        "last, Python will assign values to the variable until the\n",
        "\n",
        " number of values left matches the number of variables left."
      ]
    },
    {
      "cell_type": "code",
      "execution_count": null,
      "metadata": {
        "colab": {
          "base_uri": "https://localhost:8080/"
        },
        "id": "p9KyG01uAY7g",
        "outputId": "3c313726-01c5-4b9e-a534-ebe035f29124"
      },
      "outputs": [
        {
          "name": "stdout",
          "output_type": "stream",
          "text": [
            "apple\n",
            "['mango', 'papaya', 'pineapple']\n",
            "cherry\n"
          ]
        }
      ],
      "source": [
        "#Add a list of values the \"tropic\" variable:\n",
        "\n",
        "fruits = (\"apple\", \"mango\", \"papaya\", \"pineapple\", \"cherry\")\n",
        "\n",
        "(green, *tropic, red) = fruits\n",
        "\n",
        "print(green)\n",
        "print(tropic)\n",
        "print(red)"
      ]
    },
    {
      "cell_type": "markdown",
      "metadata": {
        "id": "7J82sTlHAlUa"
      },
      "source": [
        "Python - Join Tuples\n"
      ]
    },
    {
      "cell_type": "code",
      "execution_count": null,
      "metadata": {
        "colab": {
          "base_uri": "https://localhost:8080/"
        },
        "id": "hAgYl-w3AuVb",
        "outputId": "c7596883-2858-40ff-9dd2-1a9b2d2a18d3"
      },
      "outputs": [
        {
          "name": "stdout",
          "output_type": "stream",
          "text": [
            "('a', 'b', 'c', 1, 2, 3)\n"
          ]
        }
      ],
      "source": [
        "#Join two tuples:\n",
        "\n",
        "tuple1 = (\"a\", \"b\" , \"c\")\n",
        "tuple2 = (1, 2, 3)\n",
        "\n",
        "tuple3 = tuple1 + tuple2 #To join two or more tuples you can use the + operator\n",
        "print(tuple3)\n"
      ]
    },
    {
      "cell_type": "markdown",
      "metadata": {
        "id": "cSafeKniA5Yy"
      },
      "source": [
        "Multiply Tuples\n"
      ]
    },
    {
      "cell_type": "code",
      "execution_count": null,
      "metadata": {
        "colab": {
          "base_uri": "https://localhost:8080/"
        },
        "id": "T-q_yVjuA6Fq",
        "outputId": "1897195c-e27b-4b8a-ac66-912a6afa868d"
      },
      "outputs": [
        {
          "name": "stdout",
          "output_type": "stream",
          "text": [
            "('apple', 'banana', 'cherry', 'apple', 'banana', 'cherry')\n"
          ]
        }
      ],
      "source": [
        "#Multiply the fruits tuple by 2:\n",
        "\n",
        "fruits = (\"apple\", \"banana\", \"cherry\")\n",
        "mytuple = fruits * 2\n",
        "\n",
        "print(mytuple)"
      ]
    },
    {
      "cell_type": "markdown",
      "metadata": {
        "id": "qZu7rMkhBByE"
      },
      "source": [
        "Python - Tuple Methods\n"
      ]
    },
    {
      "cell_type": "markdown",
      "metadata": {
        "id": "-dgNghGKBFat"
      },
      "source": [
        "Tuple Methods\n",
        "\n",
        "\n",
        "Python has two built-in methods that you can use on tuples.\n",
        "\n",
        "Method --------------------- Description\n",
        "\n",
        "\n",
        "count()      ----- \tReturns the number of times a specified value occurs in a tuple\n",
        "\n",
        "\n",
        "index()      ----- \tSearches the tuple for a specified value and \n",
        "\n",
        "\n",
        "returns the position of where it was found"
      ]
    },
    {
      "cell_type": "code",
      "source": [
        "#Return the number of times the value 5 appears in the tuple:\n",
        "\n",
        "thistuple = (1, 3, 7, 8, 7, 5, 4, 6, 8, 5)\n",
        "\n",
        "x = thistuple.count(5)\n",
        "\n",
        "print(x)\n"
      ],
      "metadata": {
        "colab": {
          "base_uri": "https://localhost:8080/"
        },
        "id": "-KvlgIntV0qS",
        "outputId": "f748b9b7-111f-48dd-e231-f8a9b9b41eb5"
      },
      "execution_count": null,
      "outputs": [
        {
          "output_type": "stream",
          "name": "stdout",
          "text": [
            "2\n"
          ]
        }
      ]
    },
    {
      "cell_type": "code",
      "source": [
        "#Search for the first occurrence of the value 8, and return its position:\n",
        "\n",
        "thistuple = (1, 3, 7, 8, 7, 5, 4, 6, 8, 5)\n",
        "\n",
        "x = thistuple.index(8)\n",
        "\n",
        "print(x)"
      ],
      "metadata": {
        "colab": {
          "base_uri": "https://localhost:8080/"
        },
        "id": "oryO8yaWV91y",
        "outputId": "13aae5bf-8247-46c9-c327-7a71a80ca201"
      },
      "execution_count": null,
      "outputs": [
        {
          "output_type": "stream",
          "name": "stdout",
          "text": [
            "3\n"
          ]
        }
      ]
    },
    {
      "cell_type": "markdown",
      "metadata": {
        "id": "iQRbqxy2BwjV"
      },
      "source": [
        "                                                         \n",
        "                                                        PYTHON SETS\n",
        " "
      ]
    },
    {
      "cell_type": "markdown",
      "metadata": {
        "id": "jUbZuD-ZCE7F"
      },
      "source": [
        "Set\n",
        "\n",
        "\n",
        "\n",
        "Sets are used to store multiple items in a single variable.\n",
        "\n",
        "\n",
        "\n",
        "Set is one of 4 built-in data types in Python used to store \n",
        "\n",
        "\n",
        "collections of data, the other 3 are List, Tuple, and \n",
        "\n",
        "\n",
        "Dictionary, all with different qualities and usage.\n",
        "\n",
        "\n",
        "\n",
        "A set is a collection which is unordered, unchangeable*, and \n",
        "\n",
        "unindexed.\n",
        "\n",
        "* Note: Set items are unchangeable, but you can remove items \n",
        "and add new items.\n",
        "\n",
        "\n",
        "\n",
        "Sets are written with curly brackets."
      ]
    },
    {
      "cell_type": "code",
      "execution_count": null,
      "metadata": {
        "colab": {
          "base_uri": "https://localhost:8080/"
        },
        "id": "Bv3vYUtqCNbj",
        "outputId": "82dae002-6c43-4669-cdce-d4cb30925066"
      },
      "outputs": [
        {
          "name": "stdout",
          "output_type": "stream",
          "text": [
            "{'cherry', 'apple', 'banana'}\n"
          ]
        }
      ],
      "source": [
        "#Create a Set:\n",
        "\n",
        "thisset = {\"apple\", \"banana\", \"cherry\"}\n",
        "print(thisset)"
      ]
    },
    {
      "cell_type": "markdown",
      "metadata": {
        "id": "ZRMSFyISCnXV"
      },
      "source": [
        "Set Items\n",
        "\n",
        "\n",
        "\n",
        "Set items are unordered, unchangeable, and do not allow duplicate values.\n",
        "\n",
        "Unordered:\n",
        "Unordered means that the items in a set do not have a defined order.\n",
        "\n",
        "Set items can appear in a different order every time you use them, and cannot be referred to by index or key.\n",
        "\n",
        "Unchangeable:\n",
        "Set items are unchangeable, meaning that we cannot change the items after the set has been created.\n",
        "\n",
        "*Once a set is created, you cannot change its items, but you can remove items and add new items."
      ]
    },
    {
      "cell_type": "code",
      "execution_count": null,
      "metadata": {
        "colab": {
          "base_uri": "https://localhost:8080/"
        },
        "id": "yh74l9mdCux8",
        "outputId": "4a48c172-194d-4b03-d8a4-40060d55c107"
      },
      "outputs": [
        {
          "name": "stdout",
          "output_type": "stream",
          "text": [
            "{'cherry', 'apple', 'banana'}\n"
          ]
        }
      ],
      "source": [
        "#Duplicate values will be ignored:\n",
        "\n",
        "thisset = {\"apple\", \"banana\", \"cherry\", \"apple\"}\n",
        "\n",
        "print(thisset)"
      ]
    },
    {
      "cell_type": "markdown",
      "metadata": {
        "id": "7bQrtcWUDIJH"
      },
      "source": [
        "Note: The values True and 1 are considered the same value in sets, and are treated as duplicates"
      ]
    },
    {
      "cell_type": "code",
      "execution_count": null,
      "metadata": {
        "colab": {
          "background_save": true
        },
        "id": "bFy5BM05DJZU",
        "outputId": "54f6eb0c-98ef-4cbc-cc56-da1ffb1c0559"
      },
      "outputs": [
        {
          "name": "stdout",
          "output_type": "stream",
          "text": [
            "{'cherry', True, 'apple', 2, 'banana'}\n"
          ]
        }
      ],
      "source": [
        "#True and 1 is considered the same value\n",
        "\n",
        "thisset = {\"apple\", \"banana\", \"cherry\", True, 1, 2}\n",
        "\n",
        "print(thisset)"
      ]
    },
    {
      "cell_type": "markdown",
      "metadata": {
        "id": "u3BxUuB1GI8N"
      },
      "source": [
        "Get the Length of a Set: To determine how many items a set has, use the len() function."
      ]
    },
    {
      "cell_type": "code",
      "execution_count": null,
      "metadata": {
        "colab": {
          "base_uri": "https://localhost:8080/"
        },
        "id": "3YfkhPSsGJ4U",
        "outputId": "bd7fdaf6-92e7-452b-8975-595ead88ba4c"
      },
      "outputs": [
        {
          "name": "stdout",
          "output_type": "stream",
          "text": [
            "3\n"
          ]
        }
      ],
      "source": [
        "#Get the number of items in a set:\n",
        "\n",
        "thisset = {\"apple\", \"banana\", \"cherry\"}\n",
        "\n",
        "print(len(thisset))"
      ]
    },
    {
      "cell_type": "markdown",
      "metadata": {
        "id": "n2XtIzZOGQ3K"
      },
      "source": [
        "Set Items - Data Types"
      ]
    },
    {
      "cell_type": "code",
      "execution_count": null,
      "metadata": {
        "colab": {
          "base_uri": "https://localhost:8080/"
        },
        "id": "j5OQDh9CGRgt",
        "outputId": "37911293-7565-49a3-9c59-238e7eac4f95"
      },
      "outputs": [
        {
          "name": "stdout",
          "output_type": "stream",
          "text": [
            "{'cherry', 'apple', 'banana'}\n",
            "{1, 3, 5, 7, 9}\n",
            "{False, True}\n"
          ]
        }
      ],
      "source": [
        "#String, int and boolean data types\n",
        "\n",
        "set1 = {\"apple\", \"banana\", \"cherry\"}\n",
        "set2 = {1, 5, 7, 9, 3}\n",
        "set3 = {True, False, False}\n",
        "print(set1)\n",
        "print(set2)\n",
        "print(set3)"
      ]
    },
    {
      "cell_type": "code",
      "execution_count": null,
      "metadata": {
        "colab": {
          "base_uri": "https://localhost:8080/"
        },
        "id": "q_JRbkTeGb3r",
        "outputId": "755d9a3c-2dc7-4b0f-a21a-ff4a5cd0befd"
      },
      "outputs": [
        {
          "name": "stdout",
          "output_type": "stream",
          "text": [
            "{True, 34, 40, 'male', 'abc'}\n"
          ]
        }
      ],
      "source": [
        "#A set with strings, integers and boolean values:\n",
        "\n",
        "set1 = {\"abc\", 34, True, 40, \"male\"}\n",
        "print(set1)"
      ]
    },
    {
      "cell_type": "markdown",
      "metadata": {
        "id": "McaUo4osGnwC"
      },
      "source": [
        "type()"
      ]
    },
    {
      "cell_type": "code",
      "execution_count": null,
      "metadata": {
        "colab": {
          "base_uri": "https://localhost:8080/"
        },
        "id": "Ie9B5AOgGoZE",
        "outputId": "84fec293-c1dd-4508-e71e-547f37fdcaa0"
      },
      "outputs": [
        {
          "name": "stdout",
          "output_type": "stream",
          "text": [
            "<class 'set'>\n"
          ]
        }
      ],
      "source": [
        "#What is the data type of a set?\n",
        "\n",
        "myset = {\"apple\", \"banana\", \"cherry\"}\n",
        "print(type(myset))"
      ]
    },
    {
      "cell_type": "markdown",
      "metadata": {
        "id": "_m-9Pt5KGxvT"
      },
      "source": [
        "The set() Constructor:\n",
        "\n",
        "\n",
        "It is also possible to use the set() constructor to make a set."
      ]
    },
    {
      "cell_type": "code",
      "execution_count": null,
      "metadata": {
        "colab": {
          "base_uri": "https://localhost:8080/"
        },
        "id": "CvX_jydLG0YE",
        "outputId": "d17198a3-cba7-4397-e0df-8e0a2ef71268"
      },
      "outputs": [
        {
          "name": "stdout",
          "output_type": "stream",
          "text": [
            "{'cherry', 'apple', 'banana'}\n"
          ]
        }
      ],
      "source": [
        "#Using the set() constructor to make a set:\n",
        "\n",
        "thisset = set((\"apple\", \"banana\", \"cherry\")) # note the double round-brackets\n",
        "print(thisset)"
      ]
    },
    {
      "cell_type": "markdown",
      "metadata": {
        "id": "augmZjQ9HAW9"
      },
      "source": [
        "Python - Access Set Items\n"
      ]
    },
    {
      "cell_type": "markdown",
      "metadata": {
        "id": "K6fi1C1wHEW8"
      },
      "source": [
        "Access Items:\n",
        "You cannot access items in a set by referring to an index or a key.\n",
        "\n",
        "\n",
        "\n",
        "But you can loop through the set items using a for loop, or ask if a specified value is present in a set, by using the in keyword."
      ]
    },
    {
      "cell_type": "code",
      "execution_count": null,
      "metadata": {
        "colab": {
          "base_uri": "https://localhost:8080/"
        },
        "id": "ErrV_BByHFox",
        "outputId": "234a9e86-3948-4690-c82c-a88478350fa4"
      },
      "outputs": [
        {
          "name": "stdout",
          "output_type": "stream",
          "text": [
            "cherry\n",
            "apple\n",
            "banana\n"
          ]
        }
      ],
      "source": [
        "#Loop through the set, and print the values:\n",
        "\n",
        "thisset = {\"apple\", \"banana\", \"cherry\"}\n",
        "\n",
        "for x in thisset:\n",
        "  print(x)"
      ]
    },
    {
      "cell_type": "code",
      "execution_count": null,
      "metadata": {
        "colab": {
          "base_uri": "https://localhost:8080/"
        },
        "id": "mk-ZGuhiHMg-",
        "outputId": "a4e77688-d0c6-4e2b-b97c-da1732029333"
      },
      "outputs": [
        {
          "name": "stdout",
          "output_type": "stream",
          "text": [
            "True\n"
          ]
        }
      ],
      "source": [
        "#Check if \"banana\" is present in the set:\n",
        "\n",
        "thisset = {\"apple\", \"banana\", \"cherry\"}\n",
        "\n",
        "print(\"banana\" in thisset)"
      ]
    },
    {
      "cell_type": "markdown",
      "metadata": {
        "id": "qh93GiKVHQnE"
      },
      "source": [
        "Change Items:Once a set is created, you cannot change its items, but you can add new items."
      ]
    },
    {
      "cell_type": "markdown",
      "metadata": {
        "id": "wTjqz0NlHVFc"
      },
      "source": [
        "Python - Add Set Items:\n"
      ]
    },
    {
      "cell_type": "markdown",
      "metadata": {
        "id": "6f5MvfCmHY3N"
      },
      "source": [
        "Add Items:\n",
        "\n",
        "1.Once a set is created, you cannot change its items, but you can add new items.\n",
        "\n",
        "2.To add one item to a set use the add() method."
      ]
    },
    {
      "cell_type": "code",
      "execution_count": null,
      "metadata": {
        "colab": {
          "base_uri": "https://localhost:8080/"
        },
        "id": "hdeHkIW3HZkk",
        "outputId": "e0e79511-aca2-4136-bac1-38588c5963bf"
      },
      "outputs": [
        {
          "name": "stdout",
          "output_type": "stream",
          "text": [
            "{'cherry', 'apple', 'banana', 'orange'}\n"
          ]
        }
      ],
      "source": [
        "#Add an item to a set, using the add() method:\n",
        "\n",
        "thisset = {\"apple\", \"banana\", \"cherry\"}\n",
        "\n",
        "thisset.add(\"orange\")\n",
        "\n",
        "print(thisset)"
      ]
    },
    {
      "cell_type": "markdown",
      "metadata": {
        "id": "G2wvJUJtHhjU"
      },
      "source": [
        "Add Sets: To add items from another set into the current set, use the update() method."
      ]
    },
    {
      "cell_type": "code",
      "execution_count": null,
      "metadata": {
        "colab": {
          "base_uri": "https://localhost:8080/"
        },
        "id": "dsK0DSH4HiSd",
        "outputId": "124012c0-67c5-447f-ce2e-01ddcdc8e5fb"
      },
      "outputs": [
        {
          "name": "stdout",
          "output_type": "stream",
          "text": [
            "{'cherry', 'papaya', 'apple', 'mango', 'banana', 'pineapple'}\n"
          ]
        }
      ],
      "source": [
        "#Add elements from tropical into thisset\n",
        "\n",
        "thisset = {\"apple\", \"banana\", \"cherry\"}\n",
        "tropical = {\"pineapple\", \"mango\", \"papaya\"}\n",
        "\n",
        "thisset.update(tropical)\n",
        "\n",
        "print(thisset)"
      ]
    },
    {
      "cell_type": "markdown",
      "metadata": {
        "id": "Q0Z72X6jHsQE"
      },
      "source": [
        "Add Any Iterable\n"
      ]
    },
    {
      "cell_type": "markdown",
      "metadata": {
        "id": "Qk0QjkFSHxVE"
      },
      "source": [
        "The object in the update() method does not have to be a set, it can be any iterable object (tuples, lists, dictionaries etc.)\n",
        "\n"
      ]
    },
    {
      "cell_type": "code",
      "execution_count": null,
      "metadata": {
        "colab": {
          "background_save": true
        },
        "id": "iXMx1wmnHzSb",
        "outputId": "e33e1b13-8abd-40d2-f09f-4301cf2b10fb"
      },
      "outputs": [
        {
          "name": "stdout",
          "output_type": "stream",
          "text": [
            "{'cherry', 'apple', 'kiwi', 'banana', 'orange'}\n"
          ]
        }
      ],
      "source": [
        "#Add elements of a list to at set:\n",
        "\n",
        "thisset = {\"apple\", \"banana\", \"cherry\"}\n",
        "mylist = [\"kiwi\", \"orange\"]\n",
        "\n",
        "thisset.update(mylist)\n",
        "\n",
        "print(thisset)"
      ]
    },
    {
      "cell_type": "markdown",
      "source": [
        "Python - Remove Set Items\n"
      ],
      "metadata": {
        "id": "ktmu1R4GJGVv"
      }
    },
    {
      "cell_type": "markdown",
      "source": [
        "Remove Item:\n",
        "To remove an item in a set, use the remove(), or the discard() method.\n",
        "\n",
        "Note: If the item to remove does not exist, remove() will raise an error.\n",
        "\n",
        "Note: If the item to remove does not exist, discard() will NOT raise an error.\n",
        "\n",
        "Note: Sets are unordered, so when using the pop() method, you do not know which item that gets removed.\n",
        "\n",
        "\n",
        "You can also use the pop() method to remove an item, but this method will remove a random item, so you cannot be sure what item that gets removed.\n",
        "\n",
        "\n",
        "\n",
        "The return value of the pop() method is the removed item."
      ],
      "metadata": {
        "id": "JyKu77cBJMGX"
      }
    },
    {
      "cell_type": "code",
      "source": [
        "#Remove \"banana\" by using the remove() method:\n",
        "\n",
        "thisset = {\"apple\", \"banana\", \"cherry\"}\n",
        "\n",
        "thisset.remove(\"banana\")\n",
        "\n",
        "print(thisset)"
      ],
      "metadata": {
        "colab": {
          "base_uri": "https://localhost:8080/"
        },
        "id": "w-hBsNIRJOKB",
        "outputId": "b5a40be9-3f95-4c6d-95ec-969af0e9db70"
      },
      "execution_count": null,
      "outputs": [
        {
          "output_type": "stream",
          "name": "stdout",
          "text": [
            "{'cherry', 'apple'}\n"
          ]
        }
      ]
    },
    {
      "cell_type": "code",
      "source": [
        "#Remove a random item by using the pop() method:\n",
        "\n",
        "thisset = {\"apple\", \"banana\", \"cherry\"}\n",
        "\n",
        "x = thisset.pop()\n",
        "\n",
        "print(x)\n",
        "\n",
        "print(thisset)"
      ],
      "metadata": {
        "colab": {
          "base_uri": "https://localhost:8080/"
        },
        "id": "mec8YqWLJRlP",
        "outputId": "fb58fa9d-49d3-4a35-e83c-99b2bc1a13ba"
      },
      "execution_count": null,
      "outputs": [
        {
          "output_type": "stream",
          "name": "stdout",
          "text": [
            "cherry\n",
            "{'apple', 'banana'}\n"
          ]
        }
      ]
    },
    {
      "cell_type": "code",
      "source": [
        "#The clear() method empties the set:\n",
        "\n",
        "thisset = {\"apple\", \"banana\", \"cherry\"}\n",
        "\n",
        "thisset.clear()\n",
        "\n",
        "print(thisset)"
      ],
      "metadata": {
        "colab": {
          "base_uri": "https://localhost:8080/"
        },
        "id": "5FoGLpKpJzG-",
        "outputId": "d6468320-2566-4a03-d624-d7c0e66a71a1"
      },
      "execution_count": null,
      "outputs": [
        {
          "output_type": "stream",
          "name": "stdout",
          "text": [
            "set()\n"
          ]
        }
      ]
    },
    {
      "cell_type": "code",
      "source": [
        "#The del keyword will delete the set completely:\n",
        "\n",
        "thisset = {\"apple\", \"banana\", \"cherry\"}\n",
        "\n",
        "del thisset\n",
        "\n",
        "print(thisset)"
      ],
      "metadata": {
        "colab": {
          "base_uri": "https://localhost:8080/",
          "height": 208
        },
        "id": "SWw6pAN5J96t",
        "outputId": "2b049346-8941-4736-a6a7-3a0ba1fede03"
      },
      "execution_count": null,
      "outputs": [
        {
          "output_type": "error",
          "ename": "NameError",
          "evalue": "ignored",
          "traceback": [
            "\u001b[0;31m---------------------------------------------------------------------------\u001b[0m",
            "\u001b[0;31mNameError\u001b[0m                                 Traceback (most recent call last)",
            "\u001b[0;32m<ipython-input-71-3bd3115f2ab0>\u001b[0m in \u001b[0;36m<cell line: 7>\u001b[0;34m()\u001b[0m\n\u001b[1;32m      5\u001b[0m \u001b[0;32mdel\u001b[0m \u001b[0mthisset\u001b[0m\u001b[0;34m\u001b[0m\u001b[0;34m\u001b[0m\u001b[0m\n\u001b[1;32m      6\u001b[0m \u001b[0;34m\u001b[0m\u001b[0m\n\u001b[0;32m----> 7\u001b[0;31m \u001b[0mprint\u001b[0m\u001b[0;34m(\u001b[0m\u001b[0mthisset\u001b[0m\u001b[0;34m)\u001b[0m\u001b[0;34m\u001b[0m\u001b[0;34m\u001b[0m\u001b[0m\n\u001b[0m",
            "\u001b[0;31mNameError\u001b[0m: name 'thisset' is not defined"
          ]
        }
      ]
    },
    {
      "cell_type": "markdown",
      "source": [
        "Python - Join Sets\n"
      ],
      "metadata": {
        "id": "YUjNZocdKQCY"
      }
    },
    {
      "cell_type": "markdown",
      "source": [
        "Join Two Sets:\n",
        "\n",
        "There are several ways to join two or more sets in Python.\n",
        "\n",
        "You can use the union() method that returns a new set containing all items from both sets, or the update() method that inserts all the items from one set into another"
      ],
      "metadata": {
        "id": "s3cw_6YUKVjw"
      }
    },
    {
      "cell_type": "code",
      "source": [
        "#The union() method returns a new set with all items from both sets:\n",
        "\n",
        "set1 = {\"a\", \"b\" , \"c\"}\n",
        "set2 = {1, 2, 3}\n",
        "\n",
        "set3 = set1.union(set2)\n",
        "print(set3)"
      ],
      "metadata": {
        "colab": {
          "base_uri": "https://localhost:8080/"
        },
        "id": "soGQa-oxKXmZ",
        "outputId": "e4e9da5d-de91-42e3-b865-5c81c831c705"
      },
      "execution_count": null,
      "outputs": [
        {
          "output_type": "stream",
          "name": "stdout",
          "text": [
            "{1, 2, 'b', 3, 'c', 'a'}\n"
          ]
        }
      ]
    },
    {
      "cell_type": "code",
      "source": [
        "#The update() method inserts the items in set2 into set1:\n",
        "\n",
        "set1 = {\"a\", \"b\" , \"c\"}\n",
        "set2 = {1, 2, 3}\n",
        "\n",
        "set1.update(set2)\n",
        "print(set1)"
      ],
      "metadata": {
        "colab": {
          "base_uri": "https://localhost:8080/"
        },
        "id": "rgEQebgQKiti",
        "outputId": "151e2e96-1f4a-4ff9-9d0a-432941c77a77"
      },
      "execution_count": null,
      "outputs": [
        {
          "output_type": "stream",
          "name": "stdout",
          "text": [
            "{1, 2, 'b', 3, 'c', 'a'}\n"
          ]
        }
      ]
    },
    {
      "cell_type": "markdown",
      "source": [
        "Keep ONLY the Duplicates:\n",
        "\n",
        "The intersection_update() method will keep only the items that are present in both sets.\n"
      ],
      "metadata": {
        "id": "iaSTYLpbKoMB"
      }
    },
    {
      "cell_type": "code",
      "source": [
        "#Keep the items that exist in both set x, and set y:\n",
        "\n",
        "x = {\"apple\", \"banana\", \"cherry\"}\n",
        "y = {\"google\", \"microsoft\", \"apple\"}\n",
        "\n",
        "x.intersection_update(y)\n",
        "\n",
        "print(x)"
      ],
      "metadata": {
        "colab": {
          "base_uri": "https://localhost:8080/"
        },
        "id": "BYRMFUplKt0g",
        "outputId": "0263223b-7c9e-4122-bd05-872ae0c5d3f6"
      },
      "execution_count": null,
      "outputs": [
        {
          "output_type": "stream",
          "name": "stdout",
          "text": [
            "{'apple'}\n"
          ]
        }
      ]
    },
    {
      "cell_type": "markdown",
      "source": [
        "The intersection() method will return a new set, that only contains the items that are present in both sets.\n",
        "\n"
      ],
      "metadata": {
        "id": "2HbbV66oK6MB"
      }
    },
    {
      "cell_type": "code",
      "source": [
        "#Return a set that contains the items that exist in both set x, and set y:\n",
        "\n",
        "x = {\"apple\", \"banana\", \"cherry\"}\n",
        "y = {\"google\", \"microsoft\", \"apple\"}\n",
        "\n",
        "z = x.intersection(y)\n",
        "\n",
        "print(z)"
      ],
      "metadata": {
        "colab": {
          "base_uri": "https://localhost:8080/"
        },
        "id": "2gzll4tZK7L-",
        "outputId": "e410e1a7-4646-4f7a-faa8-2f4a58b1fd5d"
      },
      "execution_count": null,
      "outputs": [
        {
          "output_type": "stream",
          "name": "stdout",
          "text": [
            "{'apple'}\n"
          ]
        }
      ]
    },
    {
      "cell_type": "markdown",
      "source": [
        "Keep All, But NOT the Duplicates:\n",
        "\n",
        "The symmetric_difference_update() method will keep only the elements that are NOT present in both sets.\n",
        "\n",
        "\n"
      ],
      "metadata": {
        "id": "-0w_AlqlLFC5"
      }
    },
    {
      "cell_type": "code",
      "source": [
        "#Keep the items that are not present in both sets:\n",
        "\n",
        "x = {\"apple\", \"banana\", \"cherry\"}\n",
        "y = {\"google\", \"microsoft\", \"apple\"}\n",
        "\n",
        "x.symmetric_difference_update(y)\n",
        "\n",
        "print(x)"
      ],
      "metadata": {
        "colab": {
          "base_uri": "https://localhost:8080/"
        },
        "id": "32yiPZtOLSFw",
        "outputId": "1d2d35ed-8bbf-4dac-fba4-4045ab91f207"
      },
      "execution_count": null,
      "outputs": [
        {
          "output_type": "stream",
          "name": "stdout",
          "text": [
            "{'cherry', 'google', 'microsoft', 'banana'}\n"
          ]
        }
      ]
    },
    {
      "cell_type": "markdown",
      "source": [
        "The symmetric_difference() method will return a new set, that contains only the elements that are NOT present in both sets"
      ],
      "metadata": {
        "id": "RO09o5XvLaSq"
      }
    },
    {
      "cell_type": "code",
      "source": [
        "#Return a set that contains all items from both sets, except items that are present in both:\n",
        "\n",
        "x = {\"apple\", \"banana\", \"cherry\"}\n",
        "y = {\"google\", \"microsoft\", \"apple\"}\n",
        "\n",
        "z = x.symmetric_difference(y)\n",
        "\n",
        "print(z)"
      ],
      "metadata": {
        "colab": {
          "base_uri": "https://localhost:8080/"
        },
        "id": "c3QjSqKXLbHE",
        "outputId": "29c27b5d-0da9-4afd-bf2a-bfae7b7206a3"
      },
      "execution_count": null,
      "outputs": [
        {
          "output_type": "stream",
          "name": "stdout",
          "text": [
            "{'cherry', 'microsoft', 'banana', 'google'}\n"
          ]
        }
      ]
    },
    {
      "cell_type": "markdown",
      "source": [
        "Note: The values True and 1 are considered the same value in sets, and are treated as duplicates"
      ],
      "metadata": {
        "id": "ZE36xmsrLi9j"
      }
    },
    {
      "cell_type": "code",
      "source": [
        "#True and 1 is considered the same value:\n",
        "\n",
        "x = {\"apple\", \"banana\", \"cherry\", True}\n",
        "y = {\"google\", 1, \"apple\", 2}\n",
        "\n",
        "z = x.symmetric_difference(y)\n",
        "print(z)\n"
      ],
      "metadata": {
        "colab": {
          "base_uri": "https://localhost:8080/"
        },
        "id": "7LPqYzA8Lj0N",
        "outputId": "d2fd5164-7d1b-4bc1-f321-819b1312b5ec"
      },
      "execution_count": null,
      "outputs": [
        {
          "output_type": "stream",
          "name": "stdout",
          "text": [
            "{'cherry', 2, 'banana', 'google'}\n"
          ]
        }
      ]
    },
    {
      "cell_type": "markdown",
      "source": [
        "Python - Set Methods\n"
      ],
      "metadata": {
        "id": "J3XZFF7LL0Br"
      }
    },
    {
      "cell_type": "markdown",
      "source": [
        "Set Methods\n",
        "Python has a set of built-in methods that you can use on sets.\n",
        "\n",
        "Method----------------------------------Description\n",
        "\n",
        "\n",
        "1.add()\t---Adds an element to the set.\n",
        "\n",
        "2.clear()\t----Removes all the elements from the set.\n",
        "\n",
        "3.copy()-----\tReturns a copy of the set.\n",
        "\n",
        "4.difference()-----\tReturns a set containing the difference between two or more sets.\n",
        "\n",
        "5.difference_update()-----\tRemoves the items in this set that are also included in another, specified set.\n",
        "\n",
        "6.discard()----\tRemove the specified item.\n",
        "\n",
        "7.intersection()-----\tReturns a set, that is the intersection of two other sets.\n",
        "\n",
        "8.intersection_update()----\tRemoves the items in this set that are not present in other, specified set(s).\n",
        "\n",
        "9.isdisjoint()----\tReturns whether two sets have a intersection or not.\n",
        "\n",
        "10.issubset()\t------Returns whether another set contains this set or not.\n",
        "\n",
        "11.issuperset()-------\tReturns whether this set contains another set or not.\n",
        "\n",
        "12.pop()\t-----Removes an element from the set.\n",
        "\n",
        "13.remove()-----\tRemoves the specified element.\n",
        "\n",
        "14.symmetric_difference()-----\tReturns a set with the symmetric differences of two sets.\n",
        "\n",
        "15.symmetric_difference_update()-----\tinserts the symmetric differences from this set and another.\n",
        "\n",
        "16.union()-----\tReturn a set containing the union of sets.\n",
        "\n",
        "17.update()\t-----Update the set with the union of this set and others."
      ],
      "metadata": {
        "id": "SVTbDZmVL8dM"
      }
    },
    {
      "cell_type": "code",
      "source": [
        "#Add an element to the fruits set:\n",
        "\n",
        "fruits = {\"apple\", \"banana\", \"cherry\"}\n",
        "\n",
        "fruits.add(\"orange\")\n",
        "\n",
        "print(fruits)"
      ],
      "metadata": {
        "colab": {
          "base_uri": "https://localhost:8080/"
        },
        "id": "uzO4cmAsTy1-",
        "outputId": "0746bb23-3147-4769-9cc6-1cd1ea96a05b"
      },
      "execution_count": null,
      "outputs": [
        {
          "output_type": "stream",
          "name": "stdout",
          "text": [
            "{'cherry', 'apple', 'banana', 'orange'}\n"
          ]
        }
      ]
    },
    {
      "cell_type": "code",
      "source": [
        "#Remove all elements from the fruits set:\n",
        "\n",
        "fruits = {\"apple\", \"banana\", \"cherry\"}\n",
        "\n",
        "fruits.clear()\n",
        "\n",
        "print(fruits)"
      ],
      "metadata": {
        "colab": {
          "base_uri": "https://localhost:8080/"
        },
        "id": "d62seKW4T4mz",
        "outputId": "6de89b94-b89a-4246-99c3-c4adb820a687"
      },
      "execution_count": null,
      "outputs": [
        {
          "output_type": "stream",
          "name": "stdout",
          "text": [
            "set()\n"
          ]
        }
      ]
    },
    {
      "cell_type": "code",
      "source": [
        "#Copy the fruits set:\n",
        "\n",
        "fruits = {\"apple\", \"banana\", \"cherry\"}\n",
        "\n",
        "x = fruits.copy()\n",
        "\n",
        "print(x)"
      ],
      "metadata": {
        "colab": {
          "base_uri": "https://localhost:8080/"
        },
        "id": "138HdOl9UBap",
        "outputId": "72e1be03-f977-441d-e414-69857e643b25"
      },
      "execution_count": null,
      "outputs": [
        {
          "output_type": "stream",
          "name": "stdout",
          "text": [
            "{'cherry', 'apple', 'banana'}\n"
          ]
        }
      ]
    },
    {
      "cell_type": "code",
      "source": [
        "#Return a set that contains the items that only exist in set x, and not in set y:\n",
        "\n",
        "x = {\"apple\", \"banana\", \"cherry\"}\n",
        "y = {\"google\", \"microsoft\", \"apple\"}\n",
        "\n",
        "z = x.difference(y)\n",
        "\n",
        "print(z)"
      ],
      "metadata": {
        "colab": {
          "base_uri": "https://localhost:8080/"
        },
        "id": "lmEEDNOOUIGD",
        "outputId": "9cea2de8-f402-4341-ff2f-1d5868b39974"
      },
      "execution_count": null,
      "outputs": [
        {
          "output_type": "stream",
          "name": "stdout",
          "text": [
            "{'cherry', 'banana'}\n"
          ]
        }
      ]
    },
    {
      "cell_type": "code",
      "source": [
        "#Remove the items that exist in both sets:\n",
        "\n",
        "x = {\"apple\", \"banana\", \"cherry\"}\n",
        "y = {\"google\", \"microsoft\", \"apple\"}\n",
        "\n",
        "x.difference_update(y)\n",
        "\n",
        "print(x)"
      ],
      "metadata": {
        "colab": {
          "base_uri": "https://localhost:8080/"
        },
        "id": "FnLVZx4MUOdJ",
        "outputId": "4472fcb9-fd9a-4225-d2eb-d436afb01525"
      },
      "execution_count": null,
      "outputs": [
        {
          "output_type": "stream",
          "name": "stdout",
          "text": [
            "{'cherry', 'banana'}\n"
          ]
        }
      ]
    },
    {
      "cell_type": "code",
      "source": [
        "#Remove \"banana\" from the set:\n",
        "\n",
        "fruits = {\"apple\", \"banana\", \"cherry\"}\n",
        "\n",
        "fruits.discard(\"banana\")\n",
        "\n",
        "print(fruits)"
      ],
      "metadata": {
        "colab": {
          "base_uri": "https://localhost:8080/"
        },
        "id": "2qnxRpVHUTw7",
        "outputId": "f8bf03f7-2555-4cca-b644-19f72505ba0b"
      },
      "execution_count": null,
      "outputs": [
        {
          "output_type": "stream",
          "name": "stdout",
          "text": [
            "{'cherry', 'apple'}\n"
          ]
        }
      ]
    },
    {
      "cell_type": "code",
      "source": [
        "#Return a set that contains the items that exist in both set x, and set y:\n",
        "\n",
        "x = {\"apple\", \"banana\", \"cherry\"}\n",
        "y = {\"google\", \"microsoft\", \"apple\"}\n",
        "\n",
        "z = x.intersection(y)\n",
        "\n",
        "print(z)"
      ],
      "metadata": {
        "colab": {
          "base_uri": "https://localhost:8080/"
        },
        "id": "ODg--zgpUbor",
        "outputId": "b95e2916-cba2-4b9a-89de-f540aa60965a"
      },
      "execution_count": null,
      "outputs": [
        {
          "output_type": "stream",
          "name": "stdout",
          "text": [
            "{'apple'}\n"
          ]
        }
      ]
    },
    {
      "cell_type": "code",
      "source": [
        "#Remove the items that is not present in both x and y:\n",
        "\n",
        "x = {\"apple\", \"banana\", \"cherry\"}\n",
        "y = {\"google\", \"microsoft\", \"apple\"}\n",
        "\n",
        "x.intersection_update(y)\n",
        "\n",
        "print(x)"
      ],
      "metadata": {
        "colab": {
          "base_uri": "https://localhost:8080/"
        },
        "id": "vCdGnsTUUhpZ",
        "outputId": "4990fd1a-f6f8-479b-c188-4694bcd02bed"
      },
      "execution_count": null,
      "outputs": [
        {
          "output_type": "stream",
          "name": "stdout",
          "text": [
            "{'apple'}\n"
          ]
        }
      ]
    },
    {
      "cell_type": "code",
      "source": [
        "#Return True if no items in set x is present in set y:\n",
        "\n",
        "x = {\"apple\", \"banana\", \"cherry\"}\n",
        "y = {\"google\", \"microsoft\", \"facebook\"}\n",
        "\n",
        "z = x.isdisjoint(y)\n",
        "\n",
        "print(z)"
      ],
      "metadata": {
        "colab": {
          "base_uri": "https://localhost:8080/"
        },
        "id": "-XOraZ6RUp8q",
        "outputId": "d6a6b85e-cd98-442a-936b-f77b5fcd9a95"
      },
      "execution_count": null,
      "outputs": [
        {
          "output_type": "stream",
          "name": "stdout",
          "text": [
            "True\n"
          ]
        }
      ]
    },
    {
      "cell_type": "code",
      "source": [
        "#Return True if all items in set x are present in set y:\n",
        "\n",
        "x = {\"a\", \"b\", \"c\"}\n",
        "y = {\"f\", \"e\", \"d\", \"c\", \"b\", \"a\"}\n",
        "\n",
        "z = x.issubset(y)\n",
        "\n",
        "print(z)"
      ],
      "metadata": {
        "colab": {
          "base_uri": "https://localhost:8080/"
        },
        "id": "HYm1L8peUydV",
        "outputId": "0fc4cece-4573-410e-afad-e9690210350a"
      },
      "execution_count": null,
      "outputs": [
        {
          "output_type": "stream",
          "name": "stdout",
          "text": [
            "True\n"
          ]
        }
      ]
    },
    {
      "cell_type": "code",
      "source": [
        "#Return True if all items set y are present in set x:\n",
        "\n",
        "x = {\"f\", \"e\", \"d\", \"c\", \"b\", \"a\"}\n",
        "y = {\"a\", \"b\", \"c\"}\n",
        "\n",
        "z = x.issuperset(y)\n",
        "\n",
        "print(z)"
      ],
      "metadata": {
        "colab": {
          "base_uri": "https://localhost:8080/"
        },
        "id": "njh9KPahU4do",
        "outputId": "146093e4-d575-4928-8c36-807debb0c85d"
      },
      "execution_count": null,
      "outputs": [
        {
          "output_type": "stream",
          "name": "stdout",
          "text": [
            "True\n"
          ]
        }
      ]
    },
    {
      "cell_type": "code",
      "source": [
        "#Remove a random item from the set:\n",
        "\n",
        "fruits = {\"apple\", \"banana\", \"cherry\"}\n",
        "\n",
        "fruits.pop()\n",
        "\n",
        "print(fruits)"
      ],
      "metadata": {
        "colab": {
          "base_uri": "https://localhost:8080/"
        },
        "id": "u2DX-WmuVGzB",
        "outputId": "baafacbc-21b1-4f4a-99ff-113f34f3126e"
      },
      "execution_count": null,
      "outputs": [
        {
          "output_type": "stream",
          "name": "stdout",
          "text": [
            "{'apple', 'banana'}\n"
          ]
        }
      ]
    },
    {
      "cell_type": "code",
      "source": [
        "#Remove \"banana\" from the set:\n",
        "\n",
        "fruits = {\"apple\", \"banana\", \"cherry\"}\n",
        "\n",
        "fruits.remove(\"banana\")\n",
        "\n",
        "print(fruits)"
      ],
      "metadata": {
        "colab": {
          "base_uri": "https://localhost:8080/"
        },
        "id": "ekR5092aVIYT",
        "outputId": "5072959a-54b2-4305-e107-0142349db937"
      },
      "execution_count": null,
      "outputs": [
        {
          "output_type": "stream",
          "name": "stdout",
          "text": [
            "{'cherry', 'apple'}\n"
          ]
        }
      ]
    },
    {
      "cell_type": "code",
      "source": [
        "#Return a set that contains all items from both sets, except items that are present in both sets:\n",
        "\n",
        "x = {\"apple\", \"banana\", \"cherry\"}\n",
        "y = {\"google\", \"microsoft\", \"apple\"}\n",
        "\n",
        "z = x.symmetric_difference(y)\n",
        "\n",
        "print(z)"
      ],
      "metadata": {
        "colab": {
          "base_uri": "https://localhost:8080/"
        },
        "id": "Ig-fQmAcVUkn",
        "outputId": "20f65868-0a7c-48bc-997d-ac5a2518c215"
      },
      "execution_count": null,
      "outputs": [
        {
          "output_type": "stream",
          "name": "stdout",
          "text": [
            "{'cherry', 'microsoft', 'banana', 'google'}\n"
          ]
        }
      ]
    },
    {
      "cell_type": "code",
      "source": [
        "#Remove the items that are present in both sets, AND insert the items that is not present in both sets:\n",
        "\n",
        "x = {\"apple\", \"banana\", \"cherry\"}\n",
        "y = {\"google\", \"microsoft\", \"apple\"}\n",
        "\n",
        "x.symmetric_difference_update(y)\n",
        "\n",
        "print(x)"
      ],
      "metadata": {
        "colab": {
          "base_uri": "https://localhost:8080/"
        },
        "id": "lIZpxGooVWDS",
        "outputId": "d5ab226a-d558-400a-ddf6-6c65b9005dd7"
      },
      "execution_count": null,
      "outputs": [
        {
          "output_type": "stream",
          "name": "stdout",
          "text": [
            "{'cherry', 'google', 'microsoft', 'banana'}\n"
          ]
        }
      ]
    },
    {
      "cell_type": "code",
      "source": [
        "#Return a set that contains all items from both sets, duplicates are excluded:\n",
        "\n",
        "x = {\"apple\", \"banana\", \"cherry\"}\n",
        "y = {\"google\", \"microsoft\", \"apple\"}\n",
        "\n",
        "z = x.union(y)\n",
        "\n",
        "print(z)"
      ],
      "metadata": {
        "colab": {
          "base_uri": "https://localhost:8080/"
        },
        "id": "Kb2gxoCWVjBX",
        "outputId": "eb2767fa-6a7e-4d37-bf06-1f25f6b9867f"
      },
      "execution_count": null,
      "outputs": [
        {
          "output_type": "stream",
          "name": "stdout",
          "text": [
            "{'cherry', 'apple', 'microsoft', 'google', 'banana'}\n"
          ]
        }
      ]
    },
    {
      "cell_type": "code",
      "source": [
        "#Insert the items from set y into set x:\n",
        "\n",
        "x = {\"apple\", \"banana\", \"cherry\"}\n",
        "y = {\"google\", \"microsoft\", \"apple\"}\n",
        "\n",
        "x.update(y)\n",
        "\n",
        "print(x)\n"
      ],
      "metadata": {
        "colab": {
          "base_uri": "https://localhost:8080/"
        },
        "id": "S_m34y5zVpBa",
        "outputId": "7812f43a-ef8b-4452-ce5a-541c31cfc765"
      },
      "execution_count": null,
      "outputs": [
        {
          "output_type": "stream",
          "name": "stdout",
          "text": [
            "{'cherry', 'apple', 'microsoft', 'google', 'banana'}\n"
          ]
        }
      ]
    }
  ],
  "metadata": {
    "colab": {
      "provenance": []
    },
    "kernelspec": {
      "display_name": "Python 3",
      "name": "python3"
    },
    "language_info": {
      "name": "python"
    }
  },
  "nbformat": 4,
  "nbformat_minor": 0
}