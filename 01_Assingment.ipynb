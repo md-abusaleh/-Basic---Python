{
  "nbformat": 4,
  "nbformat_minor": 0,
  "metadata": {
    "colab": {
      "provenance": []
    },
    "kernelspec": {
      "name": "python3",
      "display_name": "Python 3"
    },
    "language_info": {
      "name": "python"
    }
  },
  "cells": [
    {
      "cell_type": "code",
      "execution_count": null,
      "metadata": {
        "colab": {
          "base_uri": "https://localhost:8080/"
        },
        "id": "DwZu6UqJVvoE",
        "outputId": "157d1204-989c-44d9-eb7b-2ff3759a7f6d"
      },
      "outputs": [
        {
          "output_type": "stream",
          "name": "stdout",
          "text": [
            "saleh\n"
          ]
        }
      ],
      "source": [
        "#printing my name\n",
        "print('saleh')"
      ]
    },
    {
      "cell_type": "code",
      "source": [
        "Age = 15\n",
        "print(Age)"
      ],
      "metadata": {
        "colab": {
          "base_uri": "https://localhost:8080/"
        },
        "id": "o46wGZ-iXM2W",
        "outputId": "64ee5df2-a33a-48ba-f97c-3e96ceec00f7"
      },
      "execution_count": null,
      "outputs": [
        {
          "output_type": "stream",
          "name": "stdout",
          "text": [
            "15\n"
          ]
        }
      ]
    },
    {
      "cell_type": "code",
      "source": [
        "#name print\n",
        "print(\"Abu Saleh\")"
      ],
      "metadata": {
        "id": "L-ZyjRPmkvtV",
        "colab": {
          "base_uri": "https://localhost:8080/"
        },
        "outputId": "d0099fc8-323c-4b20-ba48-ef7b4bc236b4"
      },
      "execution_count": null,
      "outputs": [
        {
          "output_type": "stream",
          "name": "stdout",
          "text": [
            "Abu Saleh\n"
          ]
        }
      ]
    },
    {
      "cell_type": "code",
      "source": [
        "#pass value as perameter\n",
        "b='ABU'\n",
        "c='SALEH'\n",
        "print(\"Hi\",b,c)"
      ],
      "metadata": {
        "colab": {
          "base_uri": "https://localhost:8080/"
        },
        "id": "uDzyR3ISW_Ro",
        "outputId": "2ee88373-70bc-4c02-c551-53735c38ca88"
      },
      "execution_count": null,
      "outputs": [
        {
          "output_type": "stream",
          "name": "stdout",
          "text": [
            "Hi ABU SALEH\n"
          ]
        }
      ]
    },
    {
      "cell_type": "code",
      "source": [
        "\"\"\"Python support\n",
        "are 3 data type \"\"\"\n",
        "print('3')\n",
        "print(type(3))"
      ],
      "metadata": {
        "colab": {
          "base_uri": "https://localhost:8080/"
        },
        "id": "F225YktxXj_w",
        "outputId": "b1361426-5b85-457f-d934-6a72125f0176"
      },
      "execution_count": null,
      "outputs": [
        {
          "output_type": "stream",
          "name": "stdout",
          "text": [
            "3\n",
            "<class 'int'>\n"
          ]
        }
      ]
    },
    {
      "cell_type": "code",
      "source": [
        "#Basic data type \n",
        "a=2 \n",
        "b=2.25\n",
        "c=5j\n",
        "\n",
        "print(type(a))\n",
        "print(type(b))\n",
        "print(type(c))"
      ],
      "metadata": {
        "colab": {
          "base_uri": "https://localhost:8080/"
        },
        "id": "DnOG_7K-YgpL",
        "outputId": "0bf8bcdb-b723-4ead-fc5c-191f5d2c37c3"
      },
      "execution_count": null,
      "outputs": [
        {
          "output_type": "stream",
          "name": "stdout",
          "text": [
            "<class 'int'>\n",
            "<class 'float'>\n",
            "<class 'complex'>\n"
          ]
        }
      ]
    },
    {
      "cell_type": "code",
      "source": [
        "\"\"\"NOTE: There are two types of Type Conversion in Python:\n",
        "1.Implicit Type Conversion\n",
        "2.Explicit Type Conversion\n",
        "\n",
        "Implicit Type Conversion:\n",
        "In Implicit type conversion of data types in Python, the Python interpreter automatically converts one data type to another without any user involvement.\n",
        "\n",
        "Explicit Type Conversion:\n",
        "In Explicit Type Conversion in Python, the data type is manually changed by the user as per their requirement.\n",
        "With explicit type conversion, there is a risk of data loss since we are forcing an expression to be changed in some specific data type.\n",
        "\n",
        "1.int(a, base): This function converts any data type to integer. ‘Base’ specifies the base in which string is if the data type is a string.\n",
        "2. float(): This function is used to convert any data type to a floating-point number\"\"\"\n",
        "\n",
        "#Data type Conversion\n",
        "a=4\n",
        "b=2.25\n",
        "c=5j\n",
        "\n",
        "x=float(a)\n",
        "y=int(b)\n",
        "z=complex(c)\n",
        "\n",
        "print(x)\n",
        "print(y)\n",
        "print(z)\n",
        "\n",
        "print(type(x))\n",
        "print(type(y))\n",
        "print(type(z))"
      ],
      "metadata": {
        "colab": {
          "base_uri": "https://localhost:8080/"
        },
        "id": "sgsCRU5caw43",
        "outputId": "92d6fdcf-5c2a-4202-9b80-d58fc43e67bd"
      },
      "execution_count": null,
      "outputs": [
        {
          "output_type": "stream",
          "name": "stdout",
          "text": [
            "4.0\n",
            "2\n",
            "5j\n",
            "<class 'float'>\n",
            "<class 'int'>\n",
            "<class 'complex'>\n"
          ]
        }
      ]
    },
    {
      "cell_type": "code",
      "source": [
        "#Two pass perameter str and int value print\n",
        "\n",
        "a=7\n",
        "b=\"7\"\n",
        "c= a + int(b)\n",
        "print(c)"
      ],
      "metadata": {
        "colab": {
          "base_uri": "https://localhost:8080/"
        },
        "id": "ncxsnTU6cnEp",
        "outputId": "624e07f9-fbdc-4ac0-af1d-8baf3c71b4cd"
      },
      "execution_count": null,
      "outputs": [
        {
          "output_type": "stream",
          "name": "stdout",
          "text": [
            "14\n"
          ]
        }
      ]
    },
    {
      "cell_type": "code",
      "source": [
        "\"\"\" NOTE:Strings in python are surrounded by either single \n",
        "   quotation marks, or double quotation marks\"\"\"\n",
        "\n",
        "#String print \n",
        "a=\"Hi,what's about you!\"\n",
        "print(a)\n"
      ],
      "metadata": {
        "colab": {
          "base_uri": "https://localhost:8080/"
        },
        "id": "g_2fxzaec_hq",
        "outputId": "9cb19939-46b0-4fad-b980-bda3552c7eec"
      },
      "execution_count": null,
      "outputs": [
        {
          "output_type": "stream",
          "name": "stdout",
          "text": [
            "Hi,what's about you!\n"
          ]
        }
      ]
    },
    {
      "cell_type": "code",
      "source": [
        "b=\"\"\" Myself saleh ahmed.I'm a student of Data Nerd.Batch no-03.\"\"\"\n",
        "print(b)"
      ],
      "metadata": {
        "colab": {
          "base_uri": "https://localhost:8080/"
        },
        "id": "FVBfKyeyeLx9",
        "outputId": "3d34a2e7-4c3e-45a8-a6db-8f6e4caed9db"
      },
      "execution_count": null,
      "outputs": [
        {
          "output_type": "stream",
          "name": "stdout",
          "text": [
            " Myself saleh ahmed.I'm a student of Data Nerd.Batch no-03.\n"
          ]
        }
      ]
    },
    {
      "cell_type": "code",
      "source": [
        "\"\"\" NOTE:You can return a range of characters by using the slice syntax.\n",
        "    Specify the start index and the end index, separated by a colon, to return a part of the string\"\"\"\n",
        "\n",
        "#Python slicing string\n",
        "\n",
        "a= \"DAFFODIL INTERNATIONAL UNIVERSITY\"\n",
        "print(a[:33])\n",
        "print(a[:9])\n",
        "print(a[9:23])\n",
        "print(a[23:33])"
      ],
      "metadata": {
        "colab": {
          "base_uri": "https://localhost:8080/"
        },
        "id": "iZ2GXtV3eqqU",
        "outputId": "42bc2969-6b29-4d71-e6a9-868df6218c42"
      },
      "execution_count": null,
      "outputs": [
        {
          "output_type": "stream",
          "name": "stdout",
          "text": [
            "DAFFODIL INTERNATIONAL UNIVERSITY\n",
            "DAFFODIL \n",
            "INTERNATIONAL \n",
            "UNIVERSITY\n"
          ]
        }
      ]
    },
    {
      "cell_type": "code",
      "source": [
        "\"\"\"Note:The lower() method returns a string where all characters are lower case\n",
        "   Symbols and Numbers are ignored\"\"\"\n",
        "\n",
        "# uper to lower\n",
        "\n",
        "a= \"DAFFODIL INTERNATIONAL UNIVERSITY\"\n",
        "print(a.lower())"
      ],
      "metadata": {
        "colab": {
          "base_uri": "https://localhost:8080/"
        },
        "id": "VCGnlTMugCp_",
        "outputId": "17cb5e4f-81c9-4c0f-e7aa-a95a52567750"
      },
      "execution_count": null,
      "outputs": [
        {
          "output_type": "stream",
          "name": "stdout",
          "text": [
            "daffodil international university\n"
          ]
        }
      ]
    },
    {
      "cell_type": "code",
      "source": [
        "\"\"\" NOTE:The upper() method returns a string where all characters are in upper case.\n",
        "    Symbols and Numbers are ignored.\"\"\"\n",
        "\n",
        "#lower to uper\n",
        "\n",
        "a=\"daffodil international university\"\n",
        "print(a.upper())"
      ],
      "metadata": {
        "colab": {
          "base_uri": "https://localhost:8080/"
        },
        "id": "u0NwCQOShQDK",
        "outputId": "44581915-7540-49f0-e386-9b3d3f43151c"
      },
      "execution_count": null,
      "outputs": [
        {
          "output_type": "stream",
          "name": "stdout",
          "text": [
            "DAFFODIL INTERNATIONAL UNIVERSITY\n"
          ]
        }
      ]
    },
    {
      "cell_type": "code",
      "source": [
        "\"\"\" NOTE:The strip() method removes any leading (spaces at the beginning) and trailing  \n",
        "   (spaces at the end) characters (space is the default leading character to remove) \"\"\"\n",
        "\n",
        "#strip\n",
        "\n",
        "a=\"     DAFFODIL INTERNATIONAL UNIVERSITY     \"\n",
        "print(a.strip())\n",
        "print(a.lstrip())\n",
        "print(a.rstrip())"
      ],
      "metadata": {
        "colab": {
          "base_uri": "https://localhost:8080/"
        },
        "id": "J1yzmVs0hh8a",
        "outputId": "02513053-8755-4aa0-ab74-50f57363a6e5"
      },
      "execution_count": null,
      "outputs": [
        {
          "output_type": "stream",
          "name": "stdout",
          "text": [
            "DAFFODIL INTERNATIONAL UNIVERSITY\n",
            "DAFFODIL INTERNATIONAL UNIVERSITY     \n",
            "       DAFFODIL INTERNATIONAL UNIVERSITY\n"
          ]
        }
      ]
    },
    {
      "cell_type": "code",
      "source": [
        "\"\"\" NOTE: the replace() method replaces a specified \n",
        "    phrase with another specified phrase\"\"\"\n",
        "\n",
        "#replace\n",
        "\n",
        "txt = \"Daffodil Collage.\"\n",
        "x = txt.replace(\"Collage\", \"University\")\n",
        "print(x)"
      ],
      "metadata": {
        "colab": {
          "base_uri": "https://localhost:8080/"
        },
        "id": "bMAZeIJ5jNjt",
        "outputId": "cef9480b-6411-455b-b3ce-a8475d719f14"
      },
      "execution_count": null,
      "outputs": [
        {
          "output_type": "stream",
          "name": "stdout",
          "text": [
            "Daffodil University, are good collage .\n"
          ]
        }
      ]
    },
    {
      "cell_type": "code",
      "source": [
        "\"\"\"A string is a sequence of one or more characters (letters, numbers, symbols)\n",
        "   that can be either a constant or a variable\"\"\"\n",
        "\n",
        "#using variable in string\n",
        "\n",
        "frist_name=\"MD.\"\n",
        "seeound_name=\"ABU\"\n",
        "last_name=\"SALEH\"\n",
        "full_name=f\"{frist_name} {seeound_name} {last_name}\"\n",
        "print(full_name)"
      ],
      "metadata": {
        "colab": {
          "base_uri": "https://localhost:8080/"
        },
        "id": "lbvoC6_qlp5P",
        "outputId": "3c91733e-609d-4742-a138-1ca7bf3adcf9"
      },
      "execution_count": null,
      "outputs": [
        {
          "output_type": "stream",
          "name": "stdout",
          "text": [
            "MD. ABU SALEH\n"
          ]
        }
      ]
    },
    {
      "cell_type": "code",
      "source": [
        "\"\"\"NOTE:String concatenation means add strings together\"\"\"\n",
        "\n",
        "# string concatination\n",
        "age=23\n",
        "first_name=\" MD\"\n",
        "seeound_name=\"ABU\"\n",
        "last_name=\"SALEH\"\n",
        "\n",
        "\"\"\"Below's 3 line \n",
        "   are same but logic  \n",
        "   something difference\"\"\"\n",
        "\n",
        "full_name=\"Myself\" f\"{first_name} {seeound_name} {last_name}\" f\".I am \" + f\"{age}\" + \" years old.\"\n",
        "\n",
        "#full_name = first_name +\" \" +seeound_name +\" \"+ last_name + \". I am \" + f\"{age}\" + \" years old.\"\n",
        "\n",
        "#full_name=\"Myself\" f\"{first_name} {seeound_name} {last_name}\" f\".I am \" + str(age) + \" years old.\"\n",
        "\n",
        "print(full_name)"
      ],
      "metadata": {
        "colab": {
          "base_uri": "https://localhost:8080/"
        },
        "id": "47nauwLlmqsU",
        "outputId": "f243b53f-9ff3-4575-a656-85c081f86d19"
      },
      "execution_count": null,
      "outputs": [
        {
          "output_type": "stream",
          "name": "stdout",
          "text": [
            "Myself MD ABU SALEH.I am 23 years old.\n"
          ]
        }
      ]
    },
    {
      "cell_type": "code",
      "source": [],
      "metadata": {
        "id": "WWRfPg97n_A2"
      },
      "execution_count": null,
      "outputs": []
    }
  ]
}