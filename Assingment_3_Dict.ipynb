{
  "cells": [
    {
      "cell_type": "markdown",
      "metadata": {
        "id": "JflMZmlbhUIW"
      },
      "source": [
        "                                       \n",
        "                                                #Python Dictionaries\n",
        "\n"
      ]
    },
    {
      "cell_type": "markdown",
      "metadata": {
        "id": "Ex-RzbpAhvrg"
      },
      "source": [
        "Dictionary:\n",
        "\n",
        "1.Dictionaries are used to store data values in key:value pairs.\n",
        "\n",
        "2.A dictionary is a collection which is ordered*, changeable and do not allow duplicates."
      ]
    },
    {
      "cell_type": "code",
      "execution_count": null,
      "metadata": {
        "colab": {
          "base_uri": "https://localhost:8080/"
        },
        "id": "-rBtWayIh1LF",
        "outputId": "1edfedb0-7059-4356-9f35-148e189edcdd"
      },
      "outputs": [
        {
          "name": "stdout",
          "output_type": "stream",
          "text": [
            "{'name': 'abu saleh', 'id': 3993, 'section': 'pc-c'}\n"
          ]
        }
      ],
      "source": [
        "#creat and print a dictionaries\n",
        "mydict={\n",
        "    'name':'abu saleh',\n",
        "    'id':3993,\n",
        "    'section':'pc-c'\n",
        "}\n",
        "print(mydict)"
      ]
    },
    {
      "cell_type": "code",
      "execution_count": null,
      "metadata": {
        "colab": {
          "base_uri": "https://localhost:8080/"
        },
        "id": "caDVBLGjipDY",
        "outputId": "39593012-a4a4-4a76-dff2-6f09bf15f27c"
      },
      "outputs": [
        {
          "name": "stdout",
          "output_type": "stream",
          "text": [
            "{'brand': 'Ford', 'model': 'Mustang', 'year': 1964}\n"
          ]
        }
      ],
      "source": [
        "#creat a dict print  \n",
        "thisdict = {\n",
        "  \"brand\": \"Ford\",\n",
        "  \"model\": \"Mustang\",\n",
        "  \"year\": 1964\n",
        "}\n",
        "print(thisdict)"
      ]
    },
    {
      "cell_type": "markdown",
      "metadata": {
        "id": "a-cVZgRojIHd"
      },
      "source": [
        "Dictionary Items:\n",
        "\n",
        "1.Dictionary items are ordered, changeable, and does not allow duplicates.\n",
        "\n",
        "2.Dictionary items are presented in key:value pairs, and can be referred to by using the key name."
      ]
    },
    {
      "cell_type": "code",
      "execution_count": null,
      "metadata": {
        "colab": {
          "base_uri": "https://localhost:8080/"
        },
        "id": "GI2gznJWjMwW",
        "outputId": "9bfc9585-3900-4b45-99dc-16edfa81337f"
      },
      "outputs": [
        {
          "name": "stdout",
          "output_type": "stream",
          "text": [
            "Ford\n"
          ]
        }
      ],
      "source": [
        "#Print the \"brand\" value of the dictionary:\n",
        "\n",
        "thisdict = {\n",
        "  \"brand\": \"Ford\",\n",
        "  \"model\": \"Mustang\",\n",
        "  \"year\": 1964\n",
        "}\n",
        "print(thisdict[\"brand\"])"
      ]
    },
    {
      "cell_type": "markdown",
      "metadata": {
        "id": "esj4oA1-jns3"
      },
      "source": [
        "*Ordered or Unordered?\n",
        "\n",
        "1.When we say that dictionaries are ordered, it means that the items have a defined order, and that order will not change.\n",
        "\n",
        "2.Unordered means that the items does not have a defined order, you cannot refer to an item by using an index.\n",
        "\n",
        "\n",
        "*Changeable:\n",
        "\n",
        "Dictionaries are changeable, meaning that we can change, add or remove items after the dictionary has been created."
      ]
    },
    {
      "cell_type": "code",
      "execution_count": null,
      "metadata": {
        "colab": {
          "base_uri": "https://localhost:8080/"
        },
        "id": "K835WeRTjzTX",
        "outputId": "fc8e6745-876f-4b74-b1b0-15fb12810c33"
      },
      "outputs": [
        {
          "name": "stdout",
          "output_type": "stream",
          "text": [
            "{'brand': 'Ford', 'model': 'Mustang', 'year': 2020}\n"
          ]
        }
      ],
      "source": [
        "#Duplicate values will overwrite existing values:\n",
        "\n",
        "thisdict = {\n",
        "  \"brand\": \"Ford\",\n",
        "  \"model\": \"Mustang\",\n",
        "  \"year\": 1964,\n",
        "  \"year\": 2020\n",
        "}\n",
        "print(thisdict)"
      ]
    },
    {
      "cell_type": "markdown",
      "metadata": {
        "id": "Qs-DmlXhkQPf"
      },
      "source": [
        "#Dictionary Length:\n",
        "\n",
        "To determine how many items a dictionary has, use the len() function"
      ]
    },
    {
      "cell_type": "code",
      "execution_count": null,
      "metadata": {
        "colab": {
          "base_uri": "https://localhost:8080/"
        },
        "id": "K93TAYiAkTBh",
        "outputId": "28f34cd1-0c2f-4cb4-9b27-573f3c867678"
      },
      "outputs": [
        {
          "name": "stdout",
          "output_type": "stream",
          "text": [
            "{'brand': 'Ford', 'model': 'Mustang', 'year': 2020}\n",
            "3\n"
          ]
        }
      ],
      "source": [
        "#Print the number of items in the dictionary\n",
        "thisdict = {\n",
        "  \"brand\": \"Ford\",\n",
        "  \"model\": \"Mustang\",\n",
        "  \"year\": 1964,\n",
        "  \"year\": 2020\n",
        "}\n",
        "print(thisdict)\n",
        "print(len(thisdict))"
      ]
    },
    {
      "cell_type": "markdown",
      "metadata": {
        "id": "u0TinWL_k4hv"
      },
      "source": [
        "#Dictionary Items - Data Types\n",
        "\n",
        "*String\n",
        "\n",
        "*int \n",
        "\n",
        "*boolean \n",
        "\n",
        "*list "
      ]
    },
    {
      "cell_type": "code",
      "execution_count": null,
      "metadata": {
        "colab": {
          "base_uri": "https://localhost:8080/"
        },
        "id": "qUT0JoA7lOT0",
        "outputId": "dbc9f3cd-1ce6-4c29-dbad-9d3046b2f91d"
      },
      "outputs": [
        {
          "name": "stdout",
          "output_type": "stream",
          "text": [
            "{'brand': 'Ford', 'electric': False, 'year': 1964, 'colors': ['red', 'white', 'blue']}\n"
          ]
        }
      ],
      "source": [
        "#String, int, boolean, and list data types:\n",
        "\n",
        "thisdict = {\n",
        "  \"brand\": \"Ford\",\n",
        "  \"electric\": False,\n",
        "  \"year\": 1964,\n",
        "  \"colors\": [\"red\", \"white\", \"blue\"]\n",
        "}\n",
        "print(thisdict)"
      ]
    },
    {
      "cell_type": "markdown",
      "metadata": {
        "id": "g0EhloSZlqpo"
      },
      "source": [
        "#type()\n",
        "\n",
        "From Python's perspective, dictionaries are defined as objects with the data type 'dict'"
      ]
    },
    {
      "cell_type": "code",
      "execution_count": null,
      "metadata": {
        "colab": {
          "base_uri": "https://localhost:8080/"
        },
        "id": "BTgq5lUAlxDf",
        "outputId": "077e7a3a-b231-4f26-cf85-14e31bb0b7e4"
      },
      "outputs": [
        {
          "name": "stdout",
          "output_type": "stream",
          "text": [
            "{'brand': 'Ford', 'model': 'Mustang', 'year': 1964}\n",
            "<class 'dict'>\n"
          ]
        }
      ],
      "source": [
        "#Print the data type of a dictionary:\n",
        "\n",
        "thisdict = {\n",
        "  \"brand\": \"Ford\",\n",
        "  \"model\": \"Mustang\",\n",
        "  \"year\": 1964\n",
        "}\n",
        "print(thisdict)\n",
        "print(type(thisdict))"
      ]
    },
    {
      "cell_type": "markdown",
      "metadata": {
        "id": "ytflJAOvmA3C"
      },
      "source": [
        "#The dict() Constructor\n",
        "\n",
        "It is also possible to use the dict() constructor to make a dictionary"
      ]
    },
    {
      "cell_type": "code",
      "execution_count": null,
      "metadata": {
        "colab": {
          "base_uri": "https://localhost:8080/"
        },
        "id": "qPMR_2IXmEbE",
        "outputId": "1522ee26-48e5-4539-c3f8-0bb98fef5381"
      },
      "outputs": [
        {
          "name": "stdout",
          "output_type": "stream",
          "text": [
            "{'name': 'John', 'age': 36, 'country': 'Norway'}\n"
          ]
        }
      ],
      "source": [
        "#Using the dict() method to make a dictionary:\n",
        "\n",
        "thisdict = dict(name = \"John\", age = 36, country = \"Norway\")\n",
        "print(thisdict)"
      ]
    },
    {
      "cell_type": "markdown",
      "metadata": {
        "id": "SRGYNgPmma1Q"
      },
      "source": [
        "#Accessing Items\n",
        "You can access the items of a dictionary by referring to its key name, inside square brackets"
      ]
    },
    {
      "cell_type": "code",
      "execution_count": null,
      "metadata": {
        "colab": {
          "base_uri": "https://localhost:8080/"
        },
        "id": "sP-BWQI1mcnq",
        "outputId": "0f10dd93-9bba-40b3-ef7f-a68cf3cfcfb8"
      },
      "outputs": [
        {
          "name": "stdout",
          "output_type": "stream",
          "text": [
            "Mustang\n"
          ]
        }
      ],
      "source": [
        "#Get the value of the \"model\" key:\n",
        "\n",
        "thisdict = {\n",
        "  \"brand\": \"Ford\",\n",
        "  \"model\": \"Mustang\",\n",
        "  \"year\": 1964\n",
        "}\n",
        "x = thisdict[\"model\"]\n",
        "print(x)"
      ]
    },
    {
      "cell_type": "markdown",
      "metadata": {
        "id": "KJEa0ESFm8Lz"
      },
      "source": [
        "#There is also a method called get() that will give you the same result\n",
        "\n"
      ]
    },
    {
      "cell_type": "code",
      "execution_count": null,
      "metadata": {
        "colab": {
          "base_uri": "https://localhost:8080/"
        },
        "id": "fP2VBJB7m-5s",
        "outputId": "964dc89b-936b-41c2-9f71-79146be8b005"
      },
      "outputs": [
        {
          "name": "stdout",
          "output_type": "stream",
          "text": [
            "saleh\n"
          ]
        }
      ],
      "source": [
        "#Get the value of the \"model\" key\n",
        "mydict={\n",
        "    'name':'saleh',\n",
        "    'id':3993,\n",
        "    'section':'c'\n",
        "  \n",
        "}\n",
        "#print(mydict.get('name'))\n",
        "x=mydict.get('name')\n",
        "print(x)"
      ]
    },
    {
      "cell_type": "markdown",
      "metadata": {
        "id": "SX8CIXuYoFFZ"
      },
      "source": [
        "#Get Keys\n",
        "\n",
        "1.The keys() method will return a list of all the keys in the dictionary.\n",
        "\n",
        "2.The list of the keys is a view of the dictionary, meaning that any changes done to the dictionary will be reflected in the keys list"
      ]
    },
    {
      "cell_type": "code",
      "execution_count": null,
      "metadata": {
        "colab": {
          "base_uri": "https://localhost:8080/"
        },
        "id": "hqevtcDvoPsI",
        "outputId": "20dd414e-40fd-4edc-ba4f-f6302d6daeaa"
      },
      "outputs": [
        {
          "name": "stdout",
          "output_type": "stream",
          "text": [
            "dict_keys(['name', 'id', 'section'])\n"
          ]
        }
      ],
      "source": [
        "#Get a list of the keys:\n",
        "mydict={\n",
        "    'name':'saleh',\n",
        "    'id':3993,\n",
        "    'section':'c'\n",
        "  \n",
        "}\n",
        "x=mydict.keys()\n",
        "print(x)"
      ]
    },
    {
      "cell_type": "code",
      "execution_count": null,
      "metadata": {
        "colab": {
          "base_uri": "https://localhost:8080/"
        },
        "id": "o5DNYWPNosvo",
        "outputId": "24fa2f8c-febb-495c-8055-f2b9d636b35a"
      },
      "outputs": [
        {
          "name": "stdout",
          "output_type": "stream",
          "text": [
            "dict_keys(['brand', 'model', 'year'])\n",
            "dict_keys(['brand', 'model', 'year', 'color'])\n"
          ]
        }
      ],
      "source": [
        "#Add a new item to the original dictionary\n",
        "\n",
        "car = {\n",
        "\"brand\": \"Ford\",\n",
        "\"model\": \"Mustang\",\n",
        "\"year\": 1964\n",
        "}\n",
        "\n",
        "x = car.keys()\n",
        "\n",
        "print(x) #before the change\n",
        "\n",
        "car[\"color\"] = \"white\"\n",
        "\n",
        "print(x) #after the change"
      ]
    },
    {
      "cell_type": "markdown",
      "metadata": {
        "id": "dWM_7n0BpUqR"
      },
      "source": [
        "#Get Values\n",
        "1.The values() method will return a list of all the values in the dictionary.\n",
        "\n",
        "2.The list of the values is a view of the dictionary, meaning that any changes done to the dictionary will be reflected in the values list.\n",
        "\n"
      ]
    },
    {
      "cell_type": "code",
      "execution_count": null,
      "metadata": {
        "colab": {
          "base_uri": "https://localhost:8080/"
        },
        "id": "W8PqJ_GkpWE-",
        "outputId": "308438ce-4102-4577-b314-51d26e713848"
      },
      "outputs": [
        {
          "name": "stdout",
          "output_type": "stream",
          "text": [
            "dict_values(['Ford', 'Mustang', 1964])\n"
          ]
        }
      ],
      "source": [
        "#Get a list of the values:\n",
        "\n",
        "car = {\n",
        "\"brand\": \"Ford\",\n",
        "\"model\": \"Mustang\",\n",
        "\"year\": 1964\n",
        "}\n",
        "x = car.values()\n",
        "print(x)"
      ]
    },
    {
      "cell_type": "code",
      "execution_count": null,
      "metadata": {
        "colab": {
          "base_uri": "https://localhost:8080/"
        },
        "id": "5YJ3n7V1phDG",
        "outputId": "0cdf3d77-eccd-4163-d4d6-7e88d6b494f4"
      },
      "outputs": [
        {
          "name": "stdout",
          "output_type": "stream",
          "text": [
            "dict_values(['Ford', 'Mustang', 1964])\n",
            "dict_values(['Ford', 'Mustang', 2020])\n"
          ]
        }
      ],
      "source": [
        "#Make a change in the original dictionary, and see that the values list gets updated as well\n",
        "\n",
        "car = {\n",
        "\"brand\": \"Ford\",\n",
        "\"model\": \"Mustang\",\n",
        "\"year\": 1964\n",
        "}\n",
        "\n",
        "x = car.values()\n",
        "\n",
        "print(x) #before the change\n",
        "\n",
        "car[\"year\"] = 2020\n",
        "\n",
        "print(x) #after the change"
      ]
    },
    {
      "cell_type": "code",
      "execution_count": null,
      "metadata": {
        "colab": {
          "base_uri": "https://localhost:8080/"
        },
        "id": "ey3Eij7UqfxH",
        "outputId": "2b2579de-89f1-48b5-cce1-ab55f9aacf71"
      },
      "outputs": [
        {
          "name": "stdout",
          "output_type": "stream",
          "text": [
            "dict_values(['Ford', 'Mustang', 1964])\n",
            "dict_values(['Ford', 'Mustang', 1964, 'red'])\n"
          ]
        }
      ],
      "source": [
        "#Add a new item to the original dictionary, and see that the values list gets updated as well:\n",
        "\n",
        "car = {\n",
        "\"brand\": \"Ford\",\n",
        "\"model\": \"Mustang\",\n",
        "\"year\": 1964\n",
        "}\n",
        "\n",
        "x = car.values()\n",
        "\n",
        "print(x) #before the change\n",
        "\n",
        "car[\"color\"] = \"red\"\n",
        "\n",
        "print(x) #after the change"
      ]
    },
    {
      "cell_type": "markdown",
      "metadata": {
        "id": "2hcYgsluq6F_"
      },
      "source": [
        "#Get Items\n",
        "1.The items() method will return each item in a dictionary, as tuples in a list\n",
        "\n",
        "2.The returned list is a view of the items of the dictionary, meaning that any changes done to the dictionary will be reflected in the items list."
      ]
    },
    {
      "cell_type": "code",
      "execution_count": null,
      "metadata": {
        "colab": {
          "base_uri": "https://localhost:8080/"
        },
        "id": "EXNkpfQWq7la",
        "outputId": "43402965-4a8b-4937-a357-223745aedfb7"
      },
      "outputs": [
        {
          "name": "stdout",
          "output_type": "stream",
          "text": [
            "dict_items([('brand', 'Ford'), ('model', 'Mustang'), ('year', 1964)])\n"
          ]
        }
      ],
      "source": [
        "#get a list of  the key:values paire\n",
        "car = {\n",
        "\"brand\": \"Ford\",\n",
        "\"model\": \"Mustang\",\n",
        "\"year\": 1964\n",
        "}\n",
        "\n",
        "x = car.items()\n",
        "\n",
        "print(x)"
      ]
    },
    {
      "cell_type": "code",
      "execution_count": null,
      "metadata": {
        "colab": {
          "base_uri": "https://localhost:8080/"
        },
        "id": "i2EPUyYzra7Y",
        "outputId": "68bd6d04-1b6d-4ca7-ebc1-e46cfe8f1bb1"
      },
      "outputs": [
        {
          "name": "stdout",
          "output_type": "stream",
          "text": [
            "dict_items([('brand', 'Ford'), ('model', 'Mustang'), ('year', 1964)])\n",
            "{'brand': 'Ford', 'model': 'BMW', 'year': 1964}\n"
          ]
        }
      ],
      "source": [
        "#Make a change in the original dictionary, and see that the items list gets updated as well:\n",
        "car = {\n",
        "\"brand\": \"Ford\",\n",
        "\"model\": \"Mustang\",\n",
        "\"year\": 1964\n",
        "}\n",
        "\n",
        "x = car.items()\n",
        "\n",
        "print(x)\n",
        "car['model']='BMW'\n",
        "print(car)"
      ]
    },
    {
      "cell_type": "code",
      "execution_count": null,
      "metadata": {
        "colab": {
          "base_uri": "https://localhost:8080/"
        },
        "id": "b_iOMeXssHEU",
        "outputId": "d4b032ef-ef16-45ae-9b34-08a738796d56"
      },
      "outputs": [
        {
          "name": "stdout",
          "output_type": "stream",
          "text": [
            "dict_items([('brand', 'Ford'), ('model', 'Mustang'), ('year', 1964)])\n",
            "{'brand': 'Ford', 'model': 'Mustang', 'year': 1964, 'colour': ['red', 'balck']}\n"
          ]
        }
      ],
      "source": [
        "#Add a new item to the original dictionary, and see that the items list gets updated as well:\n",
        "\n",
        "car = {\n",
        "\"brand\": \"Ford\",\n",
        "\"model\": \"Mustang\",\n",
        "\"year\": 1964\n",
        "}\n",
        "\n",
        "x = car.items()\n",
        "\n",
        "print(x)\n",
        "car['colour']=['red','balck']\n",
        "print(car)"
      ]
    },
    {
      "cell_type": "markdown",
      "metadata": {
        "id": "Dlbhby8qs077"
      },
      "source": [
        "#Check if Key Exists\n",
        "To determine if a specified key is present in a dictionary use the in keyword."
      ]
    },
    {
      "cell_type": "code",
      "execution_count": null,
      "metadata": {
        "colab": {
          "base_uri": "https://localhost:8080/"
        },
        "id": "BKT14I6as3aH",
        "outputId": "de4810b0-077c-4124-fd2e-e530b258ca36"
      },
      "outputs": [
        {
          "name": "stdout",
          "output_type": "stream",
          "text": [
            "Yes, 'model' is one of the keys in the thisdict dictionary\n"
          ]
        }
      ],
      "source": [
        "#Check if \"model\" is present in the dictionary:\n",
        "\n",
        "thisdict = {\n",
        "  \"brand\": \"Ford\",\n",
        "  \"model\": \"Mustang\",\n",
        "  \"year\": 1964\n",
        "}\n",
        "if \"model\" in thisdict:\n",
        "  print(\"Yes, 'model' is one of the keys in the thisdict dictionary\")\n"
      ]
    },
    {
      "cell_type": "markdown",
      "metadata": {
        "id": "mcTWy3LLttnf"
      },
      "source": [
        "#Change Values\n",
        "\n",
        "I can change the value of a specific item by referring to its key name.\n",
        "\n",
        "\n"
      ]
    },
    {
      "cell_type": "code",
      "execution_count": null,
      "metadata": {
        "colab": {
          "base_uri": "https://localhost:8080/"
        },
        "id": "vMuN-qpAt2vl",
        "outputId": "5da63392-47eb-4333-8ffa-125b8f86e912"
      },
      "outputs": [
        {
          "name": "stdout",
          "output_type": "stream",
          "text": [
            "{'brand': 'Ford', 'model': 'Mustang', 'year': 2018}\n"
          ]
        }
      ],
      "source": [
        "#Change the \"year\" to 2018:\n",
        "\n",
        "thisdict = {\n",
        "  \"brand\": \"Ford\",\n",
        "  \"model\": \"Mustang\",\n",
        "  \"year\": 1964\n",
        "}\n",
        "thisdict[\"year\"] = 2018\n",
        "print (thisdict)"
      ]
    },
    {
      "cell_type": "markdown",
      "metadata": {
        "id": "lg8ykJAguDZl"
      },
      "source": [
        "#Update Dictionary\n",
        "\n",
        "1.The update() method will update the dictionary with the items from the given argument.\n",
        "\n",
        "2.The argument must be a dictionary, or an iterable object with key:value pairs.\n"
      ]
    },
    {
      "cell_type": "code",
      "execution_count": null,
      "metadata": {
        "colab": {
          "base_uri": "https://localhost:8080/"
        },
        "id": "rYr45sGouNoT",
        "outputId": "f0f21de5-2f90-4855-9bb7-ed8260c1fa5a"
      },
      "outputs": [
        {
          "name": "stdout",
          "output_type": "stream",
          "text": [
            "{'brand': 'Ford', 'model': 'Mustang', 'year': 2020}\n"
          ]
        }
      ],
      "source": [
        "#Update the \"year\" of the car by using the update() method:\n",
        "\n",
        "thisdict = {\n",
        "  \"brand\": \"Ford\",\n",
        "  \"model\": \"Mustang\",\n",
        "  \"year\": 1964\n",
        "}\n",
        "thisdict.update({\"year\": 2020})\n",
        "print(thisdict)"
      ]
    },
    {
      "cell_type": "markdown",
      "metadata": {
        "id": "aQf11yxsuuzp"
      },
      "source": [
        "#Adding Items\n",
        "Adding an item to the dictionary is done by using a new index key and assigning a value to it.\n",
        "\n"
      ]
    },
    {
      "cell_type": "code",
      "execution_count": null,
      "metadata": {
        "colab": {
          "base_uri": "https://localhost:8080/"
        },
        "id": "qoBpBmIOu07A",
        "outputId": "e9c09913-0702-4756-a0a8-5f82b356f6e4"
      },
      "outputs": [
        {
          "name": "stdout",
          "output_type": "stream",
          "text": [
            "{'brand': 'Ford', 'model': 'Mustang', 'year': 1964, 'color': 'red'}\n"
          ]
        }
      ],
      "source": [
        "#add this items\n",
        "thisdict = {\n",
        "  \"brand\": \"Ford\",\n",
        "  \"model\": \"Mustang\",\n",
        "  \"year\": 1964\n",
        "}\n",
        "thisdict[\"color\"] = \"red\"\n",
        "print(thisdict)"
      ]
    },
    {
      "cell_type": "markdown",
      "metadata": {
        "id": "95I5P_6kvGSK"
      },
      "source": [
        "#Update Dictionary\n",
        "1.The update() method will update the dictionary with the items from a given argument. If the item does not exist, the item will be added.\n",
        "\n",
        "2.The argument must be a dictionary, or an iterable object with key:value pairs."
      ]
    },
    {
      "cell_type": "code",
      "execution_count": null,
      "metadata": {
        "colab": {
          "base_uri": "https://localhost:8080/"
        },
        "id": "e43SIZJWvPRR",
        "outputId": "83876fae-f5e6-4bc0-b97c-437022f190b7"
      },
      "outputs": [
        {
          "name": "stdout",
          "output_type": "stream",
          "text": [
            "{'brand': 'Ford', 'model': 'Mustang', 'year': 1964, 'color': 'red'}\n"
          ]
        }
      ],
      "source": [
        "#Add a color item to the dictionary by using the update() method:\n",
        "\n",
        "thisdict = {\n",
        "  \"brand\": \"Ford\",\n",
        "  \"model\": \"Mustang\",\n",
        "  \"year\": 1964\n",
        "}\n",
        "thisdict.update({\"color\": \"red\"})\n",
        "print(thisdict)"
      ]
    },
    {
      "cell_type": "markdown",
      "metadata": {
        "id": "__NF5jemvlBc"
      },
      "source": [
        "#Removing Items\n",
        "There are several methods to remove items from a dictionary.\n",
        "\n",
        "some method uses this removing items:\n",
        "\n",
        "1.pop()\n",
        "\n",
        "2.popitem()\n",
        "\n",
        "3.clear()\n",
        "\n",
        "4.del\n",
        "\n"
      ]
    },
    {
      "cell_type": "code",
      "execution_count": null,
      "metadata": {
        "colab": {
          "base_uri": "https://localhost:8080/"
        },
        "id": "fg6tVJodvsEd",
        "outputId": "2eda0786-c642-4d27-ff6f-6ff0d631d0c3"
      },
      "outputs": [
        {
          "name": "stdout",
          "output_type": "stream",
          "text": [
            "{'brand': 'Ford', 'year': 1964}\n"
          ]
        }
      ],
      "source": [
        "#The pop() method removes the item with the specified key name:\n",
        "\n",
        "thisdict = {\n",
        "  \"brand\": \"Ford\",\n",
        "  \"model\": \"Mustang\",\n",
        "  \"year\": 1964\n",
        "}\n",
        "thisdict.pop(\"model\")\n",
        "print(thisdict)"
      ]
    },
    {
      "cell_type": "code",
      "execution_count": null,
      "metadata": {
        "colab": {
          "base_uri": "https://localhost:8080/"
        },
        "id": "DSTdMD07wdz-",
        "outputId": "e004e679-7be7-4c00-aa1f-19978731db2e"
      },
      "outputs": [
        {
          "name": "stdout",
          "output_type": "stream",
          "text": [
            "{'brand': 'Ford', 'model': 'Mustang'}\n"
          ]
        }
      ],
      "source": [
        "#The popitem() method removes the last inserted item\n",
        "\n",
        "thisdict = {\n",
        "  \"brand\": \"Ford\",\n",
        "  \"model\": \"Mustang\",\n",
        "  \"year\": 1964\n",
        "}\n",
        "thisdict.popitem()\n",
        "print(thisdict)"
      ]
    },
    {
      "cell_type": "code",
      "execution_count": null,
      "metadata": {
        "colab": {
          "base_uri": "https://localhost:8080/"
        },
        "id": "bqHOJcX3wotx",
        "outputId": "323965cf-51ec-44a2-8cb1-804573da3635"
      },
      "outputs": [
        {
          "name": "stdout",
          "output_type": "stream",
          "text": [
            "{}\n"
          ]
        }
      ],
      "source": [
        "#The clear() method empties the dictionary:\n",
        "\n",
        "thisdict = {\n",
        "  \"brand\": \"Ford\",\n",
        "  \"model\": \"Mustang\",\n",
        "  \"year\": 1964\n",
        "}\n",
        "thisdict.clear()\n",
        "print(thisdict)"
      ]
    },
    {
      "cell_type": "code",
      "execution_count": null,
      "metadata": {
        "colab": {
          "background_save": true
        },
        "id": "aDED-fBVwqdp",
        "outputId": "98cca955-3028-46f7-becd-3ab3382323e1"
      },
      "outputs": [
        {
          "name": "stdout",
          "output_type": "stream",
          "text": [
            "{'brand': 'Ford', 'year': 1964}\n"
          ]
        }
      ],
      "source": [
        "#The del keyword removes the item with the specified key name:\n",
        "\n",
        "thisdict = {\n",
        "  \"brand\": \"Ford\",\n",
        "  \"model\": \"Mustang\",\n",
        "  \"year\": 1964\n",
        "}\n",
        "del thisdict[\"model\"]\n",
        "print(thisdict)"
      ]
    },
    {
      "cell_type": "code",
      "source": [
        "#The del keyword can also delete the dictionary completely:\n",
        "\n",
        "thisdict = {\n",
        "  \"brand\": \"Ford\",\n",
        "  \"model\": \"Mustang\",\n",
        "  \"year\": 1964\n",
        "}\n",
        "del thisdict\n",
        "print(thisdict) #this will cause an error because \"thisdict\" no longer exists."
      ],
      "metadata": {
        "id": "pMh9mT4nyBsW"
      },
      "execution_count": null,
      "outputs": []
    },
    {
      "cell_type": "markdown",
      "source": [
        "#Copy a Dictionary\n",
        "\n",
        "1.You cannot copy a dictionary simply by typing dict2 = dict1, because: dict2 will only be a reference to dict1, and changes made in dict1 will automatically also be made in dict2.\n",
        "\n",
        "2.There are ways to make a copy, one way is to use the built-in Dictionary method copy().\n",
        "\n",
        "#Method\n",
        "1.copy()\n",
        "\n",
        "2.dict()"
      ],
      "metadata": {
        "id": "-0aqtiplyEXX"
      }
    },
    {
      "cell_type": "code",
      "source": [
        "#Make a copy of a dictionary with the copy() method:\n",
        "\n",
        "thisdict = {\n",
        "  \"brand\": \"Ford\",\n",
        "  \"model\": \"Mustang\",\n",
        "  \"year\": 1964\n",
        "}\n",
        "mydict = thisdict.copy()\n",
        "print(mydict)"
      ],
      "metadata": {
        "colab": {
          "base_uri": "https://localhost:8080/"
        },
        "id": "1zAT6LFNyPV_",
        "outputId": "7dee4ff5-5e3d-42db-81bb-c2211de82079"
      },
      "execution_count": null,
      "outputs": [
        {
          "output_type": "stream",
          "name": "stdout",
          "text": [
            "{'brand': 'Ford', 'model': 'Mustang', 'year': 1964}\n"
          ]
        }
      ]
    },
    {
      "cell_type": "code",
      "source": [
        "#Make a copy of a dictionary with the dict() function:\n",
        "\n",
        "thisdict = {\n",
        "  \"brand\": \"Ford\",\n",
        "  \"model\": \"Mustang\",\n",
        "  \"year\": 1964\n",
        "}\n",
        "mydict = dict(thisdict)\n",
        "print(mydict)"
      ],
      "metadata": {
        "colab": {
          "base_uri": "https://localhost:8080/"
        },
        "id": "oKMhv5uKycb_",
        "outputId": "b9b513b4-f192-4325-a404-dd0886fde455"
      },
      "execution_count": null,
      "outputs": [
        {
          "output_type": "stream",
          "name": "stdout",
          "text": [
            "{'brand': 'Ford', 'model': 'Mustang', 'year': 1964}\n"
          ]
        }
      ]
    },
    {
      "cell_type": "markdown",
      "source": [
        "#Nested Dictionaries\n",
        "\n",
        "A dictionary can contain dictionaries, this is called nested dictionaries.\n",
        "\n"
      ],
      "metadata": {
        "id": "cobDtjC4zQYR"
      }
    },
    {
      "cell_type": "code",
      "source": [
        "#Create a dictionary that contain three dictionaries:\n",
        "\n",
        "myfamily = {\n",
        "  \"child1\" : {\n",
        "    \"name\" : \"Emil\",\n",
        "    \"year\" : 2004\n",
        "  },\n",
        "  \"child2\" : {\n",
        "    \"name\" : \"Tobias\",\n",
        "    \"year\" : 2007\n",
        "  },\n",
        "  \"child3\" : {\n",
        "    \"name\" : \"Linus\",\n",
        "    \"year\" : 2011\n",
        "  }\n",
        "}\n",
        "print(myfamily)"
      ],
      "metadata": {
        "colab": {
          "base_uri": "https://localhost:8080/"
        },
        "id": "vUrydha7zut7",
        "outputId": "fbbc8e31-cd88-44b0-e85d-10c725d68ebe"
      },
      "execution_count": null,
      "outputs": [
        {
          "output_type": "stream",
          "name": "stdout",
          "text": [
            "{'child1': {'name': 'Emil', 'year': 2004}, 'child2': {'name': 'Tobias', 'year': 2007}, 'child3': {'name': 'Linus', 'year': 2011}}\n"
          ]
        }
      ]
    },
    {
      "cell_type": "code",
      "source": [
        "#Create three dictionaries, then create one dictionary that will contain the other three dictionaries:\n",
        "\n",
        "child1 = {\n",
        "  \"name\" : \"Emil\",\n",
        "  \"year\" : 2004\n",
        "}\n",
        "child2 = {\n",
        "  \"name\" : \"Tobias\",\n",
        "  \"year\" : 2007\n",
        "}\n",
        "child3 = {\n",
        "  \"name\" : \"Linus\",\n",
        "  \"year\" : 2011\n",
        "}\n",
        "\n",
        "myfamily = {\n",
        "  \"child1\" : child1,\n",
        "  \"child2\" : child2,\n",
        "  \"child3\" : child3\n",
        "}\n",
        "print(child1)\n",
        "print(child2)\n",
        "print(child3)"
      ],
      "metadata": {
        "colab": {
          "base_uri": "https://localhost:8080/"
        },
        "id": "9agJisUcz3cg",
        "outputId": "9871137b-8972-4038-d6d9-438c46fc06ee"
      },
      "execution_count": null,
      "outputs": [
        {
          "output_type": "stream",
          "name": "stdout",
          "text": [
            "{'name': 'Emil', 'year': 2004}\n",
            "{'name': 'Tobias', 'year': 2007}\n",
            "{'name': 'Linus', 'year': 2011}\n"
          ]
        }
      ]
    },
    {
      "cell_type": "markdown",
      "source": [
        "#Access Items in Nested Dictionaries\n"
      ],
      "metadata": {
        "id": "jj1RGzkd0cp3"
      }
    },
    {
      "cell_type": "code",
      "source": [
        "#Access Items\n",
        "myfamily = {\n",
        "  \"child1\" : {\n",
        "    \"name\" : \"Emil\",\n",
        "    \"year\" : 2004\n",
        "  },\n",
        "  \"child2\" : {\n",
        "    \"name\" : \"Tobias\",\n",
        "    \"year\" : 2007\n",
        "  },\n",
        "  \"child3\" : {\n",
        "    \"name\" : \"Linus\",\n",
        "    \"year\" : 2011\n",
        "  }\n",
        "}\n",
        "print(myfamily['child1']['name'])"
      ],
      "metadata": {
        "colab": {
          "base_uri": "https://localhost:8080/"
        },
        "id": "iIDpdyU90eEM",
        "outputId": "2e600d87-9105-49f9-f2ea-5e3600049632"
      },
      "execution_count": null,
      "outputs": [
        {
          "output_type": "stream",
          "name": "stdout",
          "text": [
            "Emil\n"
          ]
        }
      ]
    },
    {
      "cell_type": "markdown",
      "source": [
        "#Add element to a Nested Dictionary\n"
      ],
      "metadata": {
        "id": "zd0rlf0v1jwf"
      }
    },
    {
      "cell_type": "code",
      "source": [
        "#Add element\n",
        "myfamily = {\n",
        "  \"child1\" : {\n",
        "    \"name\" : \"Emil\",\n",
        "    \"year\" : 2004\n",
        "  },\n",
        "  \"child2\" : {\n",
        "    \"name\" : \"Tobias\",\n",
        "    \"year\" : 2007\n",
        "  },\n",
        "  \"child3\" : {\n",
        "    \"name\" : \"Linus\",\n",
        "    \"year\" : 2011\n",
        "  }\n",
        "}\n",
        "#myfamily[\"child4\"]={\"name:saleh\",\"year:2002\"} # 16 & 17 line just difference single cotation and double cotation\n",
        "myfamily[\"child4\"]={'name':'saleh','year':'2002'}   # both peramiter one line puss value and return output \n",
        "\n",
        "print(myfamily)"
      ],
      "metadata": {
        "colab": {
          "base_uri": "https://localhost:8080/"
        },
        "id": "yjvL69701lhi",
        "outputId": "8a8a37b1-2194-4d65-c7b2-66cadff97352"
      },
      "execution_count": null,
      "outputs": [
        {
          "output_type": "stream",
          "name": "stdout",
          "text": [
            "{'child1': {'name': 'Emil', 'year': 2004}, 'child2': {'name': 'Tobias', 'year': 2007}, 'child3': {'name': 'Linus', 'year': 2011}, 'child4': {'name': 'saleh', 'year': '2002'}}\n"
          ]
        }
      ]
    },
    {
      "cell_type": "code",
      "source": [
        "#add element\n",
        "\n",
        "people = {1: {'name': 'John', 'age': '27', 'sex': 'Male'},\n",
        "          \n",
        "          2: {'name': 'Marie', 'age': '22', 'sex': 'Female'}}\n",
        "\n",
        "people[3] = {}\n",
        "''' individual peramiter \n",
        "    puss value print'''\n",
        "people[3]['name'] = 'Luna'\n",
        "people[3]['age'] = '24'\n",
        "people[3]['sex'] = 'Female'\n",
        "people[3]['married'] = 'No'\n",
        "print(people)\n",
        "print(people[3])"
      ],
      "metadata": {
        "colab": {
          "base_uri": "https://localhost:8080/"
        },
        "id": "GPNQCO7y1zFD",
        "outputId": "5141e06c-9c7f-4d69-f9bf-1bb6d4eb38b9"
      },
      "execution_count": null,
      "outputs": [
        {
          "output_type": "stream",
          "name": "stdout",
          "text": [
            "{1: {'name': 'John', 'age': '27', 'sex': 'Male'}, 2: {'name': 'Marie', 'age': '22', 'sex': 'Female'}, 3: {'name': 'Luna', 'age': '24', 'sex': 'Female', 'married': 'No'}}\n",
            "{'name': 'Luna', 'age': '24', 'sex': 'Female', 'married': 'No'}\n"
          ]
        }
      ]
    },
    {
      "cell_type": "markdown",
      "source": [
        "#Dictionary Methods\n"
      ],
      "metadata": {
        "id": "LwDD-8ks90DP"
      }
    },
    {
      "cell_type": "markdown",
      "source": [
        "Method----------------------------Description\n",
        "\n",
        "*clear()\t-Removes all the elements from the dictionary\n",
        "\n",
        "*copy()\t-Returns a copy of the dictionary\n",
        "\n",
        "*fromkeys()\t-Returns a dictionary with the specified keys and value\n",
        "\n",
        "*get()\t-Returns the value of the specified key\n",
        "\n",
        "*items()\t-Returns a list containing a tuple for each key value pair\n",
        "\n",
        "*keys()\t-Returns a list containing the dictionary's keys\n",
        "\n",
        "*pop()\t-Removes the element with the specified key\n",
        "\n",
        "*popitem()\t-Removes the last inserted key-value pair\n",
        "\n",
        "*setdefault()\t-Returns the value of the specified key. If the key does not \n",
        "\n",
        "*exist: -insert the key, with the specified value\n",
        "\n",
        "*update()\t-Updates the dictionary with the specified key-value pairs\n",
        "\n",
        "*values()\t-Returns a list of all the values in the dictionary"
      ],
      "metadata": {
        "id": "Ge_sKwhx9-Gu"
      }
    },
    {
      "cell_type": "markdown",
      "source": [
        "#Method Excersice\n"
      ],
      "metadata": {
        "id": "Sttn60yo-1Do"
      }
    },
    {
      "cell_type": "code",
      "source": [
        "#Remove all elements from the car list:\n",
        "\n",
        "car = {\n",
        "  \"brand\": \"Ford\",\n",
        "  \"model\": \"Mustang\",\n",
        "  \"year\": 1964\n",
        "}\n",
        "\n",
        "car.clear()    #uses clear() method \n",
        "\n",
        "print(car)"
      ],
      "metadata": {
        "colab": {
          "base_uri": "https://localhost:8080/"
        },
        "id": "GdEvpfky-4dx",
        "outputId": "7375cddc-51f1-4d9c-e737-d20df41eed47"
      },
      "execution_count": null,
      "outputs": [
        {
          "output_type": "stream",
          "name": "stdout",
          "text": [
            "{}\n"
          ]
        }
      ]
    },
    {
      "cell_type": "code",
      "source": [
        "#Copy the car dictionary:\n",
        "\n",
        "car = {\n",
        "  \"brand\": \"Ford\",\n",
        "  \"model\": \"Mustang\",\n",
        "  \"year\": 1964\n",
        "}\n",
        "\n",
        "x = car.copy() # copy() method uses \n",
        "\n",
        "print(x)"
      ],
      "metadata": {
        "id": "qN6Rmmx5_EpN",
        "colab": {
          "base_uri": "https://localhost:8080/"
        },
        "outputId": "46cd1b5d-4aea-43a7-ddb5-5e5b37119fa5"
      },
      "execution_count": null,
      "outputs": [
        {
          "output_type": "stream",
          "name": "stdout",
          "text": [
            "{'brand': 'Ford', 'model': 'Mustang', 'year': 1964}\n"
          ]
        }
      ]
    },
    {
      "cell_type": "code",
      "source": [
        "#Create a dictionary with 3 keys, all with the value 0:\n",
        "\n",
        "x = ('key1', 'key2', 'key3')\n",
        "y = 0\n",
        "\n",
        "'''The fromkeys() method returns a dictionary \n",
        "with the specified keys and the specified value'''\n",
        "\n",
        "\n",
        "thisdict = dict.fromkeys(x, y) #ueses formkeys() method\n",
        "\n",
        "print(thisdict)"
      ],
      "metadata": {
        "colab": {
          "base_uri": "https://localhost:8080/"
        },
        "id": "s0RDa4gn_kWX",
        "outputId": "818738ac-75da-4c52-8e5d-fbe540fe56d6"
      },
      "execution_count": null,
      "outputs": [
        {
          "output_type": "stream",
          "name": "stdout",
          "text": [
            "{'key1': 0, 'key2': 0, 'key3': 0}\n"
          ]
        }
      ]
    },
    {
      "cell_type": "code",
      "source": [
        "#Get the value of the \"model\" item:\n",
        "\n",
        "car = {\n",
        "  \"brand\": \"Ford\",\n",
        "  \"model\": \"Mustang\",\n",
        "  \"year\": 1964\n",
        "}\n",
        "\n",
        "x = car.get(\"model\")   # ueses get() method \n",
        "\n",
        "print(x)"
      ],
      "metadata": {
        "colab": {
          "base_uri": "https://localhost:8080/"
        },
        "id": "4vwrbZe7APpV",
        "outputId": "efc25ab0-0225-4b91-d9d0-215af9cb3841"
      },
      "execution_count": null,
      "outputs": [
        {
          "output_type": "stream",
          "name": "stdout",
          "text": [
            "Mustang\n"
          ]
        }
      ]
    },
    {
      "cell_type": "code",
      "source": [
        "#Try to return the value of an item that do not exist:\n",
        "\n",
        "car = {\n",
        "  \"brand\": \"Ford\",\n",
        "  \"model\": \"Mustang\",\n",
        "  \"year\": 1964\n",
        "}\n",
        "\n",
        "x = car.get(\"price\", 15000)\n",
        "\n",
        "print(x)"
      ],
      "metadata": {
        "colab": {
          "base_uri": "https://localhost:8080/"
        },
        "id": "ZIMLX22IAic7",
        "outputId": "5dba68eb-b6b5-4f45-ae1a-688efc6e8f17"
      },
      "execution_count": null,
      "outputs": [
        {
          "output_type": "stream",
          "name": "stdout",
          "text": [
            "15000\n"
          ]
        }
      ]
    },
    {
      "cell_type": "code",
      "source": [
        "#Return the dictionary's key-value pairs:\n",
        "\n",
        "car = {\n",
        "  \"brand\": \"Ford\",\n",
        "  \"model\": \"Mustang\",\n",
        "  \"year\": 1964\n",
        "}\n",
        "\n",
        "x = car.items()   # items() method uses \n",
        "\n",
        "print(x)"
      ],
      "metadata": {
        "colab": {
          "base_uri": "https://localhost:8080/"
        },
        "id": "mPotwYaUAtSl",
        "outputId": "c640ae83-45d1-4a7e-ef29-e176109a5445"
      },
      "execution_count": null,
      "outputs": [
        {
          "output_type": "stream",
          "name": "stdout",
          "text": [
            "dict_items([('brand', 'Ford'), ('model', 'Mustang'), ('year', 1964)])\n"
          ]
        }
      ]
    },
    {
      "cell_type": "code",
      "source": [
        "#When an item in the dictionary changes value, the view object also gets updated\n",
        "\n",
        "car = {\n",
        "  \"brand\": \"Ford\",\n",
        "  \"model\": \"Mustang\",\n",
        "  \"year\": 1964\n",
        "}\n",
        "\n",
        "x = car.items() #  change before print \n",
        "\n",
        "car[\"year\"] = 2018  # changeing \n",
        "\n",
        "print(x) # chnage after print"
      ],
      "metadata": {
        "colab": {
          "base_uri": "https://localhost:8080/"
        },
        "id": "SmQwowWiBA4B",
        "outputId": "44b28d3c-6290-4312-8fc5-08068a6a5b72"
      },
      "execution_count": null,
      "outputs": [
        {
          "output_type": "stream",
          "name": "stdout",
          "text": [
            "dict_items([('brand', 'Ford'), ('model', 'Mustang'), ('year', 2018)])\n"
          ]
        }
      ]
    },
    {
      "cell_type": "code",
      "source": [
        "#Return the keys\n",
        "\n",
        "car = {\n",
        "  \"brand\": \"Ford\",\n",
        "  \"model\": \"Mustang\",\n",
        "  \"year\": 1964\n",
        "}\n",
        "\n",
        "x = car.keys()   # uses keys() method\n",
        "\n",
        "print(x)"
      ],
      "metadata": {
        "colab": {
          "base_uri": "https://localhost:8080/"
        },
        "id": "7FISRL6ABXFu",
        "outputId": "2265140d-d320-4f0b-8f0b-272b9d873276"
      },
      "execution_count": null,
      "outputs": [
        {
          "output_type": "stream",
          "name": "stdout",
          "text": [
            "dict_keys(['brand', 'model', 'year'])\n"
          ]
        }
      ]
    },
    {
      "cell_type": "code",
      "source": [
        "#When an item is added in the dictionary, the view object also gets updated:\n",
        "\n",
        "car = {\n",
        "  \"brand\": \"Ford\",\n",
        "  \"model\": \"Mustang\",\n",
        "  \"year\": 1964\n",
        "}\n",
        "\n",
        "x = car.keys() #before print \n",
        "\n",
        "car[\"color\"] = \"white\"   # changing \n",
        "\n",
        "print(x) # after changing print "
      ],
      "metadata": {
        "colab": {
          "base_uri": "https://localhost:8080/"
        },
        "id": "HvDPqfhIBs01",
        "outputId": "f51b3bb8-db7f-4284-af6e-780e0ba835b4"
      },
      "execution_count": null,
      "outputs": [
        {
          "output_type": "stream",
          "name": "stdout",
          "text": [
            "dict_keys(['brand', 'model', 'year', 'color'])\n"
          ]
        }
      ]
    },
    {
      "cell_type": "code",
      "source": [
        "# Remove \"model\" from the dictionary:\n",
        "\n",
        "car = {\n",
        "  \"brand\": \"Ford\",\n",
        "  \"model\": \"Mustang\",\n",
        "  \"year\": 1964\n",
        "}\n",
        "\n",
        "car.pop(\"model\")  # using  pop() method \n",
        "\n",
        "print(car)"
      ],
      "metadata": {
        "colab": {
          "base_uri": "https://localhost:8080/"
        },
        "id": "PDWe6I1pCE4t",
        "outputId": "7ab9209a-e5af-4b25-f221-456a439a6181"
      },
      "execution_count": null,
      "outputs": [
        {
          "output_type": "stream",
          "name": "stdout",
          "text": [
            "{'brand': 'Ford', 'year': 1964}\n"
          ]
        }
      ]
    },
    {
      "cell_type": "code",
      "source": [
        "#The value of the removed item is the return value of the pop() method:\n",
        "\n",
        "car = {\n",
        "  \"brand\": \"Ford\",\n",
        "  \"model\": \"Mustang\",\n",
        "  \"year\": 1964\n",
        "}\n",
        "\n",
        "x = car.pop(\"model\")   # mthod uses in pop()\n",
        "\n",
        "print(x)"
      ],
      "metadata": {
        "colab": {
          "base_uri": "https://localhost:8080/"
        },
        "id": "k-mIcNb1JLB8",
        "outputId": "259c7a37-2350-4310-dd65-d269bacded45"
      },
      "execution_count": null,
      "outputs": [
        {
          "output_type": "stream",
          "name": "stdout",
          "text": [
            "Mustang\n"
          ]
        }
      ]
    },
    {
      "cell_type": "code",
      "source": [
        "#Remove the last item from the dictionary:\n",
        "\n",
        "car = {\n",
        "  \"brand\": \"Ford\",\n",
        "  \"model\": \"Mustang\",\n",
        "  \"year\": 1964\n",
        "}\n",
        "\n",
        "car.popitem() # lastitem delate this method in popitem()\n",
        "\n",
        "print(car)"
      ],
      "metadata": {
        "colab": {
          "base_uri": "https://localhost:8080/"
        },
        "id": "K75HViuDKwH5",
        "outputId": "0f155a37-7a85-43c2-b604-fc34d10f08d1"
      },
      "execution_count": null,
      "outputs": [
        {
          "output_type": "stream",
          "name": "stdout",
          "text": [
            "{'brand': 'Ford', 'model': 'Mustang'}\n"
          ]
        }
      ]
    },
    {
      "cell_type": "code",
      "source": [
        "#The removed item is the return value of the pop() method:\n",
        "\n",
        "car = {\n",
        "  \"brand\": \"Ford\",\n",
        "  \"model\": \"Mustang\",\n",
        "  \"year\": 1964\n",
        "}\n",
        "\n",
        "x = car.popitem()\n",
        "\n",
        "print(x)"
      ],
      "metadata": {
        "colab": {
          "base_uri": "https://localhost:8080/"
        },
        "id": "hR2zntKfK8KH",
        "outputId": "b1d33be0-ff06-4395-f5dc-27f1e989396d"
      },
      "execution_count": null,
      "outputs": [
        {
          "output_type": "stream",
          "name": "stdout",
          "text": [
            "('year', 1964)\n"
          ]
        }
      ]
    },
    {
      "cell_type": "markdown",
      "source": [
        "#Python Dictionary setdefault() Method\n",
        "\n"
      ],
      "metadata": {
        "id": "uhATt-IeLVro"
      }
    },
    {
      "cell_type": "markdown",
      "source": [
        "Definition and Usage:\n",
        "\n",
        "*The setdefault() method returns the value of the item with the specified key.\n",
        "\n",
        "*If the key does not exist, insert the key, with the specified value, see example below\n",
        "\n",
        "Syntax:\n",
        "\n",
        "*dictionary.setdefault(keyname, value)\n",
        "\n"
      ],
      "metadata": {
        "id": "eTqYvYRrLdvV"
      }
    },
    {
      "cell_type": "code",
      "source": [
        "#Get the value of the \"model\" item:\n",
        "\n",
        "car = {\n",
        "  \"brand\": \"Ford\",\n",
        "  \"model\": \"Mustang\",\n",
        "  \"year\": 1964\n",
        "}\n",
        "\n",
        "x = car.setdefault(\"model\", \"Bronco\")\n",
        "\n",
        "print(x)"
      ],
      "metadata": {
        "colab": {
          "base_uri": "https://localhost:8080/"
        },
        "id": "uIGbPfKxLi1y",
        "outputId": "5e37550b-4e21-4bd2-cc04-6b60846f16e0"
      },
      "execution_count": null,
      "outputs": [
        {
          "output_type": "stream",
          "name": "stdout",
          "text": [
            "Mustang\n"
          ]
        }
      ]
    },
    {
      "cell_type": "code",
      "source": [
        "#Get the value of the \"color\" item, if the \"color\" item does not exist, insert \"color\" with the value \"white\"\n",
        "\n",
        "car = {\n",
        "  \"brand\": \"Ford\",\n",
        "  \"model\": \"Mustang\",\n",
        "  \"year\": 1964\n",
        "}\n",
        "\n",
        "x = car.setdefault(\"color\", \"white\")\n",
        "\n",
        "print(x)"
      ],
      "metadata": {
        "colab": {
          "base_uri": "https://localhost:8080/"
        },
        "id": "CWjrN7VLLvK6",
        "outputId": "46eb0884-0c94-466e-deba-5e4d044c9633"
      },
      "execution_count": null,
      "outputs": [
        {
          "output_type": "stream",
          "name": "stdout",
          "text": [
            "white\n"
          ]
        }
      ]
    },
    {
      "cell_type": "code",
      "source": [
        "#Insert an item to the dictionary:\n",
        "\n",
        "car = {\n",
        "  \"brand\": \"Ford\",\n",
        "  \"model\": \"Mustang\",\n",
        "  \"year\": 1964\n",
        "}\n",
        "\n",
        "car.update({\"color\": \"White\"}) # adding this dict in apply this method---update()\n",
        "\n",
        "print(car)\n"
      ],
      "metadata": {
        "colab": {
          "base_uri": "https://localhost:8080/"
        },
        "id": "LV93_lkDL8vB",
        "outputId": "f9a1a1fc-b2db-4952-b4f8-8de96e0200cb"
      },
      "execution_count": null,
      "outputs": [
        {
          "output_type": "stream",
          "name": "stdout",
          "text": [
            "{'brand': 'Ford', 'model': 'Mustang', 'year': 1964, 'color': 'White'}\n"
          ]
        }
      ]
    },
    {
      "cell_type": "code",
      "source": [
        "#Return the values:\n",
        "\n",
        "car = {\n",
        "  \"brand\": \"Ford\",\n",
        "  \"model\": \"Mustang\",\n",
        "  \"year\": 1964\n",
        "}\n",
        "\n",
        "x = car.values() # dict all values return the output.so i can uses this method in values()\n",
        "\n",
        "print(x)"
      ],
      "metadata": {
        "colab": {
          "base_uri": "https://localhost:8080/"
        },
        "id": "d29nQ1pXNe1l",
        "outputId": "a78d910f-3548-43ab-c9f9-33246fb295f2"
      },
      "execution_count": null,
      "outputs": [
        {
          "output_type": "stream",
          "name": "stdout",
          "text": [
            "dict_values(['Ford', 'Mustang', 1964])\n"
          ]
        }
      ]
    },
    {
      "cell_type": "code",
      "source": [
        "#When a values is changed in the dictionary, the view object also gets updated:\n",
        "\n",
        "car = {\n",
        "  \"brand\": \"Ford\",\n",
        "  \"model\": \"Mustang\",\n",
        "  \"year\": 1964\n",
        "}\n",
        "\n",
        "x = car.values()\n",
        "\n",
        "car[\"year\"] = 2018 # new values insert this method usess in this code.this method are values()\n",
        "\n",
        "print(x)"
      ],
      "metadata": {
        "colab": {
          "base_uri": "https://localhost:8080/"
        },
        "id": "veEbkpf8NyCN",
        "outputId": "4a9dc5ae-5ea1-491d-907e-93e5bf392b5e"
      },
      "execution_count": null,
      "outputs": [
        {
          "output_type": "stream",
          "name": "stdout",
          "text": [
            "dict_values(['Ford', 'Mustang', 2018])\n"
          ]
        }
      ]
    },
    {
      "cell_type": "code",
      "source": [],
      "metadata": {
        "id": "Q1ClcfZhOJ_V"
      },
      "execution_count": null,
      "outputs": []
    }
  ],
  "metadata": {
    "colab": {
      "provenance": []
    },
    "kernelspec": {
      "display_name": "Python 3",
      "name": "python3"
    },
    "language_info": {
      "name": "python"
    }
  },
  "nbformat": 4,
  "nbformat_minor": 0
}