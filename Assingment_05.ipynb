{
  "cells": [
    {
      "cell_type": "markdown",
      "metadata": {
        "id": "j_bkMchfhbk9"
      },
      "source": [
        "#Chapture__03__List                                                                       "
      ]
    },
    {
      "cell_type": "markdown",
      "source": [
        "A list is a built-in data type that allows you to store and organize multiple items in a single variable. Lists are mutable, which means you can modify their elements. Each element in a list is separated by a comma and enclosed in square brackets.\n",
        "\n",
        "we can access individual elements of a list using indexing. Indexing starts from 0 for the first element and goes up to len(my_list) - 1 for the last element.\n",
        "\n",
        "we can also perform various operations on lists, such as adding elements, removing elements, slicing, concatenating, and more.\n",
        "\n",
        "Lists are a fundamental data structure in Python and are widely used for storing collections of related items. They provide flexibility and versatility in managing and manipulating data."
      ],
      "metadata": {
        "id": "8WBkML4ORTMq"
      }
    },
    {
      "cell_type": "code",
      "execution_count": null,
      "metadata": {
        "colab": {
          "base_uri": "https://localhost:8080/"
        },
        "id": "HZRQjpBphhwR",
        "outputId": "ae2ef425-0156-422b-a361-c1a4466ae7f6"
      },
      "outputs": [
        {
          "name": "stdout",
          "output_type": "stream",
          "text": [
            "['trek', 'cannondale', 'redline', 'specialized']\n"
          ]
        }
      ],
      "source": [
        "#creat a list\n",
        "bicycles = ['trek', 'cannondale', 'redline', 'specialized']\n",
        "print(bicycles)"
      ]
    },
    {
      "cell_type": "markdown",
      "metadata": {
        "id": "16J6e4OniKVz"
      },
      "source": [
        "## *Accessing Elements in a List*"
      ]
    },
    {
      "cell_type": "code",
      "execution_count": null,
      "metadata": {
        "colab": {
          "background_save": true
        },
        "id": "u0BHfdCEiMra",
        "outputId": "8d931a36-6e96-4d23-d3ff-ebca1a51690e"
      },
      "outputs": [
        {
          "name": "stdout",
          "output_type": "stream",
          "text": [
            "trek\n"
          ]
        }
      ],
      "source": [
        "bicycles = ['trek', 'cannondale', 'redline', 'specialized']\n",
        "print(bicycles[0])"
      ]
    },
    {
      "cell_type": "code",
      "execution_count": null,
      "metadata": {
        "id": "PvALh8YcifSE"
      },
      "outputs": [],
      "source": [
        "#Trek \n",
        "bicycles = ['trek', 'cannondale', 'redline', 'specialized']\n",
        "print(bicycles[0].title()) #using to title method()"
      ]
    },
    {
      "cell_type": "markdown",
      "metadata": {
        "id": "VaK9nH-HjSdz"
      },
      "source": [
        "Index Positions Start at 0, Not 1"
      ]
    },
    {
      "cell_type": "code",
      "source": [
        "#bicycles at index 1 and index 3:\n",
        "bicycles = ['trek', 'cannondale', 'redline', 'specialized']\n",
        "print(bicycles[1])\n",
        "print(bicycles[3])"
      ],
      "metadata": {
        "colab": {
          "base_uri": "https://localhost:8080/"
        },
        "id": "uo2UsvVykpQe",
        "outputId": "cc86da3a-141e-4a59-e733-4bad6b1592cf"
      },
      "execution_count": null,
      "outputs": [
        {
          "output_type": "stream",
          "name": "stdout",
          "text": [
            "cannondale\n",
            "specialized\n"
          ]
        }
      ]
    },
    {
      "cell_type": "code",
      "source": [
        "#last item in the list:\n",
        "bicycles = ['trek', 'cannondale', 'redline', 'specialized']\n",
        "print(bicycles[-1])"
      ],
      "metadata": {
        "colab": {
          "base_uri": "https://localhost:8080/"
        },
        "id": "5r04FImmkqqM",
        "outputId": "e04728f5-77a2-4b5d-fd38-4a3fa7e8c3e8"
      },
      "execution_count": null,
      "outputs": [
        {
          "output_type": "stream",
          "name": "stdout",
          "text": [
            "specialized\n"
          ]
        }
      ]
    },
    {
      "cell_type": "markdown",
      "source": [
        "## Using Individual Values from a List"
      ],
      "metadata": {
        "id": "e4Ws0JCEk13m"
      }
    },
    {
      "cell_type": "code",
      "source": [
        "#the list and composing a message using that value.\n",
        "\n",
        "bicycles = ['trek', 'cannondale', 'redline', 'specialized']\n",
        "message = \"My first bicycle was a \" + bicycles[0].title() + \".\"\n",
        "print(message)"
      ],
      "metadata": {
        "colab": {
          "base_uri": "https://localhost:8080/"
        },
        "id": "KkpoZq7Vk2nB",
        "outputId": "09b4fd45-c480-42b9-e831-1db8396fe3f6"
      },
      "execution_count": null,
      "outputs": [
        {
          "output_type": "stream",
          "name": "stdout",
          "text": [
            "My first bicycle was a Trek.\n"
          ]
        }
      ]
    },
    {
      "cell_type": "markdown",
      "source": [
        "## Changing, Adding, and Removing Elements"
      ],
      "metadata": {
        "id": "W8XYGYQ9lDII"
      }
    },
    {
      "cell_type": "markdown",
      "source": [
        "## Modifying Elements in a List"
      ],
      "metadata": {
        "id": "qkXsm4a9lGo_"
      }
    },
    {
      "cell_type": "code",
      "source": [
        "#change the value of this first item\n",
        "\n",
        "motorcycles= ['honda', 'yamaha', 'suzuki']\n",
        "print(motorcycles)\n",
        "motorcycles[0] = 'ducati'\n",
        "print(motorcycles)"
      ],
      "metadata": {
        "colab": {
          "base_uri": "https://localhost:8080/"
        },
        "id": "45whvVe7lHRn",
        "outputId": "510dd287-ef4e-40bc-d828-019135f6a32f"
      },
      "execution_count": null,
      "outputs": [
        {
          "output_type": "stream",
          "name": "stdout",
          "text": [
            "['honda', 'yamaha', 'suzuki']\n",
            "['ducati', 'yamaha', 'suzuki']\n"
          ]
        }
      ]
    },
    {
      "cell_type": "markdown",
      "source": [
        "## Adding Elements to a List"
      ],
      "metadata": {
        "id": "7mT33z9mlcqp"
      }
    },
    {
      "cell_type": "code",
      "source": [
        "#add the new element 'ducati' to the end of the list:\n",
        "motorcycles = ['honda', 'yamaha', 'suzuki']\n",
        "print(motorcycles)\n",
        "motorcycles.append('ducati')\n",
        "print(motorcycles)"
      ],
      "metadata": {
        "colab": {
          "base_uri": "https://localhost:8080/"
        },
        "id": "9S8PrCNLldYa",
        "outputId": "14c10c6b-215f-4158-b20d-80aab27bf3f6"
      },
      "execution_count": null,
      "outputs": [
        {
          "output_type": "stream",
          "name": "stdout",
          "text": [
            "['honda', 'yamaha', 'suzuki']\n",
            "['honda', 'yamaha', 'suzuki', 'ducati']\n"
          ]
        }
      ]
    },
    {
      "cell_type": "code",
      "source": [
        "#Using an empty list, let’s add the elements 'honda', 'yamaha', and 'suzuki' to the list:\n",
        "\n",
        "motorcycles = []\n",
        "motorcycles.append('honda')\n",
        "motorcycles.append('yamaha')\n",
        "motorcycles.append('suzuki')\n",
        "print(motorcycles)"
      ],
      "metadata": {
        "colab": {
          "base_uri": "https://localhost:8080/"
        },
        "id": "VGGJjexwlnJJ",
        "outputId": "00f41383-b0b0-4db1-c047-de7900e55b43"
      },
      "execution_count": null,
      "outputs": [
        {
          "output_type": "stream",
          "name": "stdout",
          "text": [
            "['honda', 'yamaha', 'suzuki']\n"
          ]
        }
      ]
    },
    {
      "cell_type": "markdown",
      "source": [
        "## Inserting Elements into a List"
      ],
      "metadata": {
        "id": "31maWV5nlxWA"
      }
    },
    {
      "cell_type": "code",
      "source": [
        "#the value of the new item.\n",
        "motorcycles = ['honda', 'yamaha', 'suzuki']\n",
        "motorcycles.insert(0, 'ducati')  # insert method() uses\n",
        "print(motorcycles)"
      ],
      "metadata": {
        "colab": {
          "base_uri": "https://localhost:8080/"
        },
        "id": "Gn8GRAGWlyJD",
        "outputId": "594f66b5-ec58-4466-f855-6b49fc366f57"
      },
      "execution_count": null,
      "outputs": [
        {
          "output_type": "stream",
          "name": "stdout",
          "text": [
            "['ducati', 'honda', 'yamaha', 'suzuki']\n"
          ]
        }
      ]
    },
    {
      "cell_type": "markdown",
      "source": [
        "## Removing Elements from a List"
      ],
      "metadata": {
        "id": "RahxbTSmmFyw"
      }
    },
    {
      "cell_type": "code",
      "source": [
        "#Removing an Item Using the del Statement\n",
        "motorcycles = ['honda', 'yamaha', 'suzuki']\n",
        "print(motorcycles)\n",
        "del motorcycles[0]\n",
        "print(motorcycles)"
      ],
      "metadata": {
        "colab": {
          "base_uri": "https://localhost:8080/"
        },
        "id": "yyU3ZwlqmGa7",
        "outputId": "8f2d473d-f6b7-49b2-cf04-cc1a356503a7"
      },
      "execution_count": null,
      "outputs": [
        {
          "output_type": "stream",
          "name": "stdout",
          "text": [
            "['honda', 'yamaha', 'suzuki']\n",
            "['yamaha', 'suzuki']\n"
          ]
        }
      ]
    },
    {
      "cell_type": "code",
      "source": [
        "#here’s how to remove the secondm item, 'yamaha', in the list:\n",
        "\n",
        "motorcycles = ['honda', 'yamaha', 'suzuki']\n",
        "print(motorcycles)\n",
        "del motorcycles[1]\n",
        "print(motorcycles)"
      ],
      "metadata": {
        "colab": {
          "base_uri": "https://localhost:8080/"
        },
        "id": "p-RzU1AUmQ8H",
        "outputId": "7f5bc183-1830-4c9a-bed7-b4b175e6dddd"
      },
      "execution_count": null,
      "outputs": [
        {
          "output_type": "stream",
          "name": "stdout",
          "text": [
            "['honda', 'yamaha', 'suzuki']\n",
            "['honda', 'suzuki']\n"
          ]
        }
      ]
    },
    {
      "cell_type": "markdown",
      "source": [
        "## Removing an Item Using the pop() Method"
      ],
      "metadata": {
        "id": "42FNW6LBmcaw"
      }
    },
    {
      "cell_type": "code",
      "source": [
        "#Let’s pop a motorcycle from the list of motorcycles\n",
        "motorcycles = ['honda', 'yamaha', 'suzuki']\n",
        "print(motorcycles)\n",
        "popped_motorcycle = motorcycles.pop()\n",
        "print(motorcycles)\n",
        "print(popped_motorcycle)\n"
      ],
      "metadata": {
        "colab": {
          "base_uri": "https://localhost:8080/"
        },
        "id": "pLa7L-l3mdPB",
        "outputId": "a5fb926a-fb1d-48bb-e92a-5f174b1f1e79"
      },
      "execution_count": null,
      "outputs": [
        {
          "output_type": "stream",
          "name": "stdout",
          "text": [
            "['honda', 'yamaha', 'suzuki']\n",
            "['honda', 'yamaha']\n",
            "suzuki\n"
          ]
        }
      ]
    },
    {
      "cell_type": "code",
      "source": [
        "#the pop() method to print a statement about the last motorcycle we bought\n",
        "\n",
        "motorcycles = ['honda', 'yamaha', 'suzuki']\n",
        "last_owned = motorcycles.pop()\n",
        "print(\"The last motorcycle I owned was a \" + last_owned.title() + \".\")\n"
      ],
      "metadata": {
        "colab": {
          "base_uri": "https://localhost:8080/"
        },
        "id": "pO2ulZUCmiL6",
        "outputId": "b257955b-2b85-41c2-9f2c-d21de3acada6"
      },
      "execution_count": null,
      "outputs": [
        {
          "output_type": "stream",
          "name": "stdout",
          "text": [
            "The last motorcycle I owned was a Suzuki.\n"
          ]
        }
      ]
    },
    {
      "cell_type": "markdown",
      "source": [
        "## Popping Items from any Position in a List"
      ],
      "metadata": {
        "id": "yUHi6-Timwwi"
      }
    },
    {
      "cell_type": "code",
      "source": [
        "#the index of the item you want to remove in parentheses.\n",
        "motorcycles = ['honda', 'yamaha', 'suzuki']\n",
        "first_owned = motorcycles.pop(0)\n",
        "print('The first motorcycle I owned was a ' + first_owned.title() + '.')"
      ],
      "metadata": {
        "colab": {
          "base_uri": "https://localhost:8080/"
        },
        "id": "eJ1e9di-mxwU",
        "outputId": "d4376177-cc63-4111-ced6-bda4956e1aab"
      },
      "execution_count": null,
      "outputs": [
        {
          "output_type": "stream",
          "name": "stdout",
          "text": [
            "The first motorcycle I owned was a Honda.\n"
          ]
        }
      ]
    },
    {
      "cell_type": "markdown",
      "source": [
        "## Removing an Item by Value"
      ],
      "metadata": {
        "id": "5grXiq8Cm-2j"
      }
    },
    {
      "cell_type": "code",
      "source": [
        "#remove the value 'ducati' from the list of motorcycles.\n",
        "motorcycles = ['honda', 'yamaha', 'suzuki', 'ducati']\n",
        "print(motorcycles)\n",
        "motorcycles.remove('ducati')\n",
        "print(motorcycles)"
      ],
      "metadata": {
        "colab": {
          "base_uri": "https://localhost:8080/"
        },
        "id": "F7aMvL-rm_gc",
        "outputId": "787c962c-7fb7-4846-9512-ffa8ab7e7620"
      },
      "execution_count": null,
      "outputs": [
        {
          "output_type": "stream",
          "name": "stdout",
          "text": [
            "['honda', 'yamaha', 'suzuki', 'ducati']\n",
            "['honda', 'yamaha', 'suzuki']\n"
          ]
        }
      ]
    },
    {
      "cell_type": "code",
      "source": [
        "#remove the value 'ducati' and print a reason for removing it from the list:\n",
        "\n",
        "motorcycles = ['honda', 'yamaha', 'suzuki', 'ducati']\n",
        "print(motorcycles)\n",
        "too_expensive = 'ducati'\n",
        "motorcycles.remove(too_expensive)\n",
        "print(motorcycles)\n",
        "print(\"\\nA \" + too_expensive.title() + \" is too expensive for me.\")"
      ],
      "metadata": {
        "colab": {
          "base_uri": "https://localhost:8080/"
        },
        "id": "bCocN8DBnF_u",
        "outputId": "816c4529-1092-4903-cf62-a4138929246e"
      },
      "execution_count": null,
      "outputs": [
        {
          "output_type": "stream",
          "name": "stdout",
          "text": [
            "['honda', 'yamaha', 'suzuki', 'ducati']\n",
            "['honda', 'yamaha', 'suzuki']\n",
            "\n",
            "A Ducati is too expensive for me.\n"
          ]
        }
      ]
    },
    {
      "cell_type": "markdown",
      "source": [
        "## Organizing a List"
      ],
      "metadata": {
        "id": "z5H0SciqnWsF"
      }
    },
    {
      "cell_type": "markdown",
      "source": [
        "## Sorting a List Permanently with the sort() Method"
      ],
      "metadata": {
        "id": "E7C3HDXvnZ2G"
      }
    },
    {
      "cell_type": "code",
      "source": [
        "#assume that all the values in the list are lowercase.\\\n",
        "\n",
        "cars = ['bmw', 'audi', 'toyota', 'subaru']\n",
        "cars.sort()\n",
        "print(cars)"
      ],
      "metadata": {
        "colab": {
          "base_uri": "https://localhost:8080/"
        },
        "id": "AJ3Jt-HbnadJ",
        "outputId": "d4094b27-8c2e-4ca6-c098-0c40e2d185c5"
      },
      "execution_count": null,
      "outputs": [
        {
          "output_type": "stream",
          "name": "stdout",
          "text": [
            "['audi', 'bmw', 'subaru', 'toyota']\n"
          ]
        }
      ]
    },
    {
      "cell_type": "code",
      "source": [
        "#sorts the list of cars in reverse alphabetical order:\n",
        "cars = ['bmw', 'audi', 'toyota', 'subaru']\n",
        "cars.sort(reverse=True)\n",
        "print(cars)"
      ],
      "metadata": {
        "colab": {
          "base_uri": "https://localhost:8080/"
        },
        "id": "ZkM2fRB2nkj0",
        "outputId": "e4240a66-0bfb-4bb3-887a-42fe50a0bcc0"
      },
      "execution_count": null,
      "outputs": [
        {
          "output_type": "stream",
          "name": "stdout",
          "text": [
            "['toyota', 'subaru', 'bmw', 'audi']\n"
          ]
        }
      ]
    },
    {
      "cell_type": "markdown",
      "source": [
        "## Sorting a List Temporarily with the sorted() Function"
      ],
      "metadata": {
        "id": "IErIlrg-ntbC"
      }
    },
    {
      "cell_type": "code",
      "source": [
        "#Let’s try this function on the list of cars.\n",
        "\n",
        "cars = ['bmw', 'audi', 'toyota', 'subaru']\n",
        "print(\"Here is the original list:\")\n",
        "print(cars)\n",
        "print(\"\\nHere is the sorted list:\")\n",
        "print(sorted(cars))\n",
        "print(\"\\nHere is the original list again:\")\n",
        "print(cars)"
      ],
      "metadata": {
        "colab": {
          "base_uri": "https://localhost:8080/"
        },
        "id": "9YTBUslPnuJD",
        "outputId": "a8ea8339-0f31-4aec-fb15-eecb83567532"
      },
      "execution_count": null,
      "outputs": [
        {
          "output_type": "stream",
          "name": "stdout",
          "text": [
            "Here is the original list:\n",
            "['bmw', 'audi', 'toyota', 'subaru']\n",
            "\n",
            "Here is the sorted list:\n",
            "['audi', 'bmw', 'subaru', 'toyota']\n",
            "\n",
            "Here is the original list again:\n",
            "['bmw', 'audi', 'toyota', 'subaru']\n"
          ]
        }
      ]
    },
    {
      "cell_type": "markdown",
      "source": [
        "## Printing a List in Reverse Order"
      ],
      "metadata": {
        "id": "9TGqwXZXn5eK"
      }
    },
    {
      "cell_type": "code",
      "source": [
        "#the list into reverse chronological order\n",
        "cars = ['bmw', 'audi', 'toyota', 'subaru']\n",
        "print(cars)\n",
        "cars.reverse()\n",
        "print(cars)"
      ],
      "metadata": {
        "colab": {
          "base_uri": "https://localhost:8080/"
        },
        "id": "D97fcqcfn6JP",
        "outputId": "7d812486-1183-4cfa-c476-199f4f7a38d2"
      },
      "execution_count": null,
      "outputs": [
        {
          "output_type": "stream",
          "name": "stdout",
          "text": [
            "['bmw', 'audi', 'toyota', 'subaru']\n",
            "['subaru', 'toyota', 'audi', 'bmw']\n"
          ]
        }
      ]
    },
    {
      "cell_type": "markdown",
      "source": [
        "## Finding the Length of a List"
      ],
      "metadata": {
        "id": "zjNjG6-loB8a"
      }
    },
    {
      "cell_type": "code",
      "source": [
        "#The list in this example has four items, so its length is 4:\n",
        "cars = ['bmw', 'audi', 'toyota', 'subaru']\n",
        "len(cars)"
      ],
      "metadata": {
        "colab": {
          "base_uri": "https://localhost:8080/"
        },
        "id": "cOlk5G_8oCqf",
        "outputId": "d5bed0c5-36fd-4154-b755-6619dd039f4b"
      },
      "execution_count": null,
      "outputs": [
        {
          "output_type": "execute_result",
          "data": {
            "text/plain": [
              "4"
            ]
          },
          "metadata": {},
          "execution_count": 36
        }
      ]
    },
    {
      "cell_type": "markdown",
      "source": [
        "## Avoiding Index Errors When Working with Lists"
      ],
      "metadata": {
        "id": "I7YVg728oQHU"
      }
    },
    {
      "cell_type": "code",
      "source": [
        "#a list with three items, and you ask for the fourth item:\n",
        "motorcycles = ['honda', 'yamaha', 'suzuki']\n",
        "print(motorcycles[3])  # out of range this list"
      ],
      "metadata": {
        "colab": {
          "base_uri": "https://localhost:8080/",
          "height": 200
        },
        "id": "5C3cp1XsoQw9",
        "outputId": "41e9fa8e-12af-44ce-ea61-901da7e72563"
      },
      "execution_count": null,
      "outputs": [
        {
          "output_type": "error",
          "ename": "IndexError",
          "evalue": "ignored",
          "traceback": [
            "\u001b[0;31m---------------------------------------------------------------------------\u001b[0m",
            "\u001b[0;31mIndexError\u001b[0m                                Traceback (most recent call last)",
            "\u001b[0;32m<ipython-input-38-b3bba88e5a8a>\u001b[0m in \u001b[0;36m<cell line: 3>\u001b[0;34m()\u001b[0m\n\u001b[1;32m      1\u001b[0m \u001b[0;31m#a list with three items, and you ask for the fourth item:\u001b[0m\u001b[0;34m\u001b[0m\u001b[0;34m\u001b[0m\u001b[0m\n\u001b[1;32m      2\u001b[0m \u001b[0mmotorcycles\u001b[0m \u001b[0;34m=\u001b[0m \u001b[0;34m[\u001b[0m\u001b[0;34m'honda'\u001b[0m\u001b[0;34m,\u001b[0m \u001b[0;34m'yamaha'\u001b[0m\u001b[0;34m,\u001b[0m \u001b[0;34m'suzuki'\u001b[0m\u001b[0;34m]\u001b[0m\u001b[0;34m\u001b[0m\u001b[0;34m\u001b[0m\u001b[0m\n\u001b[0;32m----> 3\u001b[0;31m \u001b[0mprint\u001b[0m\u001b[0;34m(\u001b[0m\u001b[0mmotorcycles\u001b[0m\u001b[0;34m[\u001b[0m\u001b[0;36m3\u001b[0m\u001b[0;34m]\u001b[0m\u001b[0;34m)\u001b[0m  \u001b[0;31m# out of range this list\u001b[0m\u001b[0;34m\u001b[0m\u001b[0;34m\u001b[0m\u001b[0m\n\u001b[0m",
            "\u001b[0;31mIndexError\u001b[0m: list index out of range"
          ]
        }
      ]
    },
    {
      "cell_type": "code",
      "source": [
        "#access the last item in a list you use the index -1.\n",
        "motorcycles = ['honda', 'yamaha', 'suzuki']\n",
        "print(motorcycles[-1])"
      ],
      "metadata": {
        "colab": {
          "base_uri": "https://localhost:8080/"
        },
        "id": "wDS_yHZuoXEy",
        "outputId": "28290113-e285-4adf-824d-6153d55a81ab"
      },
      "execution_count": null,
      "outputs": [
        {
          "output_type": "stream",
          "name": "stdout",
          "text": [
            "suzuki\n"
          ]
        }
      ]
    },
    {
      "cell_type": "code",
      "source": [
        "#this approach will cause an error is when you request the last item from an empty list:\n",
        "motorcycles = []\n",
        "print(motorcycles[-1]) #list index out of range"
      ],
      "metadata": {
        "colab": {
          "base_uri": "https://localhost:8080/",
          "height": 200
        },
        "id": "5LNGeJfbo2y-",
        "outputId": "99a405d1-2581-4871-f172-3b9312fea450"
      },
      "execution_count": null,
      "outputs": [
        {
          "output_type": "error",
          "ename": "IndexError",
          "evalue": "ignored",
          "traceback": [
            "\u001b[0;31m---------------------------------------------------------------------------\u001b[0m",
            "\u001b[0;31mIndexError\u001b[0m                                Traceback (most recent call last)",
            "\u001b[0;32m<ipython-input-40-17670117ae71>\u001b[0m in \u001b[0;36m<cell line: 3>\u001b[0;34m()\u001b[0m\n\u001b[1;32m      1\u001b[0m \u001b[0;31m#this approach will cause an error is when you request the last item from an empty list:\u001b[0m\u001b[0;34m\u001b[0m\u001b[0;34m\u001b[0m\u001b[0m\n\u001b[1;32m      2\u001b[0m \u001b[0mmotorcycles\u001b[0m \u001b[0;34m=\u001b[0m \u001b[0;34m[\u001b[0m\u001b[0;34m]\u001b[0m\u001b[0;34m\u001b[0m\u001b[0;34m\u001b[0m\u001b[0m\n\u001b[0;32m----> 3\u001b[0;31m \u001b[0mprint\u001b[0m\u001b[0;34m(\u001b[0m\u001b[0mmotorcycles\u001b[0m\u001b[0;34m[\u001b[0m\u001b[0;34m-\u001b[0m\u001b[0;36m1\u001b[0m\u001b[0;34m]\u001b[0m\u001b[0;34m)\u001b[0m\u001b[0;34m\u001b[0m\u001b[0;34m\u001b[0m\u001b[0m\n\u001b[0m",
            "\u001b[0;31mIndexError\u001b[0m: list index out of range"
          ]
        }
      ]
    },
    {
      "cell_type": "markdown",
      "source": [
        "#Chapture__04__Working with Lists"
      ],
      "metadata": {
        "id": "t7sVpWN9pDht"
      }
    },
    {
      "cell_type": "markdown",
      "source": [
        "#Looping Through an Entire List\n",
        "\n",
        "To loop through an entire list in Python, you can use a for loop"
      ],
      "metadata": {
        "id": "x3JyJgh-pe_N"
      }
    },
    {
      "cell_type": "code",
      "source": [
        "#for loop to print out each name in a list of magicians:\n",
        "magicians= ['alice', 'david', 'carolina']\n",
        "for magician in magicians:\n",
        "  print(magician)"
      ],
      "metadata": {
        "colab": {
          "base_uri": "https://localhost:8080/"
        },
        "id": "s97eyLGbpfqZ",
        "outputId": "3bce6be6-84fe-436a-a176-3d406a08adf7"
      },
      "execution_count": null,
      "outputs": [
        {
          "output_type": "stream",
          "name": "stdout",
          "text": [
            "alice\n",
            "david\n",
            "carolina\n"
          ]
        }
      ]
    },
    {
      "cell_type": "markdown",
      "source": [
        "#A Closer Look at Looping\n",
        "\n",
        "Let's take a closer look at looping in Python.\n",
        "\n",
        "In Python, loops are used to repeatedly execute a block of code until a certain condition is met. There are two main types of loops in Python: for loops and while loops."
      ],
      "metadata": {
        "id": "ybHT7QpNpy1X"
      }
    },
    {
      "cell_type": "code",
      "source": [
        "for magician in magicians:\n",
        "  print(magician)\n",
        "for magician in magicians:\n",
        "   print(magician)\n",
        "  "
      ],
      "metadata": {
        "colab": {
          "base_uri": "https://localhost:8080/"
        },
        "id": "-OrvmHwbpzjV",
        "outputId": "2fc68e59-9543-4033-8a3f-8b82544ad2d2"
      },
      "execution_count": null,
      "outputs": [
        {
          "output_type": "stream",
          "name": "stdout",
          "text": [
            "alice\n",
            "david\n",
            "carolina\n",
            "alice\n",
            "david\n",
            "carolina\n"
          ]
        }
      ]
    },
    {
      "cell_type": "markdown",
      "source": [
        "#Doing More Work Within a for Loop\n",
        "\n",
        "Within a for loop in Python, you can perform a variety of operations and tasks. The loop body can contain any valid Python code, allowing you to perform more work within the loop. "
      ],
      "metadata": {
        "id": "FQL9rjolqBjO"
      }
    },
    {
      "cell_type": "code",
      "source": [
        "magicians = ['alice', 'david', 'carolina']\n",
        "for magician in magicians:\n",
        "   print(magician.title() + \", that was a great trick!\")"
      ],
      "metadata": {
        "colab": {
          "base_uri": "https://localhost:8080/"
        },
        "id": "jfyt7AjCqCJB",
        "outputId": "83e96294-816d-4ef6-928c-1898c4876e3a"
      },
      "execution_count": null,
      "outputs": [
        {
          "output_type": "stream",
          "name": "stdout",
          "text": [
            "Alice, that was a great trick!\n",
            "David, that was a great trick!\n",
            "Carolina, that was a great trick!\n"
          ]
        }
      ]
    },
    {
      "cell_type": "code",
      "source": [
        "'''Let’s add a second line to our message, telling each magician that we’re\n",
        "looking forward to their next trick'''\n",
        "magicians = ['alice', 'david', 'carolina']\n",
        "for magician in magicians:\n",
        " print(magician.title() + \", that was a great trick!\")\n",
        " print(\"I can't wait to see your next trick, \" + magician.title() + \".\\n\")"
      ],
      "metadata": {
        "colab": {
          "base_uri": "https://localhost:8080/"
        },
        "id": "0s_yIHNOqGRr",
        "outputId": "2f205449-87a4-4e5b-e0fa-cc94348e84db"
      },
      "execution_count": null,
      "outputs": [
        {
          "output_type": "stream",
          "name": "stdout",
          "text": [
            "Alice, that was a great trick!\n",
            "I can't wait to see your next trick, Alice.\n",
            "\n",
            "David, that was a great trick!\n",
            "I can't wait to see your next trick, David.\n",
            "\n",
            "Carolina, that was a great trick!\n",
            "I can't wait to see your next trick, Carolina.\n",
            "\n"
          ]
        }
      ]
    },
    {
      "cell_type": "code",
      "source": [
        "#Modifying elements in a list\n",
        "numbers = [1, 2, 3, 4, 5]\n",
        "for i in range(len(numbers)):\n",
        "    numbers[i] *= 2\n",
        "print(numbers)  # Output: [2, 4, 6, 8, 10]\n"
      ],
      "metadata": {
        "colab": {
          "base_uri": "https://localhost:8080/"
        },
        "id": "xDs1XVm2Pv13",
        "outputId": "de4319e4-cc9b-4ff3-d4f0-6b650cb8767c"
      },
      "execution_count": null,
      "outputs": [
        {
          "output_type": "stream",
          "name": "stdout",
          "text": [
            "[2, 4, 6, 8, 10]\n"
          ]
        }
      ]
    },
    {
      "cell_type": "code",
      "source": [
        "#Summing up values from a list\n",
        "numbers = [1, 2, 3, 4, 5]\n",
        "total = 0\n",
        "for num in numbers:\n",
        "    total += num\n",
        "print(total)  # Output: 15\n"
      ],
      "metadata": {
        "colab": {
          "base_uri": "https://localhost:8080/"
        },
        "id": "eHe6dxl8P0Vf",
        "outputId": "e33e5e3e-1bd6-4c8b-cfd9-4810327e5c93"
      },
      "execution_count": null,
      "outputs": [
        {
          "output_type": "stream",
          "name": "stdout",
          "text": [
            "15\n"
          ]
        }
      ]
    },
    {
      "cell_type": "code",
      "source": [
        "#Working with strings\n",
        "message = \"Hello, World!\"\n",
        "for char in message:\n",
        "    if char.isalpha():\n",
        "        print(char.upper())\n"
      ],
      "metadata": {
        "colab": {
          "base_uri": "https://localhost:8080/"
        },
        "id": "BbJE1DHKP6vv",
        "outputId": "6a1ae3bd-60e8-418a-ad3d-29466a1ee78a"
      },
      "execution_count": null,
      "outputs": [
        {
          "output_type": "stream",
          "name": "stdout",
          "text": [
            "H\n",
            "E\n",
            "L\n",
            "L\n",
            "O\n",
            "W\n",
            "O\n",
            "R\n",
            "L\n",
            "D\n"
          ]
        }
      ]
    },
    {
      "cell_type": "markdown",
      "source": [
        "#Doing Something After a for Loop\n",
        "After a for loop in Python, you can continue executing code outside of the loop. The code that follows the loop is not indented and is executed once the loop has completed."
      ],
      "metadata": {
        "id": "WUqj7SUJqR1e"
      }
    },
    {
      "cell_type": "code",
      "source": [
        "#Example:\n",
        "\n",
        "fruits = ['apple', 'banana', 'orange']\n",
        "\n",
        "# Loop through each fruit\n",
        "for fruit in fruits:\n",
        "    print(fruit)\n",
        "\n",
        "# Code after the loop\n",
        "print(\"All fruits have been printed.\")\n"
      ],
      "metadata": {
        "colab": {
          "base_uri": "https://localhost:8080/"
        },
        "id": "FEyh3IHFQSfe",
        "outputId": "51570698-25da-41c5-f2d8-da55b556c54f"
      },
      "execution_count": null,
      "outputs": [
        {
          "output_type": "stream",
          "name": "stdout",
          "text": [
            "apple\n",
            "banana\n",
            "orange\n",
            "All fruits have been printed.\n"
          ]
        }
      ]
    },
    {
      "cell_type": "code",
      "source": [
        "'''the thank you message after the for loop without indentation'''\n",
        "magicians = ['alice', 'david', 'carolina']\n",
        "for magician in magicians:\n",
        " print(magician.title() + \", that was a great trick!\")\n",
        " print(\"I can't wait to see your next trick, \" + magician.title() + \".\\n\")\n",
        "\n",
        " print(\"Thank you, everyone. That was a great magic show!\")"
      ],
      "metadata": {
        "colab": {
          "base_uri": "https://localhost:8080/"
        },
        "id": "0QRkg7krqSu6",
        "outputId": "54c95c55-5d8e-41eb-9d4b-4e1982c21577"
      },
      "execution_count": null,
      "outputs": [
        {
          "output_type": "stream",
          "name": "stdout",
          "text": [
            "Alice, that was a great trick!\n",
            "I can't wait to see your next trick, Alice.\n",
            "\n",
            "Thank you, everyone. That was a great magic show!\n",
            "David, that was a great trick!\n",
            "I can't wait to see your next trick, David.\n",
            "\n",
            "Thank you, everyone. That was a great magic show!\n",
            "Carolina, that was a great trick!\n",
            "I can't wait to see your next trick, Carolina.\n",
            "\n",
            "Thank you, everyone. That was a great magic show!\n"
          ]
        }
      ]
    },
    {
      "cell_type": "markdown",
      "source": [
        "#Avoiding Indentation Errors"
      ],
      "metadata": {
        "id": "5v98K_17qe4t"
      }
    },
    {
      "cell_type": "markdown",
      "source": [
        "## Forgetting to Indent"
      ],
      "metadata": {
        "id": "-HEnAEWlqi9N"
      }
    },
    {
      "cell_type": "code",
      "source": [
        "#If you forget, Python will remind you:\n",
        "magicians = ['alice', 'david', 'carolina']\n",
        "for magician in magicians:\n",
        "  print(magician)"
      ],
      "metadata": {
        "colab": {
          "base_uri": "https://localhost:8080/"
        },
        "id": "ScsXB6ZVqjqd",
        "outputId": "c4ac7b2f-0af0-4af9-effd-7eeb2db8f58f"
      },
      "execution_count": null,
      "outputs": [
        {
          "output_type": "stream",
          "name": "stdout",
          "text": [
            "alice\n",
            "david\n",
            "carolina\n"
          ]
        }
      ]
    },
    {
      "cell_type": "code",
      "source": [
        "#lets you know which line it had a problem with.\n",
        " File \"magicians.py\", line 3\n",
        "    print(magician) #unexpected indent"
      ],
      "metadata": {
        "colab": {
          "base_uri": "https://localhost:8080/",
          "height": 131
        },
        "id": "wcYb5k_zq3RK",
        "outputId": "73137f11-4626-4d0f-90a6-3563c5da01b2"
      },
      "execution_count": null,
      "outputs": [
        {
          "output_type": "error",
          "ename": "IndentationError",
          "evalue": "ignored",
          "traceback": [
            "\u001b[0;36m  File \u001b[0;32m\"<ipython-input-54-072742e1b4a1>\"\u001b[0;36m, line \u001b[0;32m2\u001b[0m\n\u001b[0;31m    File \"magicians.py\", line 3\u001b[0m\n\u001b[0m    ^\u001b[0m\n\u001b[0;31mIndentationError\u001b[0m\u001b[0;31m:\u001b[0m unexpected indent\n"
          ]
        }
      ]
    },
    {
      "cell_type": "markdown",
      "source": [
        "## Forgetting to Indent Additional Lines"
      ],
      "metadata": {
        "id": "6Kepp5b5rN1x"
      }
    },
    {
      "cell_type": "code",
      "source": [
        "#the loop that tells each magician we’re looking forward to their next trick.\n",
        "magicians = ['alice', 'david', 'carolina']\n",
        "for magician in magicians:\n",
        " print(magician.title() + \", that was a great trick!\")\n",
        " print(\"I can't wait to see your next trick, \" + magician.title() + \".\\n\")\n"
      ],
      "metadata": {
        "colab": {
          "base_uri": "https://localhost:8080/"
        },
        "id": "82NeoLg0rOfA",
        "outputId": "f5608440-7af9-496c-b36f-59c0e7e72cdc"
      },
      "execution_count": null,
      "outputs": [
        {
          "output_type": "stream",
          "name": "stdout",
          "text": [
            "Alice, that was a great trick!\n",
            "I can't wait to see your next trick, Alice.\n",
            "\n",
            "David, that was a great trick!\n",
            "I can't wait to see your next trick, David.\n",
            "\n",
            "Carolina, that was a great trick!\n",
            "I can't wait to see your next trick, Carolina.\n",
            "\n"
          ]
        }
      ]
    },
    {
      "cell_type": "markdown",
      "source": [
        "## Indenting Unnecessarily"
      ],
      "metadata": {
        "id": "nOPfe-e1rbX6"
      }
    },
    {
      "cell_type": "code",
      "source": [
        "#informs you about the unexpected indent\n",
        "message = \"Hello Python world!\"\n",
        "print(message)\n"
      ],
      "metadata": {
        "colab": {
          "base_uri": "https://localhost:8080/"
        },
        "id": "sX0cHMvbrcBq",
        "outputId": "a4e03b5c-76b0-4832-a8b2-0ecf5de3bdaf"
      },
      "execution_count": null,
      "outputs": [
        {
          "output_type": "stream",
          "name": "stdout",
          "text": [
            "Hello Python world!\n"
          ]
        }
      ]
    },
    {
      "cell_type": "code",
      "source": [
        "#Python reports that error:\n",
        " File \"hello_world.py\", line 2\n",
        " print(message)  #unexpected indent"
      ],
      "metadata": {
        "colab": {
          "base_uri": "https://localhost:8080/",
          "height": 131
        },
        "id": "Z02Dp2FKru89",
        "outputId": "e291104b-f36d-435f-8951-f9c3ee7ad110"
      },
      "execution_count": null,
      "outputs": [
        {
          "output_type": "error",
          "ename": "IndentationError",
          "evalue": "ignored",
          "traceback": [
            "\u001b[0;36m  File \u001b[0;32m\"<ipython-input-57-c38da748af13>\"\u001b[0;36m, line \u001b[0;32m2\u001b[0m\n\u001b[0;31m    File \"hello_world.py\", line 2\u001b[0m\n\u001b[0m    ^\u001b[0m\n\u001b[0;31mIndentationError\u001b[0m\u001b[0;31m:\u001b[0m unexpected indent\n"
          ]
        }
      ]
    },
    {
      "cell_type": "markdown",
      "source": [
        "#Indenting Unnecessarily After the Loop\n",
        "\n",
        " Indentation is crucial to define the structure and scope of code blocks. Indenting unnecessarily after a loop can result in an indentation error. It's important to correctly align the code within the loop and maintain consistent indentation."
      ],
      "metadata": {
        "id": "q9sbYrQCr2Ry"
      }
    },
    {
      "cell_type": "code",
      "source": [
        "#we accidentally indent then line that thanked the magicians as a group for putting on a good show.\n",
        "\n",
        "magicians= ['alice', 'david', 'carolina']\n",
        "for magician in magicians:\n",
        "   print(magician.title() + \", that was a great trick!\")\n",
        "   print(\"I can't wait to see your next trick, \" + magician.title() + \".\\n\")\n",
        "\n",
        "   print(\"Thank you everyone, that was a great magic show!\")"
      ],
      "metadata": {
        "colab": {
          "base_uri": "https://localhost:8080/"
        },
        "id": "zJCJtFT3r26N",
        "outputId": "3270632b-3dd6-4922-c8ba-d5e54a8b19f6"
      },
      "execution_count": null,
      "outputs": [
        {
          "output_type": "stream",
          "name": "stdout",
          "text": [
            "Alice, that was a great trick!\n",
            "I can't wait to see your next trick, Alice.\n",
            "\n",
            "Thank you everyone, that was a great magic show!\n",
            "David, that was a great trick!\n",
            "I can't wait to see your next trick, David.\n",
            "\n",
            "Thank you everyone, that was a great magic show!\n",
            "Carolina, that was a great trick!\n",
            "I can't wait to see your next trick, Carolina.\n",
            "\n",
            "Thank you everyone, that was a great magic show!\n"
          ]
        }
      ]
    },
    {
      "cell_type": "markdown",
      "source": [
        "# Forgetting the Colon\n",
        "\n",
        "In Python, the colon (:) is an essential part of the syntax for certain constructs such as if statements, for loops, and function definitions. Forgetting to include the colon can lead to syntax errors."
      ],
      "metadata": {
        "id": "fbpZcZ9TsW_C"
      }
    },
    {
      "cell_type": "code",
      "source": [
        "#Python to interpret the next line as the start of a loop.\n",
        "magicians = ['alice', 'david', 'carolina']\n",
        " for magician in magicians     # this line mistel the colon that'why error the code\n",
        " print(magician)"
      ],
      "metadata": {
        "colab": {
          "base_uri": "https://localhost:8080/",
          "height": 131
        },
        "id": "9u2fsJ8bsXz7",
        "outputId": "bad439f5-75a2-4eba-801b-320a2dee59fa"
      },
      "execution_count": null,
      "outputs": [
        {
          "output_type": "error",
          "ename": "IndentationError",
          "evalue": "ignored",
          "traceback": [
            "\u001b[0;36m  File \u001b[0;32m\"<ipython-input-63-e36261d0c276>\"\u001b[0;36m, line \u001b[0;32m3\u001b[0m\n\u001b[0;31m    for magician in magicians     # this line mistel the colon that'why error the code\u001b[0m\n\u001b[0m    ^\u001b[0m\n\u001b[0;31mIndentationError\u001b[0m\u001b[0;31m:\u001b[0m unexpected indent\n"
          ]
        }
      ]
    },
    {
      "cell_type": "markdown",
      "source": [
        "# Making Numerical Lists\n",
        "\n",
        "To make numerical lists in Python, you can use the range() function in combination with the list() function to convert the range object into a list"
      ],
      "metadata": {
        "id": "vHzqKc0CsxUT"
      }
    },
    {
      "cell_type": "markdown",
      "source": [
        "#Using the range() Function\n",
        "\n",
        "\n",
        "The range() function in Python is used to generate a sequence of numbers. It can be used in various ways depending on your requirements."
      ],
      "metadata": {
        "id": "OBgHGRD5s4sz"
      }
    },
    {
      "cell_type": "code",
      "source": [
        "#use the range() function to print a series of numbers like this\n",
        "for value in range(1,5):\n",
        " print(value)"
      ],
      "metadata": {
        "colab": {
          "base_uri": "https://localhost:8080/"
        },
        "id": "aATju3X7s5oa",
        "outputId": "dc6849dc-3459-4f7f-ca16-b7b8abc1ad43"
      },
      "execution_count": null,
      "outputs": [
        {
          "output_type": "stream",
          "name": "stdout",
          "text": [
            "1\n",
            "2\n",
            "3\n",
            "4\n"
          ]
        }
      ]
    },
    {
      "cell_type": "code",
      "source": [
        "#print the numbers from 1 to 5, you would use range(1,6):\n",
        "for value in range(1,6):\n",
        " print(value)"
      ],
      "metadata": {
        "colab": {
          "base_uri": "https://localhost:8080/"
        },
        "id": "k8vvI2pVtCx9",
        "outputId": "41e7f276-4aa3-441a-c8c2-00c261b40f90"
      },
      "execution_count": null,
      "outputs": [
        {
          "output_type": "stream",
          "name": "stdout",
          "text": [
            "1\n",
            "2\n",
            "3\n",
            "4\n",
            "5\n"
          ]
        }
      ]
    },
    {
      "cell_type": "markdown",
      "source": [
        "#Using range() to Make a List of Numbers\n",
        "\n",
        "we can use the range() function in Python to generate a sequence of numbers and convert it into a list. The range() function creates an iterable object that represents a sequence of numbers within a specified range.\n",
        "\n"
      ],
      "metadata": {
        "id": "SIvnmH0PtLCz"
      }
    },
    {
      "cell_type": "code",
      "source": [
        "#use list() to convert that same set of numbers into a list:\n",
        "numbers = list(range(1,6))\n",
        "print(numbers)"
      ],
      "metadata": {
        "colab": {
          "base_uri": "https://localhost:8080/"
        },
        "id": "rZe_sIGEtL0a",
        "outputId": "09a20d79-8cf0-4846-9e7e-f556fcc399b2"
      },
      "execution_count": null,
      "outputs": [
        {
          "output_type": "stream",
          "name": "stdout",
          "text": [
            "[1, 2, 3, 4, 5]\n"
          ]
        }
      ]
    },
    {
      "cell_type": "code",
      "source": [
        "#how we would list the even numbers between 1 and 10:\n",
        "even_numbers = list(range(2,11,2))\n",
        "print(even_numbers)"
      ],
      "metadata": {
        "colab": {
          "base_uri": "https://localhost:8080/"
        },
        "id": "Of_zxRKYtPZD",
        "outputId": "1dcd8edb-74c8-4ff4-9e77-c7762cddd7ab"
      },
      "execution_count": null,
      "outputs": [
        {
          "output_type": "stream",
          "name": "stdout",
          "text": [
            "[2, 4, 6, 8, 10]\n"
          ]
        }
      ]
    },
    {
      "cell_type": "code",
      "source": [
        "#two asterisks (**) represent exponents put the first 10 square numbers into a list.\n",
        "squares = []\n",
        "for value in range(1,11):\n",
        "  square = value**2\n",
        "  squares.append(square)\n",
        "print(squares)"
      ],
      "metadata": {
        "colab": {
          "base_uri": "https://localhost:8080/"
        },
        "id": "h3wvewE6tX3V",
        "outputId": "10112daa-cca9-418f-9cac-7e8683b8c3e6"
      },
      "execution_count": null,
      "outputs": [
        {
          "output_type": "stream",
          "name": "stdout",
          "text": [
            "[1, 4, 9, 16, 25, 36, 49, 64, 81, 100]\n"
          ]
        }
      ]
    },
    {
      "cell_type": "code",
      "source": [
        "#two asterisks (**) represent exponents\n",
        "squares = []\n",
        "for value in range(1,11):\n",
        "  square = value**2\n",
        "  squares.append(square)\n",
        "  print(squares)  # print space back to right "
      ],
      "metadata": {
        "colab": {
          "base_uri": "https://localhost:8080/"
        },
        "id": "nMUmXbaktini",
        "outputId": "ad57bd78-048f-48cf-aa02-3e0d4e44db52"
      },
      "execution_count": null,
      "outputs": [
        {
          "output_type": "stream",
          "name": "stdout",
          "text": [
            "[1]\n",
            "[1, 4]\n",
            "[1, 4, 9]\n",
            "[1, 4, 9, 16]\n",
            "[1, 4, 9, 16, 25]\n",
            "[1, 4, 9, 16, 25, 36]\n",
            "[1, 4, 9, 16, 25, 36, 49]\n",
            "[1, 4, 9, 16, 25, 36, 49, 64]\n",
            "[1, 4, 9, 16, 25, 36, 49, 64, 81]\n",
            "[1, 4, 9, 16, 25, 36, 49, 64, 81, 100]\n"
          ]
        }
      ]
    },
    {
      "cell_type": "code",
      "source": [
        "#the temporary variable square and append each new value directly to the list:\n",
        "squares = []\n",
        "for value in range(1,11):\n",
        "  squares.append(value**2)\n",
        "print(squares)"
      ],
      "metadata": {
        "colab": {
          "base_uri": "https://localhost:8080/"
        },
        "id": "S0tVgRdsuKXD",
        "outputId": "d9f944c1-7a38-4899-fd11-a38592ddc365"
      },
      "execution_count": null,
      "outputs": [
        {
          "output_type": "stream",
          "name": "stdout",
          "text": [
            "[1, 4, 9, 16, 25, 36, 49, 64, 81, 100]\n"
          ]
        }
      ]
    },
    {
      "cell_type": "markdown",
      "source": [
        "# Simple Statistics with a List of Numbers\n",
        "\n",
        "To perform simple statistics with a list of numbers in Python, you can use built-in functions and methods."
      ],
      "metadata": {
        "id": "4v30UXZzuRnK"
      }
    },
    {
      "cell_type": "code",
      "source": [
        "digits = [1, 2, 3, 4, 5, 6, 7, 8, 9, 0]\n",
        "min(digits)\n",
        "max(digits)\n",
        "sum(digits)"
      ],
      "metadata": {
        "colab": {
          "base_uri": "https://localhost:8080/"
        },
        "id": "wFJo7BdauSmH",
        "outputId": "88ddef1e-a4a5-4280-a2f3-c8861985125d"
      },
      "execution_count": null,
      "outputs": [
        {
          "output_type": "execute_result",
          "data": {
            "text/plain": [
              "45"
            ]
          },
          "metadata": {},
          "execution_count": 75
        }
      ]
    },
    {
      "cell_type": "code",
      "source": [],
      "metadata": {
        "id": "I_VTLGlJua1l"
      },
      "execution_count": null,
      "outputs": []
    },
    {
      "cell_type": "markdown",
      "source": [
        "#List Comprehensions\n",
        "\n",
        "\n",
        "List comprehensions in Python provide a concise and elegant way to create new lists based on existing lists or other iterable objects. They allow you to define a new list by specifying an expression, followed by a for loop or multiple for loops, and optional if conditions."
      ],
      "metadata": {
        "id": "nsya_MJkudnA"
      }
    },
    {
      "cell_type": "code",
      "source": [
        "#earlier but uses a list comprehension\n",
        "squares = [value**2 for value in range(1,11)]\n",
        "print(squares)"
      ],
      "metadata": {
        "colab": {
          "base_uri": "https://localhost:8080/"
        },
        "id": "sE7XGx3FuepL",
        "outputId": "fa624996-f5bb-4cf5-9152-b4d6079c099c"
      },
      "execution_count": null,
      "outputs": [
        {
          "output_type": "stream",
          "name": "stdout",
          "text": [
            "[1, 4, 9, 16, 25, 36, 49, 64, 81, 100]\n"
          ]
        }
      ]
    },
    {
      "cell_type": "markdown",
      "source": [
        "## Working with Part of a List\n",
        "\n",
        "\n",
        "When working with part of a list, you can use list slicing in Python to extract a portion of the list based on indices"
      ],
      "metadata": {
        "id": "qDXDlktGupU-"
      }
    },
    {
      "cell_type": "markdown",
      "source": [
        "## Slicing a List\n",
        "\n",
        "Slicing a list in Python allows you to extract a portion of the list by specifying the start and end indices."
      ],
      "metadata": {
        "id": "q0eVcK_uusXF"
      }
    },
    {
      "cell_type": "code",
      "source": [
        "#request indices 0 through 3, which would return elements 0, 1, and 2.\n",
        "players = ['charles', 'martina', 'michael', 'florence', 'eli']\n",
        "print(players[0:3])\n"
      ],
      "metadata": {
        "colab": {
          "base_uri": "https://localhost:8080/"
        },
        "id": "cqA-f_aPus9r",
        "outputId": "76793235-ebeb-4f76-d879-32b05e68fecc"
      },
      "execution_count": null,
      "outputs": [
        {
          "output_type": "stream",
          "name": "stdout",
          "text": [
            "['charles', 'martina', 'michael']\n"
          ]
        }
      ]
    },
    {
      "cell_type": "code",
      "source": [
        "#the slice at index 1 and end at index 4:\n",
        "players = ['charles', 'martina', 'michael', 'florence', 'eli']\n",
        "print(players[1:4])"
      ],
      "metadata": {
        "colab": {
          "base_uri": "https://localhost:8080/"
        },
        "id": "97CalOMGu6bK",
        "outputId": "c697f590-e147-4ea6-b525-984c3e53652c"
      },
      "execution_count": null,
      "outputs": [
        {
          "output_type": "stream",
          "name": "stdout",
          "text": [
            "['martina', 'michael', 'florence']\n"
          ]
        }
      ]
    },
    {
      "cell_type": "code",
      "source": [
        "#automatically starts your slice at the beginning of the list:\n",
        "players = ['charles', 'martina', 'michael', 'florence', 'eli']\n",
        "print(players[:4])"
      ],
      "metadata": {
        "colab": {
          "base_uri": "https://localhost:8080/"
        },
        "id": "GQ3aqYQ6u_4b",
        "outputId": "53cf6849-d54a-42c1-8512-e776c181d90e"
      },
      "execution_count": null,
      "outputs": [
        {
          "output_type": "stream",
          "name": "stdout",
          "text": [
            "['charles', 'martina', 'michael', 'florence']\n"
          ]
        }
      ]
    },
    {
      "cell_type": "code",
      "source": [
        "#start with index 2 and omit the second index:\n",
        "players = ['charles', 'martina', 'michael', 'florence', 'eli']\n",
        "print(players[2:])"
      ],
      "metadata": {
        "colab": {
          "base_uri": "https://localhost:8080/"
        },
        "id": "wuimv53dvIZO",
        "outputId": "4e698403-1e60-4683-8d95-5c226bada081"
      },
      "execution_count": null,
      "outputs": [
        {
          "output_type": "stream",
          "name": "stdout",
          "text": [
            "['michael', 'florence', 'eli']\n"
          ]
        }
      ]
    },
    {
      "cell_type": "markdown",
      "source": [
        "## Looping Through a Slice"
      ],
      "metadata": {
        "id": "KMPpTXxcvMEe"
      }
    },
    {
      "cell_type": "code",
      "source": [
        "#the first three players and print their names as part of a simple roster:\n",
        "players = ['charles', 'martina', 'michael', 'florence', 'eli']\n",
        "print(\"Here are the first three players on my team:\")\n",
        "for player in players[:3]:\n",
        "  print(player.title())"
      ],
      "metadata": {
        "colab": {
          "base_uri": "https://localhost:8080/"
        },
        "id": "b69HCZxvvMw7",
        "outputId": "67f05f4c-be2e-49fb-b859-a7a333ffe975"
      },
      "execution_count": null,
      "outputs": [
        {
          "output_type": "stream",
          "name": "stdout",
          "text": [
            "Here are the first three players on my team:\n",
            "Charles\n",
            "Martina\n",
            "Michael\n"
          ]
        }
      ]
    },
    {
      "cell_type": "markdown",
      "source": [
        "## Copying a List"
      ],
      "metadata": {
        "id": "P2D7xBxfvYpw"
      }
    },
    {
      "cell_type": "code",
      "source": [
        "#can create their list by copying ours:\n",
        "my_foods = ['pizza', 'falafel', 'carrot cake']\n",
        "friend_foods = my_foods[:]\n",
        "print(\"My favorite foods are:\")\n",
        "print(my_foods)\n",
        "print(\"\\nMy friend's favorite foods are:\")\n",
        "print(friend_foods)"
      ],
      "metadata": {
        "colab": {
          "base_uri": "https://localhost:8080/"
        },
        "id": "VHEBLQXtvZYs",
        "outputId": "b4787ea8-4f18-43d7-cf10-8297062d622b"
      },
      "execution_count": null,
      "outputs": [
        {
          "output_type": "stream",
          "name": "stdout",
          "text": [
            "My favorite foods are:\n",
            "['pizza', 'falafel', 'carrot cake']\n",
            "\n",
            "My friend's favorite foods are:\n",
            "['pizza', 'falafel', 'carrot cake']\n"
          ]
        }
      ]
    },
    {
      "cell_type": "code",
      "source": [
        "#each list and show that each list keeps track of the appropriate person’s favorite foods\n",
        "my_foods = ['pizza', 'falafel', 'carrot cake']\n",
        "friend_foods = my_foods[:]\n",
        "my_foods.append('cannoli')\n",
        "friend_foods.append('ice cream')\n",
        "print(\"My favorite foods are:\")\n",
        "print(my_foods)\n",
        "print(\"\\nMy friend's favorite foods are:\")\n",
        "print(friend_foods)"
      ],
      "metadata": {
        "colab": {
          "base_uri": "https://localhost:8080/"
        },
        "id": "nHrMTZcDv8is",
        "outputId": "e2124f33-c9d2-4798-eb08-3ad58f74cd6e"
      },
      "execution_count": null,
      "outputs": [
        {
          "output_type": "stream",
          "name": "stdout",
          "text": [
            "My favorite foods are:\n",
            "['pizza', 'falafel', 'carrot cake', 'cannoli']\n",
            "\n",
            "My friend's favorite foods are:\n",
            "['pizza', 'falafel', 'carrot cake', 'ice cream']\n"
          ]
        }
      ]
    },
    {
      "cell_type": "code",
      "source": [
        "#you try to copy a list without using a slice.\n",
        "\n",
        "my_foods = ['pizza', 'falafel', 'carrot cake']\n",
        "friend_foods = my_foods ## This doesn't work\n",
        "my_foods.append('cannoli')\n",
        "friend_foods.append('ice cream')\n",
        "print(\"My favorite foods are:\")\n",
        "print(my_foods)\n",
        "print(\"\\nMy friend's favorite foods are:\")\n",
        "print(friend_foods)"
      ],
      "metadata": {
        "colab": {
          "base_uri": "https://localhost:8080/"
        },
        "id": "LZ9GrBzUwS2r",
        "outputId": "79d24d8b-0a65-499f-980f-34e886450f21"
      },
      "execution_count": null,
      "outputs": [
        {
          "output_type": "stream",
          "name": "stdout",
          "text": [
            "My favorite foods are:\n",
            "['pizza', 'falafel', 'carrot cake', 'cannoli', 'ice cream']\n",
            "\n",
            "My friend's favorite foods are:\n",
            "['pizza', 'falafel', 'carrot cake', 'cannoli', 'ice cream']\n"
          ]
        }
      ]
    },
    {
      "cell_type": "markdown",
      "source": [
        "## Tuples"
      ],
      "metadata": {
        "id": "t_8GOfrvwpVo"
      }
    },
    {
      "cell_type": "markdown",
      "source": [
        "## Defining a Tuple"
      ],
      "metadata": {
        "id": "PVZPT8Ckwssq"
      }
    },
    {
      "cell_type": "code",
      "source": [
        "#the dimensions into a tuple:\n",
        "dimensions = (200, 50)\n",
        "print(dimensions[0])\n",
        "print(dimensions[1])"
      ],
      "metadata": {
        "colab": {
          "base_uri": "https://localhost:8080/"
        },
        "id": "ymQipmkjwtp2",
        "outputId": "3f7911f3-514c-4680-fed5-08873f9318bb"
      },
      "execution_count": null,
      "outputs": [
        {
          "output_type": "stream",
          "name": "stdout",
          "text": [
            "200\n",
            "50\n"
          ]
        }
      ]
    },
    {
      "cell_type": "code",
      "source": [
        "#hange one of the items in the tuple dimensions:\n",
        "dimensions = (200, 50)\n",
        "dimensions[0] = 250"
      ],
      "metadata": {
        "colab": {
          "base_uri": "https://localhost:8080/",
          "height": 200
        },
        "id": "E8h4unVtw1pE",
        "outputId": "8bc2d483-4400-4819-b639-12c88b98cf39"
      },
      "execution_count": null,
      "outputs": [
        {
          "output_type": "error",
          "ename": "TypeError",
          "evalue": "ignored",
          "traceback": [
            "\u001b[0;31m---------------------------------------------------------------------------\u001b[0m",
            "\u001b[0;31mTypeError\u001b[0m                                 Traceback (most recent call last)",
            "\u001b[0;32m<ipython-input-92-56bec1cbbc30>\u001b[0m in \u001b[0;36m<cell line: 3>\u001b[0;34m()\u001b[0m\n\u001b[1;32m      1\u001b[0m \u001b[0;31m#hange one of the items in the tuple dimensions:\u001b[0m\u001b[0;34m\u001b[0m\u001b[0;34m\u001b[0m\u001b[0m\n\u001b[1;32m      2\u001b[0m \u001b[0mdimensions\u001b[0m \u001b[0;34m=\u001b[0m \u001b[0;34m(\u001b[0m\u001b[0;36m200\u001b[0m\u001b[0;34m,\u001b[0m \u001b[0;36m50\u001b[0m\u001b[0;34m)\u001b[0m\u001b[0;34m\u001b[0m\u001b[0;34m\u001b[0m\u001b[0m\n\u001b[0;32m----> 3\u001b[0;31m \u001b[0mdimensions\u001b[0m\u001b[0;34m[\u001b[0m\u001b[0;36m0\u001b[0m\u001b[0;34m]\u001b[0m \u001b[0;34m=\u001b[0m \u001b[0;36m250\u001b[0m\u001b[0;34m\u001b[0m\u001b[0;34m\u001b[0m\u001b[0m\n\u001b[0m",
            "\u001b[0;31mTypeError\u001b[0m: 'tuple' object does not support item assignment"
          ]
        }
      ]
    },
    {
      "cell_type": "markdown",
      "source": [
        "#Looping Through All Values in a Tuple"
      ],
      "metadata": {
        "id": "LaK81ThJxPUm"
      }
    },
    {
      "cell_type": "code",
      "source": [
        "#tuple using a for loop, just as you did with a list:\n",
        "dimensions = (200, 50)\n",
        "for dimension in dimensions:\n",
        "  print(dimension)"
      ],
      "metadata": {
        "colab": {
          "base_uri": "https://localhost:8080/"
        },
        "id": "BtJ-ZpclxQBo",
        "outputId": "620ac69e-7923-41b7-9225-8f9bcb3f79a4"
      },
      "execution_count": null,
      "outputs": [
        {
          "output_type": "stream",
          "name": "stdout",
          "text": [
            "200\n",
            "50\n"
          ]
        }
      ]
    },
    {
      "cell_type": "markdown",
      "source": [
        "#Writing over a Tuple\n",
        "\n",
        "In Python, tuples are immutable, which means their elements cannot be modified after they are created. Therefore, you cannot directly write over or modify a tuple."
      ],
      "metadata": {
        "id": "HVEECCZCxZxL"
      }
    },
    {
      "cell_type": "code",
      "source": [
        "#if we wanted to change our dimensions, we could redefine the entire tuple\n",
        "\n",
        "dimensions = (200, 50)\n",
        "print(\"Original dimensions:\")\n",
        "for dimension in dimensions:\n",
        " print(dimension)\n",
        "\n",
        "dimensions = (400, 100)\n",
        "print(\"\\nModified dimensions:\")\n",
        "for dimension in dimensions:\n",
        " print(dimension)"
      ],
      "metadata": {
        "colab": {
          "base_uri": "https://localhost:8080/"
        },
        "id": "WulEAhvfxaZz",
        "outputId": "fde5e7f6-5293-40c6-cfe7-e207f40a231c"
      },
      "execution_count": null,
      "outputs": [
        {
          "output_type": "stream",
          "name": "stdout",
          "text": [
            "Original dimensions:\n",
            "200\n",
            "50\n",
            "\n",
            "Modified dimensions:\n",
            "400\n",
            "100\n"
          ]
        }
      ]
    },
    {
      "cell_type": "markdown",
      "source": [
        "#Styling Your Code\n",
        "\n",
        "*Indentation:\n",
        "\n",
        "1.Use 4 spaces for indentation (avoid tabs).\n",
        "\n",
        "2.Be consistent with indentation throughout the code.\n",
        "\n",
        "3.Indent the code inside control structures (if statements, loops, etc.).\n",
        "\n",
        "4.Indent continuation lines to align with the opening delimiter.\n",
        "\n",
        "\n",
        "\n",
        "\n",
        "*Line Length:\n",
        "\n",
        "1.Limit lines to a maximum of 79 characters.\n",
        "\n",
        "2.For long expressions, break them into multiple lines using parentheses or backslashes.\n",
        "\n",
        "\n",
        "\n",
        "\n",
        "*Blank Lines:\n",
        "\n",
        "1.Use blank lines to separate functions, classes, and larger logical sections of code.\n",
        "\n",
        "2.Use two blank lines to separate top-level functions and classes.\n",
        "\n",
        "\n",
        "\n",
        "\n",
        "\n",
        "*Other Style Guidelines:\n",
        "\n",
        "1.Use lowercase for variable and function names, separated by underscores (snake_case).\n",
        "\n",
        "2.Use uppercase for constants.\n",
        "\n",
        "3.Use a space around operators and after commas, but not directly inside parentheses or brackets.\n",
        "\n",
        "4.Put spaces before and after binary operators (e.g., +, -, *, /) for clarity.\n",
        "\n",
        "5.Use descriptive names for variables, functions, and classes.\n",
        "\n",
        "6.Use docstrings to document functions, classes, and modules.\n",
        "\n",
        "7.Follow naming conventions for modules (lowercase_with_underscores.py),\n",
        "\n",
        "classes (CapitalizedWords), and methods/functions (lowercase_with_underscores)."
      ],
      "metadata": {
        "id": "aS1N1AMPx0zp"
      }
    },
    {
      "cell_type": "markdown",
      "source": [
        "#CHAPTURE  -   05  __  IF STATEMENT "
      ],
      "metadata": {
        "id": "Rn-ZB3WL4ikR"
      }
    },
    {
      "cell_type": "code",
      "source": [
        "#A Simple Example\n",
        "cars = ['audi', 'bmw', 'subaru', 'toyota']\n",
        "for car in cars:\n",
        " if car == 'bmw':\n",
        "   print(car.upper())\n",
        " else:\n",
        "   print(car.title())"
      ],
      "metadata": {
        "colab": {
          "base_uri": "https://localhost:8080/"
        },
        "id": "PeC6XB5i4ysl",
        "outputId": "f647f1d9-3fd8-4d45-f63b-892f751751e6"
      },
      "execution_count": null,
      "outputs": [
        {
          "output_type": "stream",
          "name": "stdout",
          "text": [
            "Audi\n",
            "BMW\n",
            "Subaru\n",
            "Toyota\n"
          ]
        }
      ]
    },
    {
      "cell_type": "markdown",
      "source": [
        "## Conditional Tests"
      ],
      "metadata": {
        "id": "5OC2VRYs5EC0"
      }
    },
    {
      "cell_type": "markdown",
      "source": [
        "#Checking for Equality\n"
      ],
      "metadata": {
        "id": "ko3e341-69ig"
      }
    },
    {
      "cell_type": "markdown",
      "source": [
        "##\n",
        "\n",
        "car ='bmw'\n",
        "\n",
        "car == 'bmw'\n",
        "\n",
        "  True\n",
        "\n",
        "\n",
        "Explain: Yes, the code you provided will evaluate to True. It checks if the variable car is equal to the string 'bmw'.If the value of car is indeed 'bmw', the comparison will be true, and the expression car == 'bmw' will return True'''"
      ],
      "metadata": {
        "id": "VnfCu0U87DUB"
      }
    },
    {
      "cell_type": "markdown",
      "source": [
        "##\n",
        "\n",
        "\n",
        "car = 'audi'\n",
        "\n",
        "v >>> car == 'bmw'\n",
        "\n",
        "False \n",
        "\n",
        "Explain: Yes, that's correct. In this case, the variable car is assigned the \n",
        "\n",
        "value 'audi', and when you compare it to the string 'bmw' using the == \n",
        "\n",
        "operator, the comparison evaluates to False.\n",
        "\n",
        "This is because the value of car is not equal to 'bmw'''"
      ],
      "metadata": {
        "id": "m_vuVROa6vKn"
      }
    },
    {
      "cell_type": "markdown",
      "source": [
        "## Ignoring Case When Checking for Equality"
      ],
      "metadata": {
        "id": "SKM7XJes6aUR"
      }
    },
    {
      "cell_type": "markdown",
      "source": [
        "##\n",
        " \n",
        "car = 'Audi'\n",
        "\n",
        ">>> car == 'audi'\n",
        "\n",
        "False\n",
        "\n",
        "explain:That's correct. In Python, string comparisons are case-sensitive. So when you compare the variable car with the string 'audi', the comparison will evaluate to False because the string 'Audi' is not equal to the string 'audi' due to the difference in case.\n",
        "\n"
      ],
      "metadata": {
        "id": "7w_eucUT6gFH"
      }
    },
    {
      "cell_type": "markdown",
      "source": [
        "##\n",
        "\n",
        "car = 'Audi'\n",
        "\n",
        ">>> car.lower() == 'audi'\n",
        "\n",
        "True\n",
        "\n",
        "explain:\n",
        "\n",
        "Yes, that's correct. In the code car.lower(), the lower() method is used to \n",
        "\n",
        "convert the string stored in the car variable to lowercase. Then, the resulting\n",
        "\n",
        "lowercase string is compared with the string 'audi' using the == operator. \n",
        "\\\n",
        "Since both strings are now in lowercase and are equal, the comparison evaluates to True.\n",
        "\n",
        "\n",
        "\n"
      ],
      "metadata": {
        "id": "Ss7tv0T-7zFJ"
      }
    },
    {
      "cell_type": "markdown",
      "source": [
        "## Checking for Inequality"
      ],
      "metadata": {
        "id": "STQhm6T38NEQ"
      }
    },
    {
      "cell_type": "code",
      "source": [
        "#topping in a variable and then print a message\n",
        "\n",
        "requested_topping = 'mushrooms'\n",
        "if requested_topping != 'anchovies':\n",
        " print(\"Hold the anchovies!\")"
      ],
      "metadata": {
        "colab": {
          "base_uri": "https://localhost:8080/"
        },
        "id": "K5yVEA3S8N2G",
        "outputId": "c089297a-502a-45a7-8a04-9d06630d1416"
      },
      "execution_count": null,
      "outputs": [
        {
          "output_type": "stream",
          "name": "stdout",
          "text": [
            "Hold the anchovies!\n"
          ]
        }
      ]
    },
    {
      "cell_type": "markdown",
      "source": [
        "## Numerical Comparisons"
      ],
      "metadata": {
        "id": "Dae4mOXx8hd7"
      }
    },
    {
      "cell_type": "markdown",
      "source": [
        "##\n",
        "\n",
        "age = 18\n",
        "\n",
        ">>> age == 18\n",
        "\n",
        "True\n",
        "\n",
        "\n",
        "Explian:\n",
        "\n",
        "Yes, that's correct. In this code snippet, the variable age is assigned the\n",
        "\n",
        " value 18. When you compare age with the number 18 using the == operator, the \n",
        " \n",
        " comparison evaluates to True. This is because the value of age is indeed equal\n",
        "  to 18."
      ],
      "metadata": {
        "id": "NTuaqVIs8usr"
      }
    },
    {
      "cell_type": "code",
      "source": [
        "#prints a message if the given answer is not correct:\n",
        "answer = 17\n",
        "if answer != 42:\n",
        "    print(\"That is not the correct answer. Please try again!\")"
      ],
      "metadata": {
        "colab": {
          "base_uri": "https://localhost:8080/"
        },
        "id": "OuTFhHFC89mo",
        "outputId": "81351e95-ee88-4583-e86c-79e2c5f51666"
      },
      "execution_count": null,
      "outputs": [
        {
          "output_type": "stream",
          "name": "stdout",
          "text": [
            "That is not the correct answer. Please try again!\n"
          ]
        }
      ]
    },
    {
      "cell_type": "markdown",
      "source": [
        "# Checking Multiple Conditions\n",
        "\n",
        "\n"
      ],
      "metadata": {
        "id": "YuEFQsdR9ewi"
      }
    },
    {
      "cell_type": "code",
      "source": [
        "#uses logical operators such as and and or\n",
        "\n",
        "age = 25\n",
        "country = 'USA'\n",
        "\n",
        "if age >= 18 and country == 'USA':\n",
        "    print(\"You are eligible.\")\n",
        "else:\n",
        "    print(\"You are not eligible.\")"
      ],
      "metadata": {
        "colab": {
          "base_uri": "https://localhost:8080/"
        },
        "id": "AjqHN0Ra9oX6",
        "outputId": "bdbe7be5-9154-4ec3-b62e-7c0d27201a77"
      },
      "execution_count": null,
      "outputs": [
        {
          "output_type": "stream",
          "name": "stdout",
          "text": [
            "You are eligible.\n"
          ]
        }
      ]
    },
    {
      "cell_type": "markdown",
      "source": [
        "## Using and to Check Multiple Conditions"
      ],
      "metadata": {
        "id": "3hju7akr98Ik"
      }
    },
    {
      "cell_type": "markdown",
      "source": [
        "use the and operator to check multiple conditions in an if statement. The and operator evaluates to True only if both conditions on its left and right are True. "
      ],
      "metadata": {
        "id": "P-MHh0ie-D-U"
      }
    },
    {
      "cell_type": "code",
      "source": [
        "#Check Multiple Conditions\n",
        "\n",
        "age = 25\n",
        "is_student = True\n",
        "\n",
        "if age >= 18 and is_student:\n",
        "    print(\"You are eligible.\")\n",
        "else:\n",
        "    print(\"You are not eligible.\")"
      ],
      "metadata": {
        "colab": {
          "base_uri": "https://localhost:8080/"
        },
        "id": "DCu69hED-Fzo",
        "outputId": "9cdea983-c402-45d9-b9cc-7e18390f93d3"
      },
      "execution_count": null,
      "outputs": [
        {
          "output_type": "stream",
          "name": "stdout",
          "text": [
            "You are eligible.\n"
          ]
        }
      ]
    },
    {
      "cell_type": "markdown",
      "source": [
        "## Using or to Check Multiple Conditions"
      ],
      "metadata": {
        "id": "KrxlmMIy-Wd3"
      }
    },
    {
      "cell_type": "markdown",
      "source": [
        "You can use the or operator to check multiple conditions in an if statement. The or operator evaluates to True if at least one of the conditions on its left or right is True."
      ],
      "metadata": {
        "id": "PfGX9zP8-e-d"
      }
    },
    {
      "cell_type": "code",
      "source": [
        "# or condition cheak this code\n",
        "\n",
        "age = 16\n",
        "is_student = False\n",
        "\n",
        "if age >= 18 or is_student:\n",
        "    print(\"You are eligible.\")\n",
        "else:\n",
        "    print(\"You are not eligible.\")"
      ],
      "metadata": {
        "colab": {
          "base_uri": "https://localhost:8080/"
        },
        "id": "T1s5VM-W-frd",
        "outputId": "fe32e141-12e3-4478-9485-a4d4d3e41ac1"
      },
      "execution_count": null,
      "outputs": [
        {
          "output_type": "stream",
          "name": "stdout",
          "text": [
            "You are not eligible.\n"
          ]
        }
      ]
    },
    {
      "cell_type": "markdown",
      "source": [
        "## Checking Whether a Value Is in a List"
      ],
      "metadata": {
        "id": "h3Ka8e68-tg0"
      }
    },
    {
      "cell_type": "markdown",
      "source": [
        "To check whether a value is present in a list, you can use the in operator. The in operator returns True if the value is found in the list, and False otherwise. \n",
        "\n",
        "Here's an example:"
      ],
      "metadata": {
        "id": "_ZNXPZkj-1LF"
      }
    },
    {
      "cell_type": "code",
      "source": [
        "#Value Is in a List\n",
        "\n",
        "fruits = ['apple', 'banana', 'orange']\n",
        "\n",
        "if 'apple' in fruits:\n",
        "    print(\"Apple is in the list.\")\n",
        "else:\n",
        "    print(\"Apple is not in the list.\")"
      ],
      "metadata": {
        "colab": {
          "base_uri": "https://localhost:8080/"
        },
        "id": "jNGRq4L4-2oP",
        "outputId": "d821fa88-67c9-4dcd-f101-e326db681076"
      },
      "execution_count": null,
      "outputs": [
        {
          "output_type": "stream",
          "name": "stdout",
          "text": [
            "Apple is in the list.\n"
          ]
        }
      ]
    },
    {
      "cell_type": "markdown",
      "source": [
        "## Checking Whether a Value Is Not in a List"
      ],
      "metadata": {
        "id": "qa-alF-M_Dd2"
      }
    },
    {
      "cell_type": "markdown",
      "source": [
        "To check whether a value is not present in a list, you can use the not in\n",
        "\n",
        "operator. The not in operator returns True if the value is not found in the \n",
        " \n",
        "list, and False if it is found. \n",
        "\n",
        "Here's an example:"
      ],
      "metadata": {
        "id": "BA-SWMSl_P6P"
      }
    },
    {
      "cell_type": "code",
      "source": [
        "#Value Is Not in a List\n",
        "\n",
        "fruits = ['apple', 'banana', 'orange']\n",
        "\n",
        "if 'mango' not in fruits:\n",
        "    print(\"Mango is not in the list.\")\n",
        "else:\n",
        "    print(\"Mango is in the list.\")\n"
      ],
      "metadata": {
        "colab": {
          "base_uri": "https://localhost:8080/"
        },
        "id": "c5XjkR1h_U53",
        "outputId": "536d4baf-1466-46e8-99e2-ab74ec80e699"
      },
      "execution_count": null,
      "outputs": [
        {
          "output_type": "stream",
          "name": "stdout",
          "text": [
            "Mango is not in the list.\n"
          ]
        }
      ]
    },
    {
      "cell_type": "markdown",
      "source": [
        "## Boolean Expressions"
      ],
      "metadata": {
        "id": "-D_ZMGBW_iRF"
      }
    },
    {
      "cell_type": "markdown",
      "source": [
        "Boolean expressions are expressions or conditions that evaluate to either True\n",
        "\n",
        "or False. They are commonly used in programming to control the flow of execution based on certain conditions. Here are some examples of boolean\n",
        "expressions:\n",
        "\n",
        "**Comparison Operators: \n",
        "\n",
        "These operators compare two values and return a boolean result. Some commonly used comparison operators are:\n",
        "\n",
        "1. == (equal to): Checks if two values are equal.\n",
        "\n",
        "2. != (not equal to): Checks if two values are not equal.\n",
        "\n",
        "3. < (less than): Checks if the left value is less than the right value.\n",
        "\n",
        "4. > (greater than): Checks if the left value is greater than the right value.\n",
        "\n",
        "5. <= (less than or equal to): Checks if the left value is less than or equal \n",
        "to the right value.\n",
        "\n",
        "6. >= (greater than or equal to): Checks if the left value is greater than or equal to the right value.\n",
        "\n",
        "\n",
        "**Logical Operators: \n",
        "\n",
        "These operators combine multiple boolean expressions and return a boolean result. The commonly used logical operators are:\n",
        "\n",
        "1. and: Returns True if both expressions on the left and right are True.\n",
        "\n",
        "2. or: Returns True if at least one of the expressions on the left or right is True.\n",
        "\n",
        "3. not: Negates the boolean value, i.e., returns True if the expression is False, and vice versa.\n",
        "\n",
        "Boolean expressions are frequently used in conditional statements (if, else, \n",
        "\n",
        "elif) and looping constructs (while, for) to control the program's flow based\n",
        "\n",
        "on certain conditions."
      ],
      "metadata": {
        "id": "yMWudMkK_u7u"
      }
    },
    {
      "cell_type": "code",
      "source": [
        "#example:\n",
        "\n",
        "x = 5\n",
        "y = 10\n",
        "\n",
        "if x < y and y > 15:\n",
        "    print(\"Condition satisfied.\")\n",
        "else:\n",
        "    print(\"Condition not satisfied.\")"
      ],
      "metadata": {
        "colab": {
          "base_uri": "https://localhost:8080/"
        },
        "id": "g77WemtMAY9G",
        "outputId": "a53dc291-0131-4e32-dbe0-7bbc73ad55ed"
      },
      "execution_count": null,
      "outputs": [
        {
          "output_type": "stream",
          "name": "stdout",
          "text": [
            "Condition not satisfied.\n"
          ]
        }
      ]
    },
    {
      "cell_type": "markdown",
      "source": [
        "## if Statements\n",
        "\n",
        "\n",
        "The if statement is a control structure in programming that allows you to execute a block of code conditionally based on a boolean expression"
      ],
      "metadata": {
        "id": "5MGtnkbCAnqH"
      }
    },
    {
      "cell_type": "markdown",
      "source": [
        "## Simple if Statements"
      ],
      "metadata": {
        "id": "dbEnH9hWA5Sz"
      }
    },
    {
      "cell_type": "code",
      "source": [
        "#example:\n",
        "\n",
        "x = 5\n",
        "\n",
        "if x > 10:\n",
        "    print(\"x is greater than 10\")\n",
        "else:\n",
        "    print(\"x is less than or equal to 10\")"
      ],
      "metadata": {
        "colab": {
          "base_uri": "https://localhost:8080/"
        },
        "id": "D1uUSGLUA6Ia",
        "outputId": "368aac15-1fa2-4948-f83e-055ece482a8d"
      },
      "execution_count": null,
      "outputs": [
        {
          "output_type": "stream",
          "name": "stdout",
          "text": [
            "x is less than or equal to 10\n"
          ]
        }
      ]
    },
    {
      "cell_type": "code",
      "source": [
        "#if the individual has registered to vote yet:\n",
        "\n",
        "age = 19\n",
        "if age >= 18:\n",
        " print(\"You are old enough to vote!\")\n",
        " print(\"Have you registered to vote yet?\")\n"
      ],
      "metadata": {
        "colab": {
          "base_uri": "https://localhost:8080/"
        },
        "id": "JQF0LfGEBAja",
        "outputId": "3ed3456f-9e6e-4d4f-c007-2188402c0aa7"
      },
      "execution_count": null,
      "outputs": [
        {
          "output_type": "stream",
          "name": "stdout",
          "text": [
            "You are old enough to vote!\n",
            "Have you registered to vote yet?\n"
          ]
        }
      ]
    },
    {
      "cell_type": "markdown",
      "source": [
        "## if-else Statements\n",
        "\n",
        "The if-else statement is a control structure in programming that allows you to execute one block of code if a condition is true and another block of code if the condition is false.\n",
        "\n",
        "systex:\n",
        "\n",
        "if condition:\n",
        "\n",
        "    # Code block to execute if the condition is True\n",
        "\n",
        "else:\n",
        "\n",
        "    # Code block to execute if the condition is False"
      ],
      "metadata": {
        "id": "DijAGwU8BO3x"
      }
    },
    {
      "cell_type": "code",
      "source": [
        "#add a message for anyone who is not old enough to vote.\n",
        "\n",
        "age = 17\n",
        "if age >= 18:\n",
        "  print(\"You are old enough to vote!\")\n",
        "  print(\"Have you registered to vote yet?\")\n",
        "else:\n",
        " print(\"Sorry, you are too young to vote.\")\n",
        " print(\"Please register to vote as soon as you turn 18!\")"
      ],
      "metadata": {
        "colab": {
          "base_uri": "https://localhost:8080/"
        },
        "id": "ii2KQuahBPj_",
        "outputId": "83cb2b60-ddc4-4839-fa56-2637bbb64201"
      },
      "execution_count": null,
      "outputs": [
        {
          "output_type": "stream",
          "name": "stdout",
          "text": [
            "Sorry, you are too young to vote.\n",
            "Please register to vote as soon as you turn 18!\n"
          ]
        }
      ]
    },
    {
      "cell_type": "markdown",
      "source": [
        "# The if-elif-else Chain\n",
        "\n",
        "The if-elif-else chain is a control structure in programming that allows you to\n",
        "\n",
        "handle multiple conditions in a cascading manner. It provides a way to test \n",
        "\n",
        "multiple conditions sequentially until a condition evaluates to True, and then\n",
        "\n",
        "executes the corresponding code block. \n",
        "\n",
        "\n",
        "Syntex:\n",
        "\n",
        "if condition1:\n",
        "\n",
        "    # Code block to execute if condition1 is True\n",
        "\n",
        "elif condition2:\n",
        "\n",
        "    # Code block to execute if condition1 is False and condition2 is True\n",
        "\n",
        "elif condition3:\n",
        "\n",
        "    # Code block to execute if condition1 and condition2 are False and \n",
        "    condition3 is True\n",
        "else:\n",
        "\n",
        "    # Code block to execute if all conditions are False"
      ],
      "metadata": {
        "id": "EcL6T9X7B3oz"
      }
    },
    {
      "cell_type": "code",
      "source": [
        "#example: multiple conditions are checked sequentially.\n",
        "\n",
        "x = 5\n",
        "\n",
        "if x > 10:\n",
        "    print(\"x is greater than 10\")\n",
        "elif x == 10:\n",
        "    print(\"x is equal to 10\")\n",
        "elif x > 5:\n",
        "    print(\"x is greater than 5 but not equal to 10\")\n",
        "else:\n",
        "    print(\"x is less than or equal to 5\")"
      ],
      "metadata": {
        "colab": {
          "base_uri": "https://localhost:8080/"
        },
        "id": "u9f2h2KJCNlY",
        "outputId": "a634e0e2-a2ea-44b1-ed50-ff2ca6054edc"
      },
      "execution_count": null,
      "outputs": [
        {
          "output_type": "stream",
          "name": "stdout",
          "text": [
            "x is less than or equal to 5\n"
          ]
        }
      ]
    },
    {
      "cell_type": "code",
      "source": [
        "#code tests for the age group of a person and then prints an admission price message.\n",
        "age = 12\n",
        "if age < 4:\n",
        " print(\"Your admission cost is $0.\")\n",
        "elif age < 18:\n",
        " print(\"Your admission cost is $5.\")\n",
        "else:\n",
        " print(\"Your admission cost is $10.\")"
      ],
      "metadata": {
        "colab": {
          "base_uri": "https://localhost:8080/"
        },
        "id": "Vx5uuprdCuOk",
        "outputId": "eb48c49f-55eb-4941-be55-45850010b887"
      },
      "execution_count": null,
      "outputs": [
        {
          "output_type": "stream",
          "name": "stdout",
          "text": [
            "Your admission cost is $5.\n"
          ]
        }
      ]
    },
    {
      "cell_type": "markdown",
      "source": [
        "## Using Multiple elif Blocks\n",
        "\n",
        " I can use multiple elif blocks in an if-elif-else chain to handle multiple conditions. This allows you to test multiple conditions sequentially and execute the code block corresponding to the first condition that evaluates to True. \n"
      ],
      "metadata": {
        "id": "JpdLNLvRDF2r"
      }
    },
    {
      "cell_type": "code",
      "source": [
        "#Let’s say that anyone 65 or older pays half the regular admission, or $5.\n",
        "age = 12\n",
        "if age < 4:\n",
        " price = 0\n",
        "elif age < 18:\n",
        " price = 5\n",
        "elif age < 65:\n",
        " price = 10\n",
        "else:\n",
        " price = 5\n",
        "print(\"Your admission cost is $\" + str(price) + \".\")"
      ],
      "metadata": {
        "colab": {
          "base_uri": "https://localhost:8080/"
        },
        "id": "8br80H18DGuj",
        "outputId": "f52d8064-b67f-472e-c263-538562272eac"
      },
      "execution_count": null,
      "outputs": [
        {
          "output_type": "stream",
          "name": "stdout",
          "text": [
            "Your admission cost is $5.\n"
          ]
        }
      ]
    },
    {
      "cell_type": "markdown",
      "source": [
        "# Omitting the else Block\n",
        "\n",
        "I can omit the else block in an if-elif-else chain if you don't need to specify any code to execute when all conditions are False. In such cases, the if-elif chain will only execute the code block corresponding to the first condition that evaluates to True, and if none of the conditions are True, the program will continue executing the code after the if-elif chain.\n"
      ],
      "metadata": {
        "id": "0OfBmWBLDopN"
      }
    },
    {
      "cell_type": "code",
      "source": [
        "#example\n",
        "\n",
        "x = 5\n",
        "\n",
        "if x > 10:\n",
        "    print(\"x is greater than 10\")\n",
        "elif x == 10:\n",
        "    print(\"x is equal to 10\")\n",
        "elif x > 5:\n",
        "    print(\"x is greater than 5 but not equal to 10\")"
      ],
      "metadata": {
        "id": "6kgRv9YiD4Pg"
      },
      "execution_count": null,
      "outputs": []
    },
    {
      "cell_type": "code",
      "source": [
        "'''sometimes it is clearer to use an additional\n",
        "elif statement that catches the specific condition of interest'''\n",
        "\n",
        "age = 12\n",
        "if age < 4:\n",
        " price = 0\n",
        "elif age < 18:\n",
        " price = 5\n",
        "elif age < 65:\n",
        " price = 10\n",
        "elif age >= 65:\n",
        " price = 5\n",
        "print(\"Your admission cost is $\" + str(price) + \".\")\n"
      ],
      "metadata": {
        "colab": {
          "base_uri": "https://localhost:8080/"
        },
        "id": "hNR-ob4lD_JY",
        "outputId": "0b9d1323-dcc7-4d67-9c82-70aa5df4610f"
      },
      "execution_count": null,
      "outputs": [
        {
          "output_type": "stream",
          "name": "stdout",
          "text": [
            "Your admission cost is $5.\n"
          ]
        }
      ]
    },
    {
      "cell_type": "markdown",
      "source": [
        "# Testing Multiple Conditions\n",
        "\n",
        "To test multiple conditions in Python, I can use logical operators such as and and or to combine multiple boolean expressions."
      ],
      "metadata": {
        "id": "wrHrxOl-EOj_"
      }
    },
    {
      "cell_type": "code",
      "source": [
        "#example\n",
        "x = 5\n",
        "y = 10\n",
        "\n",
        "if x > 0 and y < 20:\n",
        "    print(\"Both conditions are satisfied.\")\n",
        "else:\n",
        "    print(\"At least one condition is not satisfied.\")"
      ],
      "metadata": {
        "colab": {
          "base_uri": "https://localhost:8080/"
        },
        "id": "uIA96Ci4EYQ8",
        "outputId": "816461dd-067a-472f-bef7-446cacfdcf6f"
      },
      "execution_count": null,
      "outputs": [
        {
          "output_type": "stream",
          "name": "stdout",
          "text": [
            "Both conditions are satisfied.\n"
          ]
        }
      ]
    },
    {
      "cell_type": "code",
      "source": [
        "'''If someone requests a two-topping\n",
        "pizza, you’ll need to be sure to include both toppings on their pizza'''\n",
        "\n",
        "\n",
        "requested_toppings = ['mushrooms', 'extra cheese']\n",
        "if 'mushrooms' in requested_toppings:\n",
        " print(\"Adding mushrooms.\")\n",
        "if 'pepperoni' in requested_toppings:\n",
        " print(\"Adding pepperoni.\")\n",
        "if 'extra cheese' in requested_toppings:\n",
        " print(\"Adding extra cheese.\")\n",
        "\n",
        "print(\"\\nFinished making your pizza!\")\n"
      ],
      "metadata": {
        "id": "Qx2QifEKEdZY",
        "colab": {
          "base_uri": "https://localhost:8080/"
        },
        "outputId": "d6ca292b-cf35-47d3-ab7d-a5a5df3c5f52"
      },
      "execution_count": null,
      "outputs": [
        {
          "output_type": "stream",
          "name": "stdout",
          "text": [
            "Adding mushrooms.\n",
            "Adding extra cheese.\n",
            "\n",
            "Finished making your pizza!\n"
          ]
        }
      ]
    },
    {
      "cell_type": "markdown",
      "source": [
        "# Using if Statements with Lists\n",
        "\n",
        "I can use if statements with lists to perform various operations based on the contents of the list."
      ],
      "metadata": {
        "id": "UqhGlnSqFAR_"
      }
    },
    {
      "cell_type": "markdown",
      "source": [
        "## Checking for Special Items\n",
        "\n",
        "\n",
        "\n"
      ],
      "metadata": {
        "id": "Yzswt0dvF5nW"
      }
    },
    {
      "cell_type": "code",
      "source": [
        "'''using a loop to announce each topping as it’s\n",
        "added to the pizza'''\n",
        "toppings= ['mushrooms', 'green peppers', 'extra cheese']\n",
        "for topping in requested_toppings:\n",
        " print(\"Adding \" + requested_topping + \".\")\n",
        "print(\"\\nFinished making your pizza!\")\n"
      ],
      "metadata": {
        "colab": {
          "base_uri": "https://localhost:8080/"
        },
        "id": "zJBUFMzYF6U5",
        "outputId": "9b616b3d-c57a-45b2-99c7-009af37d1d4c"
      },
      "execution_count": null,
      "outputs": [
        {
          "output_type": "stream",
          "name": "stdout",
          "text": [
            "Adding mushrooms.\n",
            "Adding mushrooms.\n",
            "\n",
            "Finished making your pizza!\n"
          ]
        }
      ]
    },
    {
      "cell_type": "code",
      "source": [
        "#Checking for special characters or patterns:\n",
        "\n",
        "usernames = ['john', 'smith', 'admin', 'user123']\n",
        "for username in usernames:\n",
        "    if username == 'admin':\n",
        "        print(\"Admin account found!\")\n",
        "    elif '123' in username:\n",
        "        print(\"User with numeric ID found!\")\n",
        "    else:\n",
        "        print(\"Regular user account:\", username)\n"
      ],
      "metadata": {
        "colab": {
          "base_uri": "https://localhost:8080/"
        },
        "id": "svrFqAPxHLG7",
        "outputId": "db1166bc-31a1-4979-ecdd-3aab1e68311f"
      },
      "execution_count": null,
      "outputs": [
        {
          "output_type": "stream",
          "name": "stdout",
          "text": [
            "Regular user account: john\n",
            "Regular user account: smith\n",
            "Admin account found!\n",
            "User with numeric ID found!\n"
          ]
        }
      ]
    },
    {
      "cell_type": "code",
      "source": [
        "#if statement inside the for loop can handle this situation appropriately\n",
        "\n",
        "requested_toppings = ['mushrooms', 'green peppers', 'extra cheese']\n",
        "for requested_topping in requested_toppings:\n",
        "    if requested_topping == 'green peppers':\n",
        "      print(\"Sorry, we are out of green peppers right now.\")\n",
        "    else:\n",
        "      print(\"Adding \" + requested_topping + \".\")\n",
        "print(\"\\nFinished making your pizza!\")"
      ],
      "metadata": {
        "colab": {
          "base_uri": "https://localhost:8080/"
        },
        "id": "SyfOZHp-GF42",
        "outputId": "b3e35ed9-6179-46f6-ada8-887f11a5e8f5"
      },
      "execution_count": null,
      "outputs": [
        {
          "output_type": "stream",
          "name": "stdout",
          "text": [
            "Adding mushrooms.\n",
            "Sorry, we are out of green peppers right now.\n",
            "Adding extra cheese.\n",
            "\n",
            "Finished making your pizza!\n"
          ]
        }
      ]
    },
    {
      "cell_type": "markdown",
      "source": [
        "## Checking That a List Is Not Empty"
      ],
      "metadata": {
        "id": "-t9kdz76GvbO"
      }
    },
    {
      "cell_type": "code",
      "source": [
        "'''If the list is not empty, we’ll build\n",
        "the pizza just as we did in the previous examples'''\n",
        "requested_toppings = []\n",
        "if requested_toppings:\n",
        " for requested_topping in requested_toppings:\n",
        "     print(\"Adding \" + requested_topping + \".\")\n",
        " print(\"\\nFinished making your pizza!\")\n",
        "else:\n",
        " print(\"Are you sure you want a plain pizza?\")"
      ],
      "metadata": {
        "colab": {
          "base_uri": "https://localhost:8080/"
        },
        "id": "Uw6Z32ugGwG3",
        "outputId": "bfa5d626-876a-4b37-b5c7-413294579158"
      },
      "execution_count": null,
      "outputs": [
        {
          "output_type": "stream",
          "name": "stdout",
          "text": [
            "Are you sure you want a plain pizza?\n"
          ]
        }
      ]
    },
    {
      "cell_type": "markdown",
      "source": [
        "## Using Multiple Lists\n",
        "\n",
        "\n",
        "When working with multiple lists, you can use various techniques to compare, combine, or perform operations on them."
      ],
      "metadata": {
        "id": "wDiuLim8HcNR"
      }
    },
    {
      "cell_type": "markdown",
      "source": [
        "## Comparing corresponding elements in two lists"
      ],
      "metadata": {
        "id": "OxybumovIn80"
      }
    },
    {
      "cell_type": "code",
      "source": [
        "#elements in two lists:\n",
        "\n",
        "list1 = [1, 2, 3]\n",
        "list2 = [4, 5, 6]\n",
        "\n",
        "for i in range(len(list1)):\n",
        "    if list1[i] > list2[i]:\n",
        "        print(list1[i], \"is greater than\", list2[i])\n",
        "    elif list1[i] < list2[i]:\n",
        "        print(list1[i], \"is less than\", list2[i])\n",
        "    else:\n",
        "        print(list1[i], \"is equal to\", list2[i])\n"
      ],
      "metadata": {
        "colab": {
          "base_uri": "https://localhost:8080/"
        },
        "id": "ZugorAcNIowB",
        "outputId": "3bd08b4d-3158-4e2f-f3a6-8585c828f75d"
      },
      "execution_count": null,
      "outputs": [
        {
          "output_type": "stream",
          "name": "stdout",
          "text": [
            "1 is less than 4\n",
            "2 is less than 5\n",
            "3 is less than 6\n"
          ]
        }
      ]
    },
    {
      "cell_type": "markdown",
      "source": [
        "## Combining two lists using the + operator"
      ],
      "metadata": {
        "id": "VTQ1-aWAIvz7"
      }
    },
    {
      "cell_type": "code",
      "source": [
        "#two lists using the + operator\n",
        "\n",
        "list1 = [1, 2, 3]\n",
        "list2 = [4, 5, 6]\n",
        "\n",
        "combined_list = list1 + list2\n",
        "print(combined_list)\n",
        "\n"
      ],
      "metadata": {
        "colab": {
          "base_uri": "https://localhost:8080/"
        },
        "id": "Z6pswE-OIu2v",
        "outputId": "93a77712-7479-4eb8-e87d-217016128b0b"
      },
      "execution_count": null,
      "outputs": [
        {
          "output_type": "stream",
          "name": "stdout",
          "text": [
            "[1, 2, 3, 4, 5, 6]\n"
          ]
        }
      ]
    },
    {
      "cell_type": "markdown",
      "source": [
        "## Performing element-wise operations on two lists"
      ],
      "metadata": {
        "id": "hE16spN3I_60"
      }
    },
    {
      "cell_type": "code",
      "source": [
        "#element-wise operations on two lists.\n",
        "\n",
        "list1 = [1, 2, 3]\n",
        "list2 = [4, 5, 6]\n",
        "\n",
        "sum_list = [a + b for a, b in zip(list1, list2)]\n",
        "print(sum_list)\n"
      ],
      "metadata": {
        "colab": {
          "base_uri": "https://localhost:8080/"
        },
        "id": "i2CU98e_JA4p",
        "outputId": "b20cf158-9fb6-4b99-d2dd-b72db430d7c6"
      },
      "execution_count": null,
      "outputs": [
        {
          "output_type": "stream",
          "name": "stdout",
          "text": [
            "[5, 7, 9]\n"
          ]
        }
      ]
    },
    {
      "cell_type": "markdown",
      "source": [
        "# Checking if all elements in one list are present in another\n"
      ],
      "metadata": {
        "id": "iIqTi18jJJ3k"
      }
    },
    {
      "cell_type": "code",
      "source": [
        "#if all elements in one list are present in another\n",
        "\n",
        "list1 = [1, 2, 3]\n",
        "list2 = [1, 2, 3, 4, 5]\n",
        "\n",
        "if all(item in list2 for item in list1):\n",
        "    print(\"All elements of list1 are present in list2.\")\n",
        "else:\n",
        "    print(\"Some elements of list1 are not present in list2.\")\n"
      ],
      "metadata": {
        "colab": {
          "base_uri": "https://localhost:8080/"
        },
        "id": "eni8pPOLJLQ-",
        "outputId": "84624bcb-44e6-4b2d-e389-bb69a312d650"
      },
      "execution_count": null,
      "outputs": [
        {
          "output_type": "stream",
          "name": "stdout",
          "text": [
            "All elements of list1 are present in list2.\n"
          ]
        }
      ]
    }
  ],
  "metadata": {
    "colab": {
      "provenance": []
    },
    "kernelspec": {
      "display_name": "Python 3",
      "name": "python3"
    },
    "language_info": {
      "name": "python"
    }
  },
  "nbformat": 4,
  "nbformat_minor": 0
}